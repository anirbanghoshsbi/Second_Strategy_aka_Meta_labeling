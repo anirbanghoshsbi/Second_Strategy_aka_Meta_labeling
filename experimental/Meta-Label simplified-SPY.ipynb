{
  "cells": [
    {
      "cell_type": "markdown",
      "metadata": {
        "id": "view-in-github",
        "colab_type": "text"
      },
      "source": [
        "<a href=\"https://colab.research.google.com/github/anirbanghoshsbi/Second_Strategy_aka_Meta_labeling/blob/main/experimental/Meta-Label%20simplified-SPY.ipynb\" target=\"_parent\"><img src=\"https://colab.research.google.com/assets/colab-badge.svg\" alt=\"Open In Colab\"/></a>"
      ]
    },
    {
      "cell_type": "code",
      "source": [
        "#!pip install --upgrade ta"
      ],
      "metadata": {
        "id": "gcMH78gLI6EA"
      },
      "execution_count": 64,
      "outputs": []
    },
    {
      "cell_type": "code",
      "source": [
        "def get_ta(df_):\n",
        "    \"\"\"\n",
        "    parameters\n",
        "    df_ (pd.DataFrame): must contain [open,high,low,close,volume] in columns.\n",
        "    \"\"\"\n",
        "    df = df_.copy()\n",
        "    # assert error\n",
        "    df.columns = [x.lower() for x in df.columns]\n",
        "    \n",
        "\n",
        "    df['m_rsi'] = ta.momentum.rsi(df.close)\n",
        "    df['m_roc'] = ta.momentum.roc(df.close)\n",
        "    df['m_cmo'] = get_cmo(df)\n",
        "    df['m_wr']  = ta.momentum.williams_r(df.high, df.low, df.close)\n",
        "    df['vm_cmf'] = ta.volume.chaikin_money_flow(df.high, df.low, df.close, df.volume)\n",
        "    df['vm_mfi'] = ta.volume.money_flow_index(df.high, df.low, df.close, df.volume)\n",
        "    df['vm_fi'] = ta.volume.force_index(df.close, df.volume)\n",
        "    df['vm_eom'] = ta.volume.ease_of_movement(df.high, df.low, df.volume)\n",
        "    df['vl_bbp'] = ta.volatility.bollinger_pband(df.close)\n",
        "    df['vl_atr'] = ta.volatility.average_true_range(df.high, df.low, df.close)\n",
        "    #df['t_sma']  = trend.sma_indicator(df.close)\n",
        "    df['t_macdd']  = ta.trend.MACD(df.close).macd_diff()\n",
        "    df['t_trix'] = ta.trend.trix(df.close)\n",
        "    df['t_cci'] = ta.trend.cci(df.high, df.low, df.close)\n",
        "    df['t_dpo'] = ta.trend.dpo(df.close)  # trend occilator\n",
        "    df['t_kst'] = ta.trend.kst(df.close)  # know sure thing\n",
        "    df['t_adx'] = ta.trend.adx(df.high, df.low, df.close)  # adx:strength of trend\n",
        "            \n",
        "    return df \n",
        "\n",
        "\n",
        "def calculate_CMO(series): \n",
        "    sum_gains = series[series >= 0].sum()\n",
        "    sum_losses = np.abs(series[series < 0].sum())\n",
        "    cmo = 100 * ((sum_gains - sum_losses) / (sum_gains + sum_losses))\n",
        "    \n",
        "    return np.round(cmo, 3)\n",
        "\n",
        "def get_cmo(df, period=13):\n",
        "    #tmp = df.close.diff().rolling(period).apply(calculate_CMO, args=(period,), raw=True)\n",
        "    \n",
        "    tmp = df.close.diff().rolling(period).apply(calculate_CMO, raw=True)\n",
        "    return tmp\n"
      ],
      "metadata": {
        "id": "c7nH275WHmkJ"
      },
      "execution_count": 65,
      "outputs": []
    },
    {
      "cell_type": "code",
      "source": [
        "def rsi(close,window=14):\n",
        "        diff = close.diff(1)\n",
        "        up_direction = diff.where(diff > 0, 0.0)\n",
        "        down_direction = -diff.where(diff < 0, 0.0)\n",
        "        emaup = up_direction.ewm(window, adjust=False).mean()\n",
        "        emadn = down_direction.abs().ewm(window, adjust=False).mean()\n",
        "        rs = emaup / emadn\n",
        "        rsi = pd.Series(np.where(emadn == 0, 100, 100 - (100 / (1 + rs))),\n",
        "                        index=close.index)\n",
        "        return pd.Series(rsi, name=\"rsi\")\n",
        "\n",
        "def get_signal_1(close,n1=10,n2=14):\n",
        "        one = np.sign((close-close.shift(1)).ewm(n1).mean())\n",
        "        two = np.sign(rsi(close,n2)-50)\n",
        "        choindex = one+two\n",
        "        signal = pd.Series(np.where(choindex.shift(1)==2, 1, 0),index=close.index)\n",
        "        return signal\n",
        "    \n",
        "def get_signal_2(close,n1=10,n2=14):\n",
        "     one = np.sign((close-close.shift(1)).ewm(n1).mean())\n",
        "     two = np.sign(rsi(close,n2)-58)\n",
        "     choindex = one+two\n",
        "     signal = pd.Series(np.where(choindex.shift(1)==2, 1, 0),index=close.index)\n",
        "     return signal\n",
        " \n",
        "def sma_crossover_signal(close,fast_window,slow_window):\n",
        "    sma_crossover = pd.DataFrame(close)\n",
        "    sma_crossover['fast'] = close.rolling(fast_window).mean()\n",
        "    sma_crossover['slow'] = close.rolling(slow_window).mean()\n",
        "    sma_crossover.dropna(inplace=True)\n",
        "    sma_crossover['madiff'] = np.where(sma_crossover.fast>sma_crossover.slow, 1, 0)\n",
        "    sma_crossover['signal'] = sma_crossover.madiff.diff()\n",
        "    signal = sma_crossover.signal\n",
        "    return signal\n",
        "\n",
        "def rsi_signal(close,window=14,threshold=30):\n",
        "    rsi_df = pd.DataFrame(rsi(close,window))\n",
        "    rsi_df['turn'] = np.where(rsi_df.rsi<threshold,-1,0)\n",
        "    rsi_signal = rsi_df.turn.diff()\n",
        "    return rsi_signal\n",
        "\n",
        "def bb_signal(close,n=20):\n",
        "    bbsignal = pd.DataFrame(close)\n",
        "    bbsignal['bbbelow'] = np.where(ta.volatility.bollinger_lband(close,n)>close,-1,0)\n",
        "    signal = bbsignal.bbbelow.diff().dropna()\n",
        "    return signal"
      ],
      "metadata": {
        "id": "72d3rdGZHeIg"
      },
      "execution_count": 66,
      "outputs": []
    },
    {
      "cell_type": "code",
      "source": [
        "import plotly.express as px\n",
        "import plotly.graph_objects as go\n",
        "\n",
        "def add_vertical_barrier(t_events, close, days=0, hours=0, minutes=0, seconds=0):\n",
        "    \"\"\"\n",
        "    Advances in Financial Machine Learning, Snippet 3.4 page 49.\n",
        "    Adding a Vertical Barrier\n",
        "    For each index in t_events, it finds the timestamp of the next price bar at or immediately after\n",
        "    a number of days num_days. This vertical barrier can be passed as an optional argument t1 in get_events.\n",
        "    This function creates a series that has all the timestamps of when the vertical barrier would be reached.\n",
        "    :param t_events: (pd.Series) Series of events (symmetric CUSUM filter)\n",
        "    :param close: (pd.Series) Close prices\n",
        "    :param num_days: (int) Number of days to add for vertical barrier\n",
        "    :param num_hours: (int) Number of hours to add for vertical barrier\n",
        "    :param num_minutes: (int) Number of minutes to add for vertical barrier\n",
        "    :param num_seconds: (int) Number of seconds to add for vertical barrier\n",
        "    :return: (pd.Series) Timestamps of vertical barriers\n",
        "    \"\"\"\n",
        "    timedelta = pd.Timedelta(\n",
        "        '{} days, {} hours, {} minutes, {} seconds'.format(days, hours, minutes, seconds))\n",
        "    # Find index to closest to vertical barrier\n",
        "    nearest_index = close.index.searchsorted(t_events + timedelta)\n",
        "\n",
        "    # Exclude indexes which are outside the range of close price index\n",
        "    nearest_index = nearest_index[nearest_index < close.shape[0]]\n",
        "\n",
        "    # Find price index closest to vertical barrier time stamp\n",
        "    nearest_timestamp = close.index[nearest_index]\n",
        "    filtered_events = t_events[:nearest_index.shape[0]]\n",
        "\n",
        "    vertical_barriers = pd.Series(data=nearest_timestamp, index=filtered_events)\n",
        "    return vertical_barriers\n",
        "\n",
        "\n",
        "def forming_barriers(close, events, pt_sl, molecule): \n",
        "    \"\"\"\n",
        "    Advances in Financial Machine Learning, Snippet 3.2, page 45.\n",
        "    Triple Barrier Labeling Method\n",
        "    This function applies the triple-barrier labeling method. It works on a set of\n",
        "    datetime index values (molecule). This allows the program to parallelize the processing.\n",
        "    Mainly it returns a DataFrame of timestamps regarding the time when the first barriers were reached.\n",
        "    :param close: (pd.Series) Close prices\n",
        "    :param events: (pd.Series) Indices that signify \"events\" (see cusum_filter function\n",
        "    for more details)\n",
        "    :param pt_sl: (np.array) Element 0, indicates the profit taking level; Element 1 is stop loss level\n",
        "    :param molecule: (an array) A set of datetime index values for processing\n",
        "    :return: (pd.DataFrame) Timestamps of when first barrier was touched\n",
        "    \"\"\"\n",
        "    # Apply stop loss/profit taking, if it takes place before t1 (end of event)\n",
        "    events_ = events.loc[molecule]\n",
        "    out = events_[['exit']].copy(deep=True)\n",
        "\n",
        "    profit_taking_multiple = pt_sl[0]\n",
        "    stop_loss_multiple = pt_sl[1]\n",
        "\n",
        "    # Profit taking active\n",
        "    if profit_taking_multiple > 0:\n",
        "        profit_taking = profit_taking_multiple * events_['trgt']\n",
        "    else:\n",
        "        profit_taking = pd.Series(index=events.index)  # NaNs\n",
        "\n",
        "    # Stop loss active\n",
        "    if stop_loss_multiple > 0:\n",
        "        stop_loss = -stop_loss_multiple * events_['trgt']\n",
        "    else:\n",
        "        stop_loss = pd.Series(index=events.index)  # NaNs\n",
        "\n",
        "    out['pt'] = pd.Series(dtype=events.index.dtype)\n",
        "    out['sl'] = pd.Series(dtype=events.index.dtype)\n",
        "\n",
        "    # Get events\n",
        "    for loc, vertical_barrier in events_['exit'].fillna(close.index[-1]).iteritems():\n",
        "        closing_prices = close[loc: vertical_barrier]  # Path prices for a given trade\n",
        "        cum_returns = (closing_prices / close[loc] - 1) * events_.at[loc, 'side']  # Path returns\n",
        "        out.at[loc, 'sl'] = cum_returns[cum_returns < stop_loss[loc]].index.min()  # Earliest stop loss date\n",
        "        out.at[loc, 'pt'] = cum_returns[cum_returns > profit_taking[loc]].index.min()  # Earliest profit taking date\n",
        "\n",
        "    return out\n",
        "\n",
        "\n",
        "def get_barrier(close, enter, pt_sl, max_holding, target=None, side=None):\n",
        "    \"\"\"\n",
        "    :param close: (pd.Series) Close prices\n",
        "    :param enter: (pd.Series) of entry points. These are timestamps that will seed every triple barrier.\n",
        "        These are the timestamps\n",
        "    :param pt_sl: (2 element array) Element 0, indicates the profit taking level; Element 1 is stop loss level.\n",
        "        A non-negative float that sets the width of the two barriers. (if target is not None, pt_sl is ratio)\n",
        "    :param target: (pd.Series) target rate\n",
        "    :param max_holding: (2 element list) [days, hours]\n",
        "    :param side: (pd.Series) Side of the bet (long/short) as decided by the primary model.\n",
        "        1 if long, -1 if short\n",
        "    :return: (pd.DataFrame) Events\n",
        "            -events.index is event's starttime\n",
        "            -events['exit'] is event's endtime\n",
        "            -events['side'] implies the algo's position side\n",
        "            -events['ret'] is return of each bet\n",
        "    \"\"\"\n",
        "\n",
        "    # 1) Get target\n",
        "    if target is None:\n",
        "        target_ = pd.Series(1,index=enter)\n",
        "    \n",
        "    else:\n",
        "        target_ = target.reindex(enter)\n",
        "\n",
        "    # 2) Get vertical barrier (max holding period)\n",
        "    vertical_barrier = add_vertical_barrier(enter, close, days=max_holding[0], hours=max_holding[1])\n",
        "\n",
        "    # 3) Form events object, apply stop loss on vertical barrier\n",
        "    if side is None:\n",
        "        side_ = pd.Series(1.0, index=target_.index)\n",
        "        pt_sl_ = [pt_sl[0], pt_sl[1]]\n",
        "    else:\n",
        "        side_ = side.reindex(target_.index)  # Subset side_prediction on target index.\n",
        "        pt_sl_ = pt_sl[:2]\n",
        "\n",
        "    # Create a new df\n",
        "    events = pd.concat({'exit': vertical_barrier, 'trgt': target_,'side': side_}, axis=1)\n",
        "\n",
        "    # Apply Triple Barrier\n",
        "    first_touch_dates = forming_barriers(close, events, pt_sl_, events.index)\n",
        "    \n",
        "\n",
        "    for ind in events.index:\n",
        "        events.at[ind, 'exit'] = first_touch_dates.loc[ind, :].dropna().min()\n",
        "\n",
        "    events_x = events.dropna(subset=['exit'])\n",
        "\n",
        "    out_df = pd.DataFrame(index=events.index)\n",
        "    out_df['exit'] = events['exit']\n",
        "    out_df['price'] = close\n",
        "    out_df['ret'] = 0\n",
        "    out_df.loc[events_x.index,'ret'] = (np.log(close.loc[events_x['exit'].array].array) - np.log(close.loc[events_x.index])) * events['side']\n",
        "    out_df['side'] = events['side']\n",
        "    return out_df\n",
        "\n",
        "def grid_pt_sl(pt,sl,close,enter,max_holding,side):\n",
        "    \"\"\"\n",
        "    :param pt: list of profit taking target rate\n",
        "    :param sl: list of stop loss target rate\n",
        "    :return: (pd.DataFrame) Cumulative Returns of each pt_sl\n",
        "            row = profit taking target rate, columns = stop loss target rate\n",
        "    \"\"\"\n",
        "    out = np.ones((len(pt),len(sl)))\n",
        "    df = pd.DataFrame(out)\n",
        "    df.index = pt\n",
        "    df.columns = sl\n",
        "    for i in pt:\n",
        "        for j in sl:\n",
        "            pt_sl = [i,j]\n",
        "            df.loc[i,j] = get_barrier(close,enter,pt_sl,max_holding,side).ret.cumsum()[-1]\n",
        "    return df\n",
        "\n",
        "def get_wallet(close, barrier, initial_money=0, bet_size=None):\n",
        "    \"\"\"\n",
        "    :param close: series of price\n",
        "    :param barrier: DataFrame from get_barrier()\n",
        "                barrier must include column 'exit'\n",
        "    :return: (pd.DataFrame) Cumulative Returns of each pt_sl\n",
        "            row = profit taking target rate, columns = stop loss target rate\n",
        "    \"\"\"\n",
        "    close = close.round(2)\n",
        "    if bet_size is None:\n",
        "        bet_size = pd.Series(np.ones(len(close)),index=close.index)\n",
        "    bet_amount = bet_size.loc[barrier.index]\n",
        "    spend = bet_amount*close.loc[barrier.index]\n",
        "    receive = pd.Series(close.loc[barrier.exit.dropna()].values, index=barrier.dropna(subset=['exit']).index)*bet_amount\n",
        "    receive = receive.fillna(0)\n",
        "    close_exit = pd.Series(receive.loc[barrier.index].values,index=barrier.exit).groupby(by='exit',axis=0).sum()\n",
        "    close_exit = close_exit.rename('money_receive')\n",
        "    \n",
        "    wallet_0 = pd.DataFrame({'exit':barrier.exit,'price':close,'money_spent':spend})\n",
        "    wallet = wallet_0.join(close_exit).fillna(0)\n",
        "    wallet = wallet.drop(index= wallet.loc[wallet.money_spent+wallet.money_receive==0].index)\n",
        "    \n",
        "    buy_amount = bet_amount\n",
        "    buy_amount = buy_amount.rename('buy_amount')\n",
        "    sell_amount = (wallet.money_receive/wallet.price).round()\n",
        "    sell_amount = sell_amount.rename('sell_amount')\n",
        "    \n",
        "    n_stock = ((wallet.money_spent/wallet.price).round()-(wallet.money_receive/wallet.price).round()).cumsum()\n",
        "    n_stock = n_stock.rename('n_stock')\n",
        "    \n",
        "    inventory = (-wallet.money_spent+wallet.money_receive).cumsum() + initial_money\n",
        "    inventory = inventory.rename('cash_inventory')\n",
        "    \n",
        "    out = wallet.join([buy_amount,sell_amount,n_stock,inventory])\n",
        "    out = out.fillna(0)\n",
        "    return out\n",
        "\n",
        "def show_results(wallet):\n",
        "    \"\"\"\n",
        "    \n",
        "    Parameters\n",
        "    ----------\n",
        "    wallet : dataframe from get_wallet()\n",
        "    Returns\n",
        "    -------\n",
        "    show results\n",
        "    \"\"\"\n",
        "    initial_invest = wallet.cash_inventory[0]+wallet.money_spent[0]\n",
        "    cash_in_hand = wallet.cash_inventory[-1]\n",
        "    stock_owned = wallet.n_stock[-1]\n",
        "    stock_price_now = wallet.price[-1]\n",
        "    total_asset = cash_in_hand + stock_owned*stock_price_now\n",
        "    total_gain = total_asset-initial_invest\n",
        "    total_return = total_gain/initial_invest\n",
        "    tcost = wallet.money_receive.sum() * 0.003 + 0 # 0.3% tax, no fee\n",
        "    \n",
        "    print(\"Your initial investment money : {}\".format(initial_invest))\n",
        "    print(\"You now have cash : {}\".format(cash_in_hand))\n",
        "    print(\"You now have n of stocks : {}\".format(stock_owned))\n",
        "    print(\"Your total asset (cash+stock) now : {}\".format(total_asset))\n",
        "    print(\"Total gain : {}\".format(total_gain))\n",
        "    print(\"Transaction costs : {}\".format(tcost))\n",
        "    print(\"Total profit : {}\".format(total_gain-tcost))\n",
        "\n",
        "def get_plot_wallet(close,barrier,wallet):\n",
        "    \n",
        "    plot_df = close.to_frame().join(barrier)\n",
        "    ret_abs = plot_df.ret.abs()\n",
        "    plot_df['ret_size']=ret_abs\n",
        "    ret_sign = np.sign(plot_df.ret)\n",
        "    dfret = ret_sign.to_frame()\n",
        "    dfret[dfret.ret==1] = 'profit'\n",
        "    dfret[dfret.ret==-1] = 'loss'\n",
        "    dfret[dfret.ret==0] = 'exit point'\n",
        "    plot_df['This bet is']=dfret.ret\n",
        "    plot_wallet = wallet.join(plot_df.dropna()[['This bet is','ret_size']])\n",
        "    plot_wallet = plot_wallet.reset_index()\n",
        "    plot_wallet = plot_wallet.fillna({'This bet is':'exit point','ret_size':0})\n",
        "    plot_wallet = plot_wallet.rename(columns={'timestamp':'Date'})\n",
        "    return plot_wallet\n",
        "\n",
        "def get_metalabel(barrier):\n",
        "    \n",
        "    \"\"\"\n",
        "    Parameters\n",
        "    ----------\n",
        "    barrier : dataframe\n",
        "        from get_barrier()\n",
        "    Returns\n",
        "    -------\n",
        "    series of meta-label (1 profit(go) 0 loss(pass))\n",
        "    \"\"\"\n",
        "    retsign = np.sign(barrier.ret)\n",
        "    retsign = retsign.loc[retsign!=0]\n",
        "    out = .5*(retsign+1)\n",
        "    out = out.rename('label')\n",
        "    return out\n",
        "\n",
        "def plot(close,barrier,wallet):   \n",
        "    plot_wallet = get_plot_wallet(close,barrier,wallet)\n",
        "    initial_invest = wallet.cash_inventory[0]+wallet.money_spent[0]\n",
        "    cash_in_hand = wallet.cash_inventory[-1]\n",
        "    stock_owned = wallet.n_stock[-1]\n",
        "    stock_price_now = wallet.price[-1]\n",
        "    total_asset = cash_in_hand + stock_owned*stock_price_now\n",
        "    total_gain = total_asset-initial_invest\n",
        "    total_return = total_gain/initial_invest\n",
        "    \n",
        "    fig = px.scatter(plot_wallet, x=\"Date\", y=\"price\", size='buy_amount', color='This bet is'\n",
        "                     ,size_max=10, hover_data=['exit','n_stock','cash_inventory','money_spent','money_receive'],color_discrete_sequence=[\"red\", \"black\", \"blue\"])\n",
        "    \n",
        "    fig.update_xaxes(ticklabelmode=\"period\")\n",
        "    fig.update_layout(title_text='Now having cash + stock value = {}, Total gain = {}'.format(total_asset.round(2),(total_gain).round(2)))\n",
        "    fig.add_trace(go.Scatter(x=close.index, y=close, mode='lines', name=\"Close Price\",opacity=0.4))\n",
        "    \n",
        "    fig.show()"
      ],
      "metadata": {
        "id": "gvbDOBPlHVsA"
      },
      "execution_count": 67,
      "outputs": []
    },
    {
      "cell_type": "code",
      "source": [
        "#!pip install yfinance"
      ],
      "metadata": {
        "id": "rgnfbGLiHHCq"
      },
      "execution_count": 68,
      "outputs": []
    },
    {
      "cell_type": "code",
      "execution_count": 69,
      "metadata": {
        "id": "s-IP8ghxHFT5"
      },
      "outputs": [],
      "source": [
        "import numpy as np\n",
        "import pandas as pd\n",
        "import datetime as dt\n",
        "import matplotlib.pyplot as plt\n",
        "import seaborn; seaborn.set()\n",
        "\n",
        "import warnings \n",
        "warnings.filterwarnings('ignore')\n",
        "\n",
        "import yfinance as yf\n",
        "from sklearn.preprocessing import MinMaxScaler, StandardScaler\n",
        "import ta\n",
        "\n"
      ]
    },
    {
      "cell_type": "code",
      "execution_count": 70,
      "metadata": {
        "id": "eKPaSqPdHFT9"
      },
      "outputs": [],
      "source": [
        "import yfinance as yf\n",
        "#df = yf.download('SPY','2001-01-01','2021-5-1')"
      ]
    },
    {
      "cell_type": "code",
      "execution_count": 71,
      "metadata": {
        "id": "2SEEIN2ZHFT-",
        "outputId": "6f2084f0-f3c4-4f27-bbce-acd461858543",
        "colab": {
          "base_uri": "https://localhost:8080/",
          "height": 455
        }
      },
      "outputs": [
        {
          "output_type": "execute_result",
          "data": {
            "text/html": [
              "\n",
              "  <div id=\"df-001a10b6-e8c8-476a-bae2-b2d2c5976ffb\">\n",
              "    <div class=\"colab-df-container\">\n",
              "      <div>\n",
              "<style scoped>\n",
              "    .dataframe tbody tr th:only-of-type {\n",
              "        vertical-align: middle;\n",
              "    }\n",
              "\n",
              "    .dataframe tbody tr th {\n",
              "        vertical-align: top;\n",
              "    }\n",
              "\n",
              "    .dataframe thead th {\n",
              "        text-align: right;\n",
              "    }\n",
              "</style>\n",
              "<table border=\"1\" class=\"dataframe\">\n",
              "  <thead>\n",
              "    <tr style=\"text-align: right;\">\n",
              "      <th></th>\n",
              "      <th>Open</th>\n",
              "      <th>High</th>\n",
              "      <th>Low</th>\n",
              "      <th>Close</th>\n",
              "      <th>Adj Close</th>\n",
              "      <th>Volume</th>\n",
              "    </tr>\n",
              "    <tr>\n",
              "      <th>Date</th>\n",
              "      <th></th>\n",
              "      <th></th>\n",
              "      <th></th>\n",
              "      <th></th>\n",
              "      <th></th>\n",
              "      <th></th>\n",
              "    </tr>\n",
              "  </thead>\n",
              "  <tbody>\n",
              "    <tr>\n",
              "      <th>2001-01-02</th>\n",
              "      <td>132.000000</td>\n",
              "      <td>132.156250</td>\n",
              "      <td>127.562500</td>\n",
              "      <td>128.812500</td>\n",
              "      <td>86.685638</td>\n",
              "      <td>8737500</td>\n",
              "    </tr>\n",
              "    <tr>\n",
              "      <th>2001-01-03</th>\n",
              "      <td>128.312500</td>\n",
              "      <td>136.000000</td>\n",
              "      <td>127.656250</td>\n",
              "      <td>135.000000</td>\n",
              "      <td>90.849564</td>\n",
              "      <td>19431600</td>\n",
              "    </tr>\n",
              "    <tr>\n",
              "      <th>2001-01-04</th>\n",
              "      <td>134.937500</td>\n",
              "      <td>135.468750</td>\n",
              "      <td>133.000000</td>\n",
              "      <td>133.546875</td>\n",
              "      <td>89.871704</td>\n",
              "      <td>9219000</td>\n",
              "    </tr>\n",
              "    <tr>\n",
              "      <th>2001-01-05</th>\n",
              "      <td>133.468750</td>\n",
              "      <td>133.625000</td>\n",
              "      <td>129.187500</td>\n",
              "      <td>129.187500</td>\n",
              "      <td>86.938004</td>\n",
              "      <td>12911400</td>\n",
              "    </tr>\n",
              "    <tr>\n",
              "      <th>2001-01-08</th>\n",
              "      <td>129.875000</td>\n",
              "      <td>130.187500</td>\n",
              "      <td>127.687500</td>\n",
              "      <td>130.187500</td>\n",
              "      <td>87.610992</td>\n",
              "      <td>6625300</td>\n",
              "    </tr>\n",
              "    <tr>\n",
              "      <th>...</th>\n",
              "      <td>...</td>\n",
              "      <td>...</td>\n",
              "      <td>...</td>\n",
              "      <td>...</td>\n",
              "      <td>...</td>\n",
              "      <td>...</td>\n",
              "    </tr>\n",
              "    <tr>\n",
              "      <th>2021-04-26</th>\n",
              "      <td>417.440002</td>\n",
              "      <td>418.220001</td>\n",
              "      <td>416.809998</td>\n",
              "      <td>417.609985</td>\n",
              "      <td>413.466339</td>\n",
              "      <td>52182400</td>\n",
              "    </tr>\n",
              "    <tr>\n",
              "      <th>2021-04-27</th>\n",
              "      <td>417.929993</td>\n",
              "      <td>418.140015</td>\n",
              "      <td>416.299988</td>\n",
              "      <td>417.519989</td>\n",
              "      <td>413.377228</td>\n",
              "      <td>51303100</td>\n",
              "    </tr>\n",
              "    <tr>\n",
              "      <th>2021-04-28</th>\n",
              "      <td>417.809998</td>\n",
              "      <td>419.010010</td>\n",
              "      <td>416.899994</td>\n",
              "      <td>417.399994</td>\n",
              "      <td>413.258423</td>\n",
              "      <td>51238900</td>\n",
              "    </tr>\n",
              "    <tr>\n",
              "      <th>2021-04-29</th>\n",
              "      <td>420.320007</td>\n",
              "      <td>420.720001</td>\n",
              "      <td>416.440002</td>\n",
              "      <td>420.059998</td>\n",
              "      <td>415.892029</td>\n",
              "      <td>78544300</td>\n",
              "    </tr>\n",
              "    <tr>\n",
              "      <th>2021-04-30</th>\n",
              "      <td>417.630005</td>\n",
              "      <td>418.540009</td>\n",
              "      <td>416.339996</td>\n",
              "      <td>417.299988</td>\n",
              "      <td>413.159393</td>\n",
              "      <td>85527000</td>\n",
              "    </tr>\n",
              "  </tbody>\n",
              "</table>\n",
              "<p>5114 rows × 6 columns</p>\n",
              "</div>\n",
              "      <button class=\"colab-df-convert\" onclick=\"convertToInteractive('df-001a10b6-e8c8-476a-bae2-b2d2c5976ffb')\"\n",
              "              title=\"Convert this dataframe to an interactive table.\"\n",
              "              style=\"display:none;\">\n",
              "        \n",
              "  <svg xmlns=\"http://www.w3.org/2000/svg\" height=\"24px\"viewBox=\"0 0 24 24\"\n",
              "       width=\"24px\">\n",
              "    <path d=\"M0 0h24v24H0V0z\" fill=\"none\"/>\n",
              "    <path d=\"M18.56 5.44l.94 2.06.94-2.06 2.06-.94-2.06-.94-.94-2.06-.94 2.06-2.06.94zm-11 1L8.5 8.5l.94-2.06 2.06-.94-2.06-.94L8.5 2.5l-.94 2.06-2.06.94zm10 10l.94 2.06.94-2.06 2.06-.94-2.06-.94-.94-2.06-.94 2.06-2.06.94z\"/><path d=\"M17.41 7.96l-1.37-1.37c-.4-.4-.92-.59-1.43-.59-.52 0-1.04.2-1.43.59L10.3 9.45l-7.72 7.72c-.78.78-.78 2.05 0 2.83L4 21.41c.39.39.9.59 1.41.59.51 0 1.02-.2 1.41-.59l7.78-7.78 2.81-2.81c.8-.78.8-2.07 0-2.86zM5.41 20L4 18.59l7.72-7.72 1.47 1.35L5.41 20z\"/>\n",
              "  </svg>\n",
              "      </button>\n",
              "      \n",
              "  <style>\n",
              "    .colab-df-container {\n",
              "      display:flex;\n",
              "      flex-wrap:wrap;\n",
              "      gap: 12px;\n",
              "    }\n",
              "\n",
              "    .colab-df-convert {\n",
              "      background-color: #E8F0FE;\n",
              "      border: none;\n",
              "      border-radius: 50%;\n",
              "      cursor: pointer;\n",
              "      display: none;\n",
              "      fill: #1967D2;\n",
              "      height: 32px;\n",
              "      padding: 0 0 0 0;\n",
              "      width: 32px;\n",
              "    }\n",
              "\n",
              "    .colab-df-convert:hover {\n",
              "      background-color: #E2EBFA;\n",
              "      box-shadow: 0px 1px 2px rgba(60, 64, 67, 0.3), 0px 1px 3px 1px rgba(60, 64, 67, 0.15);\n",
              "      fill: #174EA6;\n",
              "    }\n",
              "\n",
              "    [theme=dark] .colab-df-convert {\n",
              "      background-color: #3B4455;\n",
              "      fill: #D2E3FC;\n",
              "    }\n",
              "\n",
              "    [theme=dark] .colab-df-convert:hover {\n",
              "      background-color: #434B5C;\n",
              "      box-shadow: 0px 1px 3px 1px rgba(0, 0, 0, 0.15);\n",
              "      filter: drop-shadow(0px 1px 2px rgba(0, 0, 0, 0.3));\n",
              "      fill: #FFFFFF;\n",
              "    }\n",
              "  </style>\n",
              "\n",
              "      <script>\n",
              "        const buttonEl =\n",
              "          document.querySelector('#df-001a10b6-e8c8-476a-bae2-b2d2c5976ffb button.colab-df-convert');\n",
              "        buttonEl.style.display =\n",
              "          google.colab.kernel.accessAllowed ? 'block' : 'none';\n",
              "\n",
              "        async function convertToInteractive(key) {\n",
              "          const element = document.querySelector('#df-001a10b6-e8c8-476a-bae2-b2d2c5976ffb');\n",
              "          const dataTable =\n",
              "            await google.colab.kernel.invokeFunction('convertToInteractive',\n",
              "                                                     [key], {});\n",
              "          if (!dataTable) return;\n",
              "\n",
              "          const docLinkHtml = 'Like what you see? Visit the ' +\n",
              "            '<a target=\"_blank\" href=https://colab.research.google.com/notebooks/data_table.ipynb>data table notebook</a>'\n",
              "            + ' to learn more about interactive tables.';\n",
              "          element.innerHTML = '';\n",
              "          dataTable['output_type'] = 'display_data';\n",
              "          await google.colab.output.renderOutput(dataTable, element);\n",
              "          const docLink = document.createElement('div');\n",
              "          docLink.innerHTML = docLinkHtml;\n",
              "          element.appendChild(docLink);\n",
              "        }\n",
              "      </script>\n",
              "    </div>\n",
              "  </div>\n",
              "  "
            ],
            "text/plain": [
              "                  Open        High  ...   Adj Close    Volume\n",
              "Date                                ...                      \n",
              "2001-01-02  132.000000  132.156250  ...   86.685638   8737500\n",
              "2001-01-03  128.312500  136.000000  ...   90.849564  19431600\n",
              "2001-01-04  134.937500  135.468750  ...   89.871704   9219000\n",
              "2001-01-05  133.468750  133.625000  ...   86.938004  12911400\n",
              "2001-01-08  129.875000  130.187500  ...   87.610992   6625300\n",
              "...                ...         ...  ...         ...       ...\n",
              "2021-04-26  417.440002  418.220001  ...  413.466339  52182400\n",
              "2021-04-27  417.929993  418.140015  ...  413.377228  51303100\n",
              "2021-04-28  417.809998  419.010010  ...  413.258423  51238900\n",
              "2021-04-29  420.320007  420.720001  ...  415.892029  78544300\n",
              "2021-04-30  417.630005  418.540009  ...  413.159393  85527000\n",
              "\n",
              "[5114 rows x 6 columns]"
            ]
          },
          "metadata": {},
          "execution_count": 71
        }
      ],
      "source": [
        "df"
      ]
    },
    {
      "cell_type": "code",
      "execution_count": 72,
      "metadata": {
        "id": "IRExLj7qHFT_"
      },
      "outputs": [],
      "source": [
        "close = pd.to_numeric(df.Close)"
      ]
    },
    {
      "cell_type": "code",
      "execution_count": 73,
      "metadata": {
        "id": "IsDVvz1SHFUA",
        "outputId": "56a63ee7-8c72-4862-caf6-2dddef28a31a",
        "colab": {
          "base_uri": "https://localhost:8080/",
          "height": 293
        }
      },
      "outputs": [
        {
          "output_type": "execute_result",
          "data": {
            "text/plain": [
              "<matplotlib.axes._subplots.AxesSubplot at 0x7febcd701a90>"
            ]
          },
          "metadata": {},
          "execution_count": 73
        },
        {
          "output_type": "display_data",
          "data": {
            "image/png": "[encoded data removed]",
            "text/plain": [
              "<Figure size 432x288 with 1 Axes>"
            ]
          },
          "metadata": {}
        }
      ],
      "source": [
        "close.plot()"
      ]
    },
    {
      "cell_type": "markdown",
      "metadata": {
        "id": "bQ9xPdOdHFUA"
      },
      "source": [
        "- Sharpe Ratio: $\\frac{\\mu}{\\sigma} = \\frac{p\\pi+(1-p)(-\\pi)}{\\sqrt{2\\pi p(1-p)}} = \\frac{p -0.5}{\\sqrt{p(1-p)}}$ \n",
        "- $p$ (probability of winning) is given by first model"
      ]
    },
    {
      "cell_type": "markdown",
      "metadata": {
        "id": "KdYQi9LNHFUD"
      },
      "source": [
        "Triple-Barrier\n",
        "\n",
        "- why did I choose triple-barrier trading method?\n",
        "    - I can fix profit and loss symmetrically"
      ]
    },
    {
      "cell_type": "code",
      "execution_count": 74,
      "metadata": {
        "id": "GixM0TRxHFUE"
      },
      "outputs": [],
      "source": [
        "f_window = 20\n",
        "s_window = 60\n",
        "\n",
        "fema = ta.trend.ema_indicator(close,f_window)\n",
        "sema = ta.trend.ema_indicator(close,s_window)\n",
        "\n",
        "diffema = fema-sema\n",
        "diffema = np.sign(diffema.diff()).dropna()\n",
        "where = (diffema == 1)"
      ]
    },
    {
      "cell_type": "code",
      "execution_count": 75,
      "metadata": {
        "id": "6938NfvpHFUF"
      },
      "outputs": [],
      "source": [
        "enter = diffema[where].index"
      ]
    },
    {
      "cell_type": "code",
      "execution_count": 76,
      "metadata": {
        "id": "kMbm7d7pHFUG",
        "outputId": "b39dbad7-881c-46b0-ea45-bd1e61b14983",
        "colab": {
          "base_uri": "https://localhost:8080/"
        }
      },
      "outputs": [
        {
          "output_type": "execute_result",
          "data": {
            "text/plain": [
              "DatetimeIndex(['2001-03-30', '2001-04-05', '2001-04-06', '2001-04-09',\n",
              "               '2001-04-10', '2001-04-11', '2001-04-12', '2001-04-16',\n",
              "               '2001-04-17', '2001-04-18',\n",
              "               ...\n",
              "               '2021-04-14', '2021-04-15', '2021-04-16', '2021-04-19',\n",
              "               '2021-04-21', '2021-04-23', '2021-04-26', '2021-04-27',\n",
              "               '2021-04-28', '2021-04-29'],\n",
              "              dtype='datetime64[ns]', name='Date', length=2773, freq=None)"
            ]
          },
          "metadata": {},
          "execution_count": 76
        }
      ],
      "source": [
        "enter"
      ]
    },
    {
      "cell_type": "code",
      "execution_count": 77,
      "metadata": {
        "id": "sYnATqJ4HFUG"
      },
      "outputs": [],
      "source": [
        "pt_sl = [0.05,0.05]"
      ]
    },
    {
      "cell_type": "markdown",
      "metadata": {
        "id": "hqvE1v56HFUH"
      },
      "source": [
        "$\\pi=0.05$"
      ]
    },
    {
      "cell_type": "code",
      "execution_count": 78,
      "metadata": {
        "scrolled": true,
        "id": "oZzfvIzlHFUH"
      },
      "outputs": [],
      "source": [
        "max_holding = [360,0]\n",
        "\n",
        "barrier = get_barrier(close,enter,pt_sl,max_holding=max_holding,target=None)"
      ]
    },
    {
      "cell_type": "code",
      "execution_count": 79,
      "metadata": {
        "id": "aJ_MXwKUHFUH",
        "outputId": "6787861a-8858-413e-f0a0-fd216926daa9",
        "colab": {
          "base_uri": "https://localhost:8080/",
          "height": 455
        }
      },
      "outputs": [
        {
          "output_type": "execute_result",
          "data": {
            "text/html": [
              "\n",
              "  <div id=\"df-f96e804e-f240-4890-89fb-60322bf265cb\">\n",
              "    <div class=\"colab-df-container\">\n",
              "      <div>\n",
              "<style scoped>\n",
              "    .dataframe tbody tr th:only-of-type {\n",
              "        vertical-align: middle;\n",
              "    }\n",
              "\n",
              "    .dataframe tbody tr th {\n",
              "        vertical-align: top;\n",
              "    }\n",
              "\n",
              "    .dataframe thead th {\n",
              "        text-align: right;\n",
              "    }\n",
              "</style>\n",
              "<table border=\"1\" class=\"dataframe\">\n",
              "  <thead>\n",
              "    <tr style=\"text-align: right;\">\n",
              "      <th></th>\n",
              "      <th>exit</th>\n",
              "      <th>price</th>\n",
              "      <th>ret</th>\n",
              "      <th>side</th>\n",
              "    </tr>\n",
              "    <tr>\n",
              "      <th>Date</th>\n",
              "      <th></th>\n",
              "      <th></th>\n",
              "      <th></th>\n",
              "      <th></th>\n",
              "    </tr>\n",
              "  </thead>\n",
              "  <tbody>\n",
              "    <tr>\n",
              "      <th>2001-03-30</th>\n",
              "      <td>2001-04-03</td>\n",
              "      <td>116.690002</td>\n",
              "      <td>-0.055501</td>\n",
              "      <td>1.0</td>\n",
              "    </tr>\n",
              "    <tr>\n",
              "      <th>2001-04-05</th>\n",
              "      <td>2001-04-18</td>\n",
              "      <td>115.050003</td>\n",
              "      <td>0.074915</td>\n",
              "      <td>1.0</td>\n",
              "    </tr>\n",
              "    <tr>\n",
              "      <th>2001-04-06</th>\n",
              "      <td>2001-04-17</td>\n",
              "      <td>113.300003</td>\n",
              "      <td>0.051267</td>\n",
              "      <td>1.0</td>\n",
              "    </tr>\n",
              "    <tr>\n",
              "      <th>2001-04-09</th>\n",
              "      <td>2001-04-18</td>\n",
              "      <td>114.559998</td>\n",
              "      <td>0.079183</td>\n",
              "      <td>1.0</td>\n",
              "    </tr>\n",
              "    <tr>\n",
              "      <th>2001-04-10</th>\n",
              "      <td>2001-04-18</td>\n",
              "      <td>116.650002</td>\n",
              "      <td>0.061104</td>\n",
              "      <td>1.0</td>\n",
              "    </tr>\n",
              "    <tr>\n",
              "      <th>...</th>\n",
              "      <td>...</td>\n",
              "      <td>...</td>\n",
              "      <td>...</td>\n",
              "      <td>...</td>\n",
              "    </tr>\n",
              "    <tr>\n",
              "      <th>2021-04-23</th>\n",
              "      <td>NaT</td>\n",
              "      <td>416.739990</td>\n",
              "      <td>0.000000</td>\n",
              "      <td>1.0</td>\n",
              "    </tr>\n",
              "    <tr>\n",
              "      <th>2021-04-26</th>\n",
              "      <td>NaT</td>\n",
              "      <td>417.609985</td>\n",
              "      <td>0.000000</td>\n",
              "      <td>1.0</td>\n",
              "    </tr>\n",
              "    <tr>\n",
              "      <th>2021-04-27</th>\n",
              "      <td>NaT</td>\n",
              "      <td>417.519989</td>\n",
              "      <td>0.000000</td>\n",
              "      <td>1.0</td>\n",
              "    </tr>\n",
              "    <tr>\n",
              "      <th>2021-04-28</th>\n",
              "      <td>NaT</td>\n",
              "      <td>417.399994</td>\n",
              "      <td>0.000000</td>\n",
              "      <td>1.0</td>\n",
              "    </tr>\n",
              "    <tr>\n",
              "      <th>2021-04-29</th>\n",
              "      <td>NaT</td>\n",
              "      <td>420.059998</td>\n",
              "      <td>0.000000</td>\n",
              "      <td>1.0</td>\n",
              "    </tr>\n",
              "  </tbody>\n",
              "</table>\n",
              "<p>2773 rows × 4 columns</p>\n",
              "</div>\n",
              "      <button class=\"colab-df-convert\" onclick=\"convertToInteractive('df-f96e804e-f240-4890-89fb-60322bf265cb')\"\n",
              "              title=\"Convert this dataframe to an interactive table.\"\n",
              "              style=\"display:none;\">\n",
              "        \n",
              "  <svg xmlns=\"http://www.w3.org/2000/svg\" height=\"24px\"viewBox=\"0 0 24 24\"\n",
              "       width=\"24px\">\n",
              "    <path d=\"M0 0h24v24H0V0z\" fill=\"none\"/>\n",
              "    <path d=\"M18.56 5.44l.94 2.06.94-2.06 2.06-.94-2.06-.94-.94-2.06-.94 2.06-2.06.94zm-11 1L8.5 8.5l.94-2.06 2.06-.94-2.06-.94L8.5 2.5l-.94 2.06-2.06.94zm10 10l.94 2.06.94-2.06 2.06-.94-2.06-.94-.94-2.06-.94 2.06-2.06.94z\"/><path d=\"M17.41 7.96l-1.37-1.37c-.4-.4-.92-.59-1.43-.59-.52 0-1.04.2-1.43.59L10.3 9.45l-7.72 7.72c-.78.78-.78 2.05 0 2.83L4 21.41c.39.39.9.59 1.41.59.51 0 1.02-.2 1.41-.59l7.78-7.78 2.81-2.81c.8-.78.8-2.07 0-2.86zM5.41 20L4 18.59l7.72-7.72 1.47 1.35L5.41 20z\"/>\n",
              "  </svg>\n",
              "      </button>\n",
              "      \n",
              "  <style>\n",
              "    .colab-df-container {\n",
              "      display:flex;\n",
              "      flex-wrap:wrap;\n",
              "      gap: 12px;\n",
              "    }\n",
              "\n",
              "    .colab-df-convert {\n",
              "      background-color: #E8F0FE;\n",
              "      border: none;\n",
              "      border-radius: 50%;\n",
              "      cursor: pointer;\n",
              "      display: none;\n",
              "      fill: #1967D2;\n",
              "      height: 32px;\n",
              "      padding: 0 0 0 0;\n",
              "      width: 32px;\n",
              "    }\n",
              "\n",
              "    .colab-df-convert:hover {\n",
              "      background-color: #E2EBFA;\n",
              "      box-shadow: 0px 1px 2px rgba(60, 64, 67, 0.3), 0px 1px 3px 1px rgba(60, 64, 67, 0.15);\n",
              "      fill: #174EA6;\n",
              "    }\n",
              "\n",
              "    [theme=dark] .colab-df-convert {\n",
              "      background-color: #3B4455;\n",
              "      fill: #D2E3FC;\n",
              "    }\n",
              "\n",
              "    [theme=dark] .colab-df-convert:hover {\n",
              "      background-color: #434B5C;\n",
              "      box-shadow: 0px 1px 3px 1px rgba(0, 0, 0, 0.15);\n",
              "      filter: drop-shadow(0px 1px 2px rgba(0, 0, 0, 0.3));\n",
              "      fill: #FFFFFF;\n",
              "    }\n",
              "  </style>\n",
              "\n",
              "      <script>\n",
              "        const buttonEl =\n",
              "          document.querySelector('#df-f96e804e-f240-4890-89fb-60322bf265cb button.colab-df-convert');\n",
              "        buttonEl.style.display =\n",
              "          google.colab.kernel.accessAllowed ? 'block' : 'none';\n",
              "\n",
              "        async function convertToInteractive(key) {\n",
              "          const element = document.querySelector('#df-f96e804e-f240-4890-89fb-60322bf265cb');\n",
              "          const dataTable =\n",
              "            await google.colab.kernel.invokeFunction('convertToInteractive',\n",
              "                                                     [key], {});\n",
              "          if (!dataTable) return;\n",
              "\n",
              "          const docLinkHtml = 'Like what you see? Visit the ' +\n",
              "            '<a target=\"_blank\" href=https://colab.research.google.com/notebooks/data_table.ipynb>data table notebook</a>'\n",
              "            + ' to learn more about interactive tables.';\n",
              "          element.innerHTML = '';\n",
              "          dataTable['output_type'] = 'display_data';\n",
              "          await google.colab.output.renderOutput(dataTable, element);\n",
              "          const docLink = document.createElement('div');\n",
              "          docLink.innerHTML = docLinkHtml;\n",
              "          element.appendChild(docLink);\n",
              "        }\n",
              "      </script>\n",
              "    </div>\n",
              "  </div>\n",
              "  "
            ],
            "text/plain": [
              "                 exit       price       ret  side\n",
              "Date                                             \n",
              "2001-03-30 2001-04-03  116.690002 -0.055501   1.0\n",
              "2001-04-05 2001-04-18  115.050003  0.074915   1.0\n",
              "2001-04-06 2001-04-17  113.300003  0.051267   1.0\n",
              "2001-04-09 2001-04-18  114.559998  0.079183   1.0\n",
              "2001-04-10 2001-04-18  116.650002  0.061104   1.0\n",
              "...               ...         ...       ...   ...\n",
              "2021-04-23        NaT  416.739990  0.000000   1.0\n",
              "2021-04-26        NaT  417.609985  0.000000   1.0\n",
              "2021-04-27        NaT  417.519989  0.000000   1.0\n",
              "2021-04-28        NaT  417.399994  0.000000   1.0\n",
              "2021-04-29        NaT  420.059998  0.000000   1.0\n",
              "\n",
              "[2773 rows x 4 columns]"
            ]
          },
          "metadata": {},
          "execution_count": 79
        }
      ],
      "source": [
        "barrier"
      ]
    },
    {
      "cell_type": "markdown",
      "metadata": {
        "id": "Qnk5BoseHFUI"
      },
      "source": [
        "**we will see -1000(test periods) only**"
      ]
    },
    {
      "cell_type": "code",
      "execution_count": 80,
      "metadata": {
        "id": "IaIQ8M_EHFUJ"
      },
      "outputs": [],
      "source": [
        "returns = barrier.ret\n",
        "returns = returns[returns!=0]"
      ]
    },
    {
      "cell_type": "code",
      "execution_count": 81,
      "metadata": {
        "id": "xUfFQn1nHFUJ",
        "outputId": "217df263-7015-48f2-dc8d-0e67cd9bc534",
        "colab": {
          "base_uri": "https://localhost:8080/"
        }
      },
      "outputs": [
        {
          "output_type": "execute_result",
          "data": {
            "text/plain": [
              "count    2755.000000\n",
              "mean        0.009034\n",
              "std         0.055761\n",
              "min        -0.108301\n",
              "25%        -0.055795\n",
              "50%         0.049545\n",
              "75%         0.052078\n",
              "max         0.079183\n",
              "Name: ret, dtype: float64"
            ]
          },
          "metadata": {},
          "execution_count": 81
        }
      ],
      "source": [
        "returns.describe()"
      ]
    },
    {
      "cell_type": "code",
      "execution_count": 82,
      "metadata": {
        "id": "U5Ond0urHFUJ",
        "outputId": "0ad45d23-342c-4f93-c259-1ee6d28e563e",
        "colab": {
          "base_uri": "https://localhost:8080/",
          "height": 410
        }
      },
      "outputs": [
        {
          "output_type": "display_data",
          "data": {
            "image/png": "[encoded data removed]",
            "text/plain": [
              "<Figure size 720x432 with 1 Axes>"
            ]
          },
          "metadata": {}
        }
      ],
      "source": [
        "plt.figure(figsize=(10,6))\n",
        "seaborn.distplot(returns)\n",
        "plt.title('distribution of returns')\n",
        "plt.show()"
      ]
    },
    {
      "cell_type": "code",
      "execution_count": 83,
      "metadata": {
        "id": "Pg6r2V4GHFUK",
        "outputId": "23557adc-0e87-4f22-9437-6cdc6a133478",
        "colab": {
          "base_uri": "https://localhost:8080/"
        }
      },
      "outputs": [
        {
          "output_type": "execute_result",
          "data": {
            "text/plain": [
              " 1.0    673\n",
              "-1.0    327\n",
              "Name: pnl, dtype: int64"
            ]
          },
          "metadata": {},
          "execution_count": 83
        }
      ],
      "source": [
        "y_ = np.sign(returns).rename('pnl')\n",
        "y_test = y_.iloc[-1000:]\n",
        "y_test.value_counts()\n",
        "#profit and loss"
      ]
    },
    {
      "cell_type": "code",
      "execution_count": 84,
      "metadata": {
        "id": "yJra4SDhHFUK",
        "outputId": "bf89a000-8ce5-4c8b-a683-083e55e90aad",
        "colab": {
          "base_uri": "https://localhost:8080/"
        }
      },
      "outputs": [
        {
          "output_type": "stream",
          "name": "stdout",
          "text": [
            "Probabilities of winning (p):  0.673\n"
          ]
        }
      ],
      "source": [
        "p = y_test.value_counts().iloc[0]/(y_test.value_counts().iloc[0]+y_test.value_counts().iloc[1])\n",
        "print('Probabilities of winning (p): ',p)"
      ]
    },
    {
      "cell_type": "code",
      "execution_count": 85,
      "metadata": {
        "id": "CcoSY_WPHFUL",
        "outputId": "1790a5f2-7a0a-48ad-b93f-680f0076f36a",
        "colab": {
          "base_uri": "https://localhost:8080/"
        }
      },
      "outputs": [
        {
          "output_type": "stream",
          "name": "stdout",
          "text": [
            "Total Sharpe Ratio:  11.661775985836027\n"
          ]
        }
      ],
      "source": [
        "asr = np.sqrt(len(y_test))*(p-0.5)/np.sqrt(p*(1-p))\n",
        "print('Total Sharpe Ratio: ',asr)"
      ]
    },
    {
      "cell_type": "code",
      "execution_count": 86,
      "metadata": {
        "id": "UbXOBSwLHFUL",
        "outputId": "94bac3d9-b6ab-407d-8736-15da0686e428",
        "colab": {
          "base_uri": "https://localhost:8080/",
          "height": 284
        }
      },
      "outputs": [
        {
          "output_type": "display_data",
          "data": {
            "image/png": "[encoded data removed]",
            "text/plain": [
              "<Figure size 432x288 with 1 Axes>"
            ]
          },
          "metadata": {}
        }
      ],
      "source": [
        "plt.plot(returns.loc[y_test.index].cumsum())\n",
        "plt.title('Cumulative sum of returns without transcation cost')\n",
        "plt.show()"
      ]
    },
    {
      "cell_type": "code",
      "execution_count": 87,
      "metadata": {
        "id": "TSUAzaHEHFUL",
        "outputId": "3f85c0e9-0aa7-4ecc-a1de-4fe1f76bf70f",
        "colab": {
          "base_uri": "https://localhost:8080/",
          "height": 284
        }
      },
      "outputs": [
        {
          "output_type": "display_data",
          "data": {
            "image/png": "[encoded data removed]",
            "text/plain": [
              "<Figure size 432x288 with 1 Axes>"
            ]
          },
          "metadata": {}
        }
      ],
      "source": [
        "plt.plot((returns.loc[y_test.index]-0.0005).cumsum())\n",
        "plt.title('Cumulative sum of returns with transcation cost')\n",
        "plt.show()"
      ]
    },
    {
      "cell_type": "markdown",
      "metadata": {
        "id": "NR8uDjmnHFUM"
      },
      "source": [
        "# Improve Sharpe ratio by meta-labeling"
      ]
    },
    {
      "cell_type": "markdown",
      "metadata": {
        "id": "kOS3ZL2VHFUM"
      },
      "source": [
        "- drop loss-predicted bets\n",
        "- prediction by Machine Learning method (Random Forest Classifier)\n",
        "\n",
        "- NEED precision score > probability of winning of 1st model"
      ]
    },
    {
      "cell_type": "markdown",
      "metadata": {
        "id": "C5QLR0HNHFUM"
      },
      "source": [
        "### X\n",
        "- 21 technical indicators features"
      ]
    },
    {
      "cell_type": "code",
      "execution_count": 88,
      "metadata": {
        "id": "gvcHs3b5HFUM"
      },
      "outputs": [],
      "source": [
        "df_ = df.drop(columns='Adj Close').iloc[:,:5]\n",
        "list= []\n",
        "for i in df_.columns:\n",
        "    list.append(i.lower())\n",
        "df_.columns = list"
      ]
    },
    {
      "cell_type": "code",
      "execution_count": 89,
      "metadata": {
        "id": "nSjtzf7rHFUN"
      },
      "outputs": [],
      "source": [
        "TI = get_ta(df_).shift(1).iloc[:,4:].dropna()"
      ]
    },
    {
      "cell_type": "code",
      "execution_count": 90,
      "metadata": {
        "id": "haJ0eMWVHFUN",
        "outputId": "56d51dcc-aae2-456e-cadd-fa1fedffe353",
        "colab": {
          "base_uri": "https://localhost:8080/",
          "height": 693
        }
      },
      "outputs": [
        {
          "output_type": "execute_result",
          "data": {
            "text/html": [
              "\n",
              "  <div id=\"df-50ca4c31-f52f-47d1-8b32-9e5f67146dcf\">\n",
              "    <div class=\"colab-df-container\">\n",
              "      <div>\n",
              "<style scoped>\n",
              "    .dataframe tbody tr th:only-of-type {\n",
              "        vertical-align: middle;\n",
              "    }\n",
              "\n",
              "    .dataframe tbody tr th {\n",
              "        vertical-align: top;\n",
              "    }\n",
              "\n",
              "    .dataframe thead th {\n",
              "        text-align: right;\n",
              "    }\n",
              "</style>\n",
              "<table border=\"1\" class=\"dataframe\">\n",
              "  <thead>\n",
              "    <tr style=\"text-align: right;\">\n",
              "      <th></th>\n",
              "      <th>volume</th>\n",
              "      <th>m_rsi</th>\n",
              "      <th>m_roc</th>\n",
              "      <th>m_cmo</th>\n",
              "      <th>m_wr</th>\n",
              "      <th>vm_cmf</th>\n",
              "      <th>vm_mfi</th>\n",
              "      <th>vm_fi</th>\n",
              "      <th>vm_eom</th>\n",
              "      <th>vl_bbp</th>\n",
              "      <th>vl_atr</th>\n",
              "      <th>t_macdd</th>\n",
              "      <th>t_trix</th>\n",
              "      <th>t_cci</th>\n",
              "      <th>t_dpo</th>\n",
              "      <th>t_kst</th>\n",
              "      <th>t_adx</th>\n",
              "    </tr>\n",
              "    <tr>\n",
              "      <th>Date</th>\n",
              "      <th></th>\n",
              "      <th></th>\n",
              "      <th></th>\n",
              "      <th></th>\n",
              "      <th></th>\n",
              "      <th></th>\n",
              "      <th></th>\n",
              "      <th></th>\n",
              "      <th></th>\n",
              "      <th></th>\n",
              "      <th></th>\n",
              "      <th></th>\n",
              "      <th></th>\n",
              "      <th></th>\n",
              "      <th></th>\n",
              "      <th></th>\n",
              "      <th></th>\n",
              "    </tr>\n",
              "  </thead>\n",
              "  <tbody>\n",
              "    <tr>\n",
              "      <th>2001-03-07</th>\n",
              "      <td>6917000.0</td>\n",
              "      <td>41.391823</td>\n",
              "      <td>-5.444724</td>\n",
              "      <td>-29.199</td>\n",
              "      <td>-63.211553</td>\n",
              "      <td>0.095492</td>\n",
              "      <td>34.446373</td>\n",
              "      <td>-3.013060e+06</td>\n",
              "      <td>75.965110</td>\n",
              "      <td>0.318648</td>\n",
              "      <td>2.687741</td>\n",
              "      <td>-0.379747</td>\n",
              "      <td>-0.237680</td>\n",
              "      <td>-44.611162</td>\n",
              "      <td>1.486495</td>\n",
              "      <td>-65.232018</td>\n",
              "      <td>28.790793</td>\n",
              "    </tr>\n",
              "    <tr>\n",
              "      <th>2001-03-08</th>\n",
              "      <td>6371700.0</td>\n",
              "      <td>44.381002</td>\n",
              "      <td>-2.622692</td>\n",
              "      <td>-31.642</td>\n",
              "      <td>-55.564983</td>\n",
              "      <td>0.153108</td>\n",
              "      <td>39.142589</td>\n",
              "      <td>-1.763403e+06</td>\n",
              "      <td>-4.419486</td>\n",
              "      <td>0.395773</td>\n",
              "      <td>2.587188</td>\n",
              "      <td>-0.140437</td>\n",
              "      <td>-0.242901</td>\n",
              "      <td>-36.267458</td>\n",
              "      <td>-0.103000</td>\n",
              "      <td>-58.831159</td>\n",
              "      <td>27.840948</td>\n",
              "    </tr>\n",
              "    <tr>\n",
              "      <th>2001-03-09</th>\n",
              "      <td>6055000.0</td>\n",
              "      <td>44.852185</td>\n",
              "      <td>-0.989171</td>\n",
              "      <td>-18.959</td>\n",
              "      <td>-43.710623</td>\n",
              "      <td>0.171833</td>\n",
              "      <td>39.078487</td>\n",
              "      <td>-1.390389e+06</td>\n",
              "      <td>5.268313</td>\n",
              "      <td>0.425713</td>\n",
              "      <td>2.480960</td>\n",
              "      <td>0.043718</td>\n",
              "      <td>-0.243344</td>\n",
              "      <td>-26.416494</td>\n",
              "      <td>-2.494497</td>\n",
              "      <td>-59.023624</td>\n",
              "      <td>26.859360</td>\n",
              "    </tr>\n",
              "    <tr>\n",
              "      <th>2001-03-12</th>\n",
              "      <td>10020300.0</td>\n",
              "      <td>36.025085</td>\n",
              "      <td>-1.799078</td>\n",
              "      <td>-26.404</td>\n",
              "      <td>-82.854092</td>\n",
              "      <td>0.155874</td>\n",
              "      <td>38.276230</td>\n",
              "      <td>-6.574097e+06</td>\n",
              "      <td>-62.215131</td>\n",
              "      <td>0.176043</td>\n",
              "      <td>2.590178</td>\n",
              "      <td>-0.065339</td>\n",
              "      <td>-0.245665</td>\n",
              "      <td>-78.338804</td>\n",
              "      <td>-1.816502</td>\n",
              "      <td>-60.068923</td>\n",
              "      <td>26.957551</td>\n",
              "    </tr>\n",
              "    <tr>\n",
              "      <th>2001-03-13</th>\n",
              "      <td>13972900.0</td>\n",
              "      <td>27.762391</td>\n",
              "      <td>-6.144182</td>\n",
              "      <td>-34.972</td>\n",
              "      <td>-97.024329</td>\n",
              "      <td>0.115593</td>\n",
              "      <td>36.565477</td>\n",
              "      <td>-1.617450e+07</td>\n",
              "      <td>-152.294784</td>\n",
              "      <td>-0.091118</td>\n",
              "      <td>2.805879</td>\n",
              "      <td>-0.449314</td>\n",
              "      <td>-0.256557</td>\n",
              "      <td>-177.599689</td>\n",
              "      <td>-1.978501</td>\n",
              "      <td>-65.493150</td>\n",
              "      <td>28.272159</td>\n",
              "    </tr>\n",
              "    <tr>\n",
              "      <th>...</th>\n",
              "      <td>...</td>\n",
              "      <td>...</td>\n",
              "      <td>...</td>\n",
              "      <td>...</td>\n",
              "      <td>...</td>\n",
              "      <td>...</td>\n",
              "      <td>...</td>\n",
              "      <td>...</td>\n",
              "      <td>...</td>\n",
              "      <td>...</td>\n",
              "      <td>...</td>\n",
              "      <td>...</td>\n",
              "      <td>...</td>\n",
              "      <td>...</td>\n",
              "      <td>...</td>\n",
              "      <td>...</td>\n",
              "      <td>...</td>\n",
              "    </tr>\n",
              "    <tr>\n",
              "      <th>2021-04-26</th>\n",
              "      <td>73209200.0</td>\n",
              "      <td>65.331900</td>\n",
              "      <td>2.496371</td>\n",
              "      <td>34.017</td>\n",
              "      <td>-11.751043</td>\n",
              "      <td>0.352810</td>\n",
              "      <td>66.356066</td>\n",
              "      <td>4.455038e+07</td>\n",
              "      <td>11.671894</td>\n",
              "      <td>0.787002</td>\n",
              "      <td>4.294857</td>\n",
              "      <td>-0.003883</td>\n",
              "      <td>0.221666</td>\n",
              "      <td>83.882256</td>\n",
              "      <td>0.317491</td>\n",
              "      <td>57.451246</td>\n",
              "      <td>26.764451</td>\n",
              "    </tr>\n",
              "    <tr>\n",
              "      <th>2021-04-27</th>\n",
              "      <td>52182400.0</td>\n",
              "      <td>66.157157</td>\n",
              "      <td>2.225104</td>\n",
              "      <td>34.851</td>\n",
              "      <td>-5.000119</td>\n",
              "      <td>0.306349</td>\n",
              "      <td>66.061565</td>\n",
              "      <td>4.467153e+07</td>\n",
              "      <td>5.390611</td>\n",
              "      <td>0.791206</td>\n",
              "      <td>4.093797</td>\n",
              "      <td>-0.013682</td>\n",
              "      <td>0.222043</td>\n",
              "      <td>95.171789</td>\n",
              "      <td>2.205994</td>\n",
              "      <td>57.394081</td>\n",
              "      <td>27.169416</td>\n",
              "    </tr>\n",
              "    <tr>\n",
              "      <th>2021-04-28</th>\n",
              "      <td>51303100.0</td>\n",
              "      <td>65.982181</td>\n",
              "      <td>1.465406</td>\n",
              "      <td>30.222</td>\n",
              "      <td>-6.448856</td>\n",
              "      <td>0.291899</td>\n",
              "      <td>60.431944</td>\n",
              "      <td>3.763030e+07</td>\n",
              "      <td>-1.058035</td>\n",
              "      <td>0.768876</td>\n",
              "      <td>3.932813</td>\n",
              "      <td>-0.079692</td>\n",
              "      <td>0.221616</td>\n",
              "      <td>89.409794</td>\n",
              "      <td>1.269019</td>\n",
              "      <td>57.111906</td>\n",
              "      <td>27.340116</td>\n",
              "    </tr>\n",
              "    <tr>\n",
              "      <th>2021-04-29</th>\n",
              "      <td>51238900.0</td>\n",
              "      <td>65.732546</td>\n",
              "      <td>1.399276</td>\n",
              "      <td>21.946</td>\n",
              "      <td>-14.976892</td>\n",
              "      <td>0.255946</td>\n",
              "      <td>60.206044</td>\n",
              "      <td>3.137620e+07</td>\n",
              "      <td>3.026730</td>\n",
              "      <td>0.756036</td>\n",
              "      <td>3.802613</td>\n",
              "      <td>-0.179208</td>\n",
              "      <td>0.220164</td>\n",
              "      <td>94.317024</td>\n",
              "      <td>1.355490</td>\n",
              "      <td>56.916742</td>\n",
              "      <td>27.691569</td>\n",
              "    </tr>\n",
              "    <tr>\n",
              "      <th>2021-04-30</th>\n",
              "      <td>78544300.0</td>\n",
              "      <td>68.571186</td>\n",
              "      <td>1.743936</td>\n",
              "      <td>28.601</td>\n",
              "      <td>-6.273806</td>\n",
              "      <td>0.321553</td>\n",
              "      <td>60.997993</td>\n",
              "      <td>5.674076e+07</td>\n",
              "      <td>3.405720</td>\n",
              "      <td>0.877021</td>\n",
              "      <td>3.836712</td>\n",
              "      <td>-0.116685</td>\n",
              "      <td>0.218940</td>\n",
              "      <td>112.962479</td>\n",
              "      <td>-1.240984</td>\n",
              "      <td>56.407500</td>\n",
              "      <td>28.381181</td>\n",
              "    </tr>\n",
              "  </tbody>\n",
              "</table>\n",
              "<p>5070 rows × 17 columns</p>\n",
              "</div>\n",
              "      <button class=\"colab-df-convert\" onclick=\"convertToInteractive('df-50ca4c31-f52f-47d1-8b32-9e5f67146dcf')\"\n",
              "              title=\"Convert this dataframe to an interactive table.\"\n",
              "              style=\"display:none;\">\n",
              "        \n",
              "  <svg xmlns=\"http://www.w3.org/2000/svg\" height=\"24px\"viewBox=\"0 0 24 24\"\n",
              "       width=\"24px\">\n",
              "    <path d=\"M0 0h24v24H0V0z\" fill=\"none\"/>\n",
              "    <path d=\"M18.56 5.44l.94 2.06.94-2.06 2.06-.94-2.06-.94-.94-2.06-.94 2.06-2.06.94zm-11 1L8.5 8.5l.94-2.06 2.06-.94-2.06-.94L8.5 2.5l-.94 2.06-2.06.94zm10 10l.94 2.06.94-2.06 2.06-.94-2.06-.94-.94-2.06-.94 2.06-2.06.94z\"/><path d=\"M17.41 7.96l-1.37-1.37c-.4-.4-.92-.59-1.43-.59-.52 0-1.04.2-1.43.59L10.3 9.45l-7.72 7.72c-.78.78-.78 2.05 0 2.83L4 21.41c.39.39.9.59 1.41.59.51 0 1.02-.2 1.41-.59l7.78-7.78 2.81-2.81c.8-.78.8-2.07 0-2.86zM5.41 20L4 18.59l7.72-7.72 1.47 1.35L5.41 20z\"/>\n",
              "  </svg>\n",
              "      </button>\n",
              "      \n",
              "  <style>\n",
              "    .colab-df-container {\n",
              "      display:flex;\n",
              "      flex-wrap:wrap;\n",
              "      gap: 12px;\n",
              "    }\n",
              "\n",
              "    .colab-df-convert {\n",
              "      background-color: #E8F0FE;\n",
              "      border: none;\n",
              "      border-radius: 50%;\n",
              "      cursor: pointer;\n",
              "      display: none;\n",
              "      fill: #1967D2;\n",
              "      height: 32px;\n",
              "      padding: 0 0 0 0;\n",
              "      width: 32px;\n",
              "    }\n",
              "\n",
              "    .colab-df-convert:hover {\n",
              "      background-color: #E2EBFA;\n",
              "      box-shadow: 0px 1px 2px rgba(60, 64, 67, 0.3), 0px 1px 3px 1px rgba(60, 64, 67, 0.15);\n",
              "      fill: #174EA6;\n",
              "    }\n",
              "\n",
              "    [theme=dark] .colab-df-convert {\n",
              "      background-color: #3B4455;\n",
              "      fill: #D2E3FC;\n",
              "    }\n",
              "\n",
              "    [theme=dark] .colab-df-convert:hover {\n",
              "      background-color: #434B5C;\n",
              "      box-shadow: 0px 1px 3px 1px rgba(0, 0, 0, 0.15);\n",
              "      filter: drop-shadow(0px 1px 2px rgba(0, 0, 0, 0.3));\n",
              "      fill: #FFFFFF;\n",
              "    }\n",
              "  </style>\n",
              "\n",
              "      <script>\n",
              "        const buttonEl =\n",
              "          document.querySelector('#df-50ca4c31-f52f-47d1-8b32-9e5f67146dcf button.colab-df-convert');\n",
              "        buttonEl.style.display =\n",
              "          google.colab.kernel.accessAllowed ? 'block' : 'none';\n",
              "\n",
              "        async function convertToInteractive(key) {\n",
              "          const element = document.querySelector('#df-50ca4c31-f52f-47d1-8b32-9e5f67146dcf');\n",
              "          const dataTable =\n",
              "            await google.colab.kernel.invokeFunction('convertToInteractive',\n",
              "                                                     [key], {});\n",
              "          if (!dataTable) return;\n",
              "\n",
              "          const docLinkHtml = 'Like what you see? Visit the ' +\n",
              "            '<a target=\"_blank\" href=https://colab.research.google.com/notebooks/data_table.ipynb>data table notebook</a>'\n",
              "            + ' to learn more about interactive tables.';\n",
              "          element.innerHTML = '';\n",
              "          dataTable['output_type'] = 'display_data';\n",
              "          await google.colab.output.renderOutput(dataTable, element);\n",
              "          const docLink = document.createElement('div');\n",
              "          docLink.innerHTML = docLinkHtml;\n",
              "          element.appendChild(docLink);\n",
              "        }\n",
              "      </script>\n",
              "    </div>\n",
              "  </div>\n",
              "  "
            ],
            "text/plain": [
              "                volume      m_rsi     m_roc  ...     t_dpo      t_kst      t_adx\n",
              "Date                                         ...                                \n",
              "2001-03-07   6917000.0  41.391823 -5.444724  ...  1.486495 -65.232018  28.790793\n",
              "2001-03-08   6371700.0  44.381002 -2.622692  ... -0.103000 -58.831159  27.840948\n",
              "2001-03-09   6055000.0  44.852185 -0.989171  ... -2.494497 -59.023624  26.859360\n",
              "2001-03-12  10020300.0  36.025085 -1.799078  ... -1.816502 -60.068923  26.957551\n",
              "2001-03-13  13972900.0  27.762391 -6.144182  ... -1.978501 -65.493150  28.272159\n",
              "...                ...        ...       ...  ...       ...        ...        ...\n",
              "2021-04-26  73209200.0  65.331900  2.496371  ...  0.317491  57.451246  26.764451\n",
              "2021-04-27  52182400.0  66.157157  2.225104  ...  2.205994  57.394081  27.169416\n",
              "2021-04-28  51303100.0  65.982181  1.465406  ...  1.269019  57.111906  27.340116\n",
              "2021-04-29  51238900.0  65.732546  1.399276  ...  1.355490  56.916742  27.691569\n",
              "2021-04-30  78544300.0  68.571186  1.743936  ... -1.240984  56.407500  28.381181\n",
              "\n",
              "[5070 rows x 17 columns]"
            ]
          },
          "metadata": {},
          "execution_count": 90
        }
      ],
      "source": [
        "TI"
      ]
    },
    {
      "cell_type": "code",
      "execution_count": 91,
      "metadata": {
        "id": "UnX7EY0YHFUN"
      },
      "outputs": [],
      "source": [
        "from sklearn.preprocessing import StandardScaler\n",
        "scaler = StandardScaler()\n",
        "TI_norm = pd.DataFrame(scaler.fit_transform(TI),index=TI.index)"
      ]
    },
    {
      "cell_type": "code",
      "execution_count": 92,
      "metadata": {
        "id": "NuAy09J1HFUO",
        "outputId": "09981b61-574a-4bf6-89a4-f0cf26bebcaf",
        "colab": {
          "base_uri": "https://localhost:8080/",
          "height": 673
        }
      },
      "outputs": [
        {
          "output_type": "execute_result",
          "data": {
            "text/html": [
              "\n",
              "  <div id=\"df-c905314e-7014-41b2-979d-b7e5e79c18e8\">\n",
              "    <div class=\"colab-df-container\">\n",
              "      <div>\n",
              "<style scoped>\n",
              "    .dataframe tbody tr th:only-of-type {\n",
              "        vertical-align: middle;\n",
              "    }\n",
              "\n",
              "    .dataframe tbody tr th {\n",
              "        vertical-align: top;\n",
              "    }\n",
              "\n",
              "    .dataframe thead th {\n",
              "        text-align: right;\n",
              "    }\n",
              "</style>\n",
              "<table border=\"1\" class=\"dataframe\">\n",
              "  <thead>\n",
              "    <tr style=\"text-align: right;\">\n",
              "      <th></th>\n",
              "      <th>0</th>\n",
              "      <th>1</th>\n",
              "      <th>2</th>\n",
              "      <th>3</th>\n",
              "      <th>4</th>\n",
              "      <th>5</th>\n",
              "      <th>6</th>\n",
              "      <th>7</th>\n",
              "      <th>8</th>\n",
              "      <th>9</th>\n",
              "    </tr>\n",
              "    <tr>\n",
              "      <th>Date</th>\n",
              "      <th></th>\n",
              "      <th></th>\n",
              "      <th></th>\n",
              "      <th></th>\n",
              "      <th></th>\n",
              "      <th></th>\n",
              "      <th></th>\n",
              "      <th></th>\n",
              "      <th></th>\n",
              "      <th></th>\n",
              "    </tr>\n",
              "  </thead>\n",
              "  <tbody>\n",
              "    <tr>\n",
              "      <th>2001-03-07</th>\n",
              "      <td>2.367584</td>\n",
              "      <td>2.181919</td>\n",
              "      <td>-1.090865</td>\n",
              "      <td>7.765633</td>\n",
              "      <td>-0.843942</td>\n",
              "      <td>-1.942976</td>\n",
              "      <td>1.761774</td>\n",
              "      <td>1.491960</td>\n",
              "      <td>1.938961</td>\n",
              "      <td>0.761776</td>\n",
              "    </tr>\n",
              "    <tr>\n",
              "      <th>2001-03-08</th>\n",
              "      <td>2.223511</td>\n",
              "      <td>1.015815</td>\n",
              "      <td>-0.551355</td>\n",
              "      <td>0.202982</td>\n",
              "      <td>1.579127</td>\n",
              "      <td>0.722457</td>\n",
              "      <td>0.207811</td>\n",
              "      <td>-0.047863</td>\n",
              "      <td>1.439913</td>\n",
              "      <td>-0.662308</td>\n",
              "    </tr>\n",
              "    <tr>\n",
              "      <th>2001-03-09</th>\n",
              "      <td>1.442066</td>\n",
              "      <td>1.579748</td>\n",
              "      <td>-1.028288</td>\n",
              "      <td>0.580820</td>\n",
              "      <td>1.141115</td>\n",
              "      <td>0.060624</td>\n",
              "      <td>0.489159</td>\n",
              "      <td>0.629718</td>\n",
              "      <td>1.658573</td>\n",
              "      <td>-0.625392</td>\n",
              "    </tr>\n",
              "    <tr>\n",
              "      <th>2001-03-12</th>\n",
              "      <td>3.385641</td>\n",
              "      <td>-0.051327</td>\n",
              "      <td>-0.714954</td>\n",
              "      <td>-5.492880</td>\n",
              "      <td>3.277850</td>\n",
              "      <td>2.270080</td>\n",
              "      <td>-0.557738</td>\n",
              "      <td>-1.207083</td>\n",
              "      <td>1.318685</td>\n",
              "      <td>-1.234258</td>\n",
              "    </tr>\n",
              "    <tr>\n",
              "      <th>2001-03-13</th>\n",
              "      <td>5.893709</td>\n",
              "      <td>-1.977193</td>\n",
              "      <td>0.092482</td>\n",
              "      <td>-13.504091</td>\n",
              "      <td>6.275578</td>\n",
              "      <td>5.336043</td>\n",
              "      <td>-2.034963</td>\n",
              "      <td>-2.949314</td>\n",
              "      <td>0.711817</td>\n",
              "      <td>-2.465097</td>\n",
              "    </tr>\n",
              "    <tr>\n",
              "      <th>...</th>\n",
              "      <td>...</td>\n",
              "      <td>...</td>\n",
              "      <td>...</td>\n",
              "      <td>...</td>\n",
              "      <td>...</td>\n",
              "      <td>...</td>\n",
              "      <td>...</td>\n",
              "      <td>...</td>\n",
              "      <td>...</td>\n",
              "      <td>...</td>\n",
              "    </tr>\n",
              "    <tr>\n",
              "      <th>2021-04-26</th>\n",
              "      <td>-2.672984</td>\n",
              "      <td>-0.364192</td>\n",
              "      <td>1.432463</td>\n",
              "      <td>0.888691</td>\n",
              "      <td>-0.733597</td>\n",
              "      <td>-0.224504</td>\n",
              "      <td>1.760108</td>\n",
              "      <td>-0.560070</td>\n",
              "      <td>0.580852</td>\n",
              "      <td>-0.034405</td>\n",
              "    </tr>\n",
              "    <tr>\n",
              "      <th>2021-04-27</th>\n",
              "      <td>-2.583708</td>\n",
              "      <td>-0.622165</td>\n",
              "      <td>1.666321</td>\n",
              "      <td>0.749681</td>\n",
              "      <td>-0.290136</td>\n",
              "      <td>0.440323</td>\n",
              "      <td>1.415278</td>\n",
              "      <td>-0.907911</td>\n",
              "      <td>0.169240</td>\n",
              "      <td>-0.051286</td>\n",
              "    </tr>\n",
              "    <tr>\n",
              "      <th>2021-04-28</th>\n",
              "      <td>-2.258344</td>\n",
              "      <td>-0.766231</td>\n",
              "      <td>1.535492</td>\n",
              "      <td>0.107452</td>\n",
              "      <td>-0.059245</td>\n",
              "      <td>0.505898</td>\n",
              "      <td>1.342942</td>\n",
              "      <td>-0.734186</td>\n",
              "      <td>0.095657</td>\n",
              "      <td>-0.493403</td>\n",
              "    </tr>\n",
              "    <tr>\n",
              "      <th>2021-04-29</th>\n",
              "      <td>-2.013794</td>\n",
              "      <td>-0.804319</td>\n",
              "      <td>1.417227</td>\n",
              "      <td>0.524296</td>\n",
              "      <td>-0.129723</td>\n",
              "      <td>0.326958</td>\n",
              "      <td>1.432533</td>\n",
              "      <td>-0.601330</td>\n",
              "      <td>-0.042159</td>\n",
              "      <td>-0.385503</td>\n",
              "    </tr>\n",
              "    <tr>\n",
              "      <th>2021-04-30</th>\n",
              "      <td>-2.728526</td>\n",
              "      <td>-0.374915</td>\n",
              "      <td>1.390181</td>\n",
              "      <td>0.115398</td>\n",
              "      <td>-0.267540</td>\n",
              "      <td>-0.209770</td>\n",
              "      <td>1.492561</td>\n",
              "      <td>-0.192912</td>\n",
              "      <td>0.216985</td>\n",
              "      <td>-0.771089</td>\n",
              "    </tr>\n",
              "  </tbody>\n",
              "</table>\n",
              "<p>5070 rows × 10 columns</p>\n",
              "</div>\n",
              "      <button class=\"colab-df-convert\" onclick=\"convertToInteractive('df-c905314e-7014-41b2-979d-b7e5e79c18e8')\"\n",
              "              title=\"Convert this dataframe to an interactive table.\"\n",
              "              style=\"display:none;\">\n",
              "        \n",
              "  <svg xmlns=\"http://www.w3.org/2000/svg\" height=\"24px\"viewBox=\"0 0 24 24\"\n",
              "       width=\"24px\">\n",
              "    <path d=\"M0 0h24v24H0V0z\" fill=\"none\"/>\n",
              "    <path d=\"M18.56 5.44l.94 2.06.94-2.06 2.06-.94-2.06-.94-.94-2.06-.94 2.06-2.06.94zm-11 1L8.5 8.5l.94-2.06 2.06-.94-2.06-.94L8.5 2.5l-.94 2.06-2.06.94zm10 10l.94 2.06.94-2.06 2.06-.94-2.06-.94-.94-2.06-.94 2.06-2.06.94z\"/><path d=\"M17.41 7.96l-1.37-1.37c-.4-.4-.92-.59-1.43-.59-.52 0-1.04.2-1.43.59L10.3 9.45l-7.72 7.72c-.78.78-.78 2.05 0 2.83L4 21.41c.39.39.9.59 1.41.59.51 0 1.02-.2 1.41-.59l7.78-7.78 2.81-2.81c.8-.78.8-2.07 0-2.86zM5.41 20L4 18.59l7.72-7.72 1.47 1.35L5.41 20z\"/>\n",
              "  </svg>\n",
              "      </button>\n",
              "      \n",
              "  <style>\n",
              "    .colab-df-container {\n",
              "      display:flex;\n",
              "      flex-wrap:wrap;\n",
              "      gap: 12px;\n",
              "    }\n",
              "\n",
              "    .colab-df-convert {\n",
              "      background-color: #E8F0FE;\n",
              "      border: none;\n",
              "      border-radius: 50%;\n",
              "      cursor: pointer;\n",
              "      display: none;\n",
              "      fill: #1967D2;\n",
              "      height: 32px;\n",
              "      padding: 0 0 0 0;\n",
              "      width: 32px;\n",
              "    }\n",
              "\n",
              "    .colab-df-convert:hover {\n",
              "      background-color: #E2EBFA;\n",
              "      box-shadow: 0px 1px 2px rgba(60, 64, 67, 0.3), 0px 1px 3px 1px rgba(60, 64, 67, 0.15);\n",
              "      fill: #174EA6;\n",
              "    }\n",
              "\n",
              "    [theme=dark] .colab-df-convert {\n",
              "      background-color: #3B4455;\n",
              "      fill: #D2E3FC;\n",
              "    }\n",
              "\n",
              "    [theme=dark] .colab-df-convert:hover {\n",
              "      background-color: #434B5C;\n",
              "      box-shadow: 0px 1px 3px 1px rgba(0, 0, 0, 0.15);\n",
              "      filter: drop-shadow(0px 1px 2px rgba(0, 0, 0, 0.3));\n",
              "      fill: #FFFFFF;\n",
              "    }\n",
              "  </style>\n",
              "\n",
              "      <script>\n",
              "        const buttonEl =\n",
              "          document.querySelector('#df-c905314e-7014-41b2-979d-b7e5e79c18e8 button.colab-df-convert');\n",
              "        buttonEl.style.display =\n",
              "          google.colab.kernel.accessAllowed ? 'block' : 'none';\n",
              "\n",
              "        async function convertToInteractive(key) {\n",
              "          const element = document.querySelector('#df-c905314e-7014-41b2-979d-b7e5e79c18e8');\n",
              "          const dataTable =\n",
              "            await google.colab.kernel.invokeFunction('convertToInteractive',\n",
              "                                                     [key], {});\n",
              "          if (!dataTable) return;\n",
              "\n",
              "          const docLinkHtml = 'Like what you see? Visit the ' +\n",
              "            '<a target=\"_blank\" href=https://colab.research.google.com/notebooks/data_table.ipynb>data table notebook</a>'\n",
              "            + ' to learn more about interactive tables.';\n",
              "          element.innerHTML = '';\n",
              "          dataTable['output_type'] = 'display_data';\n",
              "          await google.colab.output.renderOutput(dataTable, element);\n",
              "          const docLink = document.createElement('div');\n",
              "          docLink.innerHTML = docLinkHtml;\n",
              "          element.appendChild(docLink);\n",
              "        }\n",
              "      </script>\n",
              "    </div>\n",
              "  </div>\n",
              "  "
            ],
            "text/plain": [
              "                   0         1         2  ...         7         8         9\n",
              "Date                                      ...                              \n",
              "2001-03-07  2.367584  2.181919 -1.090865  ...  1.491960  1.938961  0.761776\n",
              "2001-03-08  2.223511  1.015815 -0.551355  ... -0.047863  1.439913 -0.662308\n",
              "2001-03-09  1.442066  1.579748 -1.028288  ...  0.629718  1.658573 -0.625392\n",
              "2001-03-12  3.385641 -0.051327 -0.714954  ... -1.207083  1.318685 -1.234258\n",
              "2001-03-13  5.893709 -1.977193  0.092482  ... -2.949314  0.711817 -2.465097\n",
              "...              ...       ...       ...  ...       ...       ...       ...\n",
              "2021-04-26 -2.672984 -0.364192  1.432463  ... -0.560070  0.580852 -0.034405\n",
              "2021-04-27 -2.583708 -0.622165  1.666321  ... -0.907911  0.169240 -0.051286\n",
              "2021-04-28 -2.258344 -0.766231  1.535492  ... -0.734186  0.095657 -0.493403\n",
              "2021-04-29 -2.013794 -0.804319  1.417227  ... -0.601330 -0.042159 -0.385503\n",
              "2021-04-30 -2.728526 -0.374915  1.390181  ... -0.192912  0.216985 -0.771089\n",
              "\n",
              "[5070 rows x 10 columns]"
            ]
          },
          "metadata": {},
          "execution_count": 92
        }
      ],
      "source": [
        "from sklearn.decomposition import PCA\n",
        "pca = PCA(10)\n",
        "TI_pc = pd.DataFrame(pca.fit_transform(TI_norm),index=TI.index)\n",
        "TI_pc"
      ]
    },
    {
      "cell_type": "code",
      "execution_count": 93,
      "metadata": {
        "id": "Jk-NmkeqHFUO"
      },
      "outputs": [],
      "source": [
        "tmp = TI_pc.join(y_).dropna()\n",
        "X = tmp.iloc[:,:-1]\n",
        "y = tmp.iloc[:,-1]"
      ]
    },
    {
      "cell_type": "code",
      "execution_count": 94,
      "metadata": {
        "id": "hGRRwdBIHFUO"
      },
      "outputs": [],
      "source": [
        "X_train = X.iloc[:-500]\n",
        "X_test = X.iloc[-500:]\n",
        "\n",
        "y_train = y.iloc[:-500]\n",
        "y_test = y.iloc[-500:]"
      ]
    },
    {
      "cell_type": "code",
      "execution_count": 95,
      "metadata": {
        "id": "EOCOAJrsHFUO",
        "outputId": "50948716-2827-429d-a62f-2890c09c1db8",
        "colab": {
          "base_uri": "https://localhost:8080/",
          "height": 673
        }
      },
      "outputs": [
        {
          "output_type": "execute_result",
          "data": {
            "text/html": [
              "\n",
              "  <div id=\"df-8c04ba4c-4dea-44cb-b616-3e7961987851\">\n",
              "    <div class=\"colab-df-container\">\n",
              "      <div>\n",
              "<style scoped>\n",
              "    .dataframe tbody tr th:only-of-type {\n",
              "        vertical-align: middle;\n",
              "    }\n",
              "\n",
              "    .dataframe tbody tr th {\n",
              "        vertical-align: top;\n",
              "    }\n",
              "\n",
              "    .dataframe thead th {\n",
              "        text-align: right;\n",
              "    }\n",
              "</style>\n",
              "<table border=\"1\" class=\"dataframe\">\n",
              "  <thead>\n",
              "    <tr style=\"text-align: right;\">\n",
              "      <th></th>\n",
              "      <th>0</th>\n",
              "      <th>1</th>\n",
              "      <th>2</th>\n",
              "      <th>3</th>\n",
              "      <th>4</th>\n",
              "      <th>5</th>\n",
              "      <th>6</th>\n",
              "      <th>7</th>\n",
              "      <th>8</th>\n",
              "      <th>9</th>\n",
              "    </tr>\n",
              "    <tr>\n",
              "      <th>Date</th>\n",
              "      <th></th>\n",
              "      <th></th>\n",
              "      <th></th>\n",
              "      <th></th>\n",
              "      <th></th>\n",
              "      <th></th>\n",
              "      <th></th>\n",
              "      <th></th>\n",
              "      <th></th>\n",
              "      <th></th>\n",
              "    </tr>\n",
              "  </thead>\n",
              "  <tbody>\n",
              "    <tr>\n",
              "      <th>2017-11-27</th>\n",
              "      <td>-2.646481</td>\n",
              "      <td>-0.461953</td>\n",
              "      <td>0.973869</td>\n",
              "      <td>0.649123</td>\n",
              "      <td>0.586661</td>\n",
              "      <td>0.828098</td>\n",
              "      <td>-0.627589</td>\n",
              "      <td>0.348580</td>\n",
              "      <td>0.898492</td>\n",
              "      <td>-0.642879</td>\n",
              "    </tr>\n",
              "    <tr>\n",
              "      <th>2017-11-28</th>\n",
              "      <td>-2.143822</td>\n",
              "      <td>-0.366968</td>\n",
              "      <td>0.610178</td>\n",
              "      <td>0.374820</td>\n",
              "      <td>0.488526</td>\n",
              "      <td>0.438269</td>\n",
              "      <td>-0.513961</td>\n",
              "      <td>0.481791</td>\n",
              "      <td>0.622572</td>\n",
              "      <td>-0.752444</td>\n",
              "    </tr>\n",
              "    <tr>\n",
              "      <th>2017-11-29</th>\n",
              "      <td>-3.537573</td>\n",
              "      <td>0.203155</td>\n",
              "      <td>1.209635</td>\n",
              "      <td>0.567861</td>\n",
              "      <td>0.270977</td>\n",
              "      <td>0.115426</td>\n",
              "      <td>-0.790329</td>\n",
              "      <td>0.414643</td>\n",
              "      <td>0.619562</td>\n",
              "      <td>-1.174722</td>\n",
              "    </tr>\n",
              "    <tr>\n",
              "      <th>2017-11-30</th>\n",
              "      <td>-3.281297</td>\n",
              "      <td>0.140329</td>\n",
              "      <td>1.084472</td>\n",
              "      <td>0.371567</td>\n",
              "      <td>0.563494</td>\n",
              "      <td>0.022701</td>\n",
              "      <td>-0.476494</td>\n",
              "      <td>0.314505</td>\n",
              "      <td>0.603525</td>\n",
              "      <td>-0.789654</td>\n",
              "    </tr>\n",
              "    <tr>\n",
              "      <th>2017-12-01</th>\n",
              "      <td>-4.127709</td>\n",
              "      <td>0.630099</td>\n",
              "      <td>1.379931</td>\n",
              "      <td>0.172274</td>\n",
              "      <td>0.456546</td>\n",
              "      <td>-0.521970</td>\n",
              "      <td>-0.492072</td>\n",
              "      <td>0.196556</td>\n",
              "      <td>0.427807</td>\n",
              "      <td>-0.398933</td>\n",
              "    </tr>\n",
              "    <tr>\n",
              "      <th>...</th>\n",
              "      <td>...</td>\n",
              "      <td>...</td>\n",
              "      <td>...</td>\n",
              "      <td>...</td>\n",
              "      <td>...</td>\n",
              "      <td>...</td>\n",
              "      <td>...</td>\n",
              "      <td>...</td>\n",
              "      <td>...</td>\n",
              "      <td>...</td>\n",
              "    </tr>\n",
              "    <tr>\n",
              "      <th>2021-03-17</th>\n",
              "      <td>-2.008013</td>\n",
              "      <td>1.618094</td>\n",
              "      <td>-0.369188</td>\n",
              "      <td>0.742341</td>\n",
              "      <td>-1.634162</td>\n",
              "      <td>1.868687</td>\n",
              "      <td>0.856774</td>\n",
              "      <td>-1.027159</td>\n",
              "      <td>-0.929141</td>\n",
              "      <td>0.244476</td>\n",
              "    </tr>\n",
              "    <tr>\n",
              "      <th>2021-03-26</th>\n",
              "      <td>0.894523</td>\n",
              "      <td>-0.269482</td>\n",
              "      <td>0.139154</td>\n",
              "      <td>-1.606897</td>\n",
              "      <td>-1.203738</td>\n",
              "      <td>1.995887</td>\n",
              "      <td>0.839733</td>\n",
              "      <td>-0.547120</td>\n",
              "      <td>-0.925292</td>\n",
              "      <td>0.078007</td>\n",
              "    </tr>\n",
              "    <tr>\n",
              "      <th>2021-03-29</th>\n",
              "      <td>-0.978702</td>\n",
              "      <td>0.840162</td>\n",
              "      <td>0.169128</td>\n",
              "      <td>3.555961</td>\n",
              "      <td>-2.694159</td>\n",
              "      <td>0.989752</td>\n",
              "      <td>1.098939</td>\n",
              "      <td>-0.544245</td>\n",
              "      <td>-0.623151</td>\n",
              "      <td>0.282088</td>\n",
              "    </tr>\n",
              "    <tr>\n",
              "      <th>2021-03-30</th>\n",
              "      <td>-0.585369</td>\n",
              "      <td>0.324395</td>\n",
              "      <td>0.337816</td>\n",
              "      <td>1.145307</td>\n",
              "      <td>-1.798140</td>\n",
              "      <td>2.091456</td>\n",
              "      <td>0.451549</td>\n",
              "      <td>-1.160133</td>\n",
              "      <td>-0.824575</td>\n",
              "      <td>-0.163114</td>\n",
              "    </tr>\n",
              "    <tr>\n",
              "      <th>2021-03-31</th>\n",
              "      <td>0.030990</td>\n",
              "      <td>-0.261623</td>\n",
              "      <td>0.407420</td>\n",
              "      <td>0.945172</td>\n",
              "      <td>-1.407488</td>\n",
              "      <td>2.670934</td>\n",
              "      <td>0.248746</td>\n",
              "      <td>-1.688753</td>\n",
              "      <td>-0.570289</td>\n",
              "      <td>-0.531093</td>\n",
              "    </tr>\n",
              "  </tbody>\n",
              "</table>\n",
              "<p>500 rows × 10 columns</p>\n",
              "</div>\n",
              "      <button class=\"colab-df-convert\" onclick=\"convertToInteractive('df-8c04ba4c-4dea-44cb-b616-3e7961987851')\"\n",
              "              title=\"Convert this dataframe to an interactive table.\"\n",
              "              style=\"display:none;\">\n",
              "        \n",
              "  <svg xmlns=\"http://www.w3.org/2000/svg\" height=\"24px\"viewBox=\"0 0 24 24\"\n",
              "       width=\"24px\">\n",
              "    <path d=\"M0 0h24v24H0V0z\" fill=\"none\"/>\n",
              "    <path d=\"M18.56 5.44l.94 2.06.94-2.06 2.06-.94-2.06-.94-.94-2.06-.94 2.06-2.06.94zm-11 1L8.5 8.5l.94-2.06 2.06-.94-2.06-.94L8.5 2.5l-.94 2.06-2.06.94zm10 10l.94 2.06.94-2.06 2.06-.94-2.06-.94-.94-2.06-.94 2.06-2.06.94z\"/><path d=\"M17.41 7.96l-1.37-1.37c-.4-.4-.92-.59-1.43-.59-.52 0-1.04.2-1.43.59L10.3 9.45l-7.72 7.72c-.78.78-.78 2.05 0 2.83L4 21.41c.39.39.9.59 1.41.59.51 0 1.02-.2 1.41-.59l7.78-7.78 2.81-2.81c.8-.78.8-2.07 0-2.86zM5.41 20L4 18.59l7.72-7.72 1.47 1.35L5.41 20z\"/>\n",
              "  </svg>\n",
              "      </button>\n",
              "      \n",
              "  <style>\n",
              "    .colab-df-container {\n",
              "      display:flex;\n",
              "      flex-wrap:wrap;\n",
              "      gap: 12px;\n",
              "    }\n",
              "\n",
              "    .colab-df-convert {\n",
              "      background-color: #E8F0FE;\n",
              "      border: none;\n",
              "      border-radius: 50%;\n",
              "      cursor: pointer;\n",
              "      display: none;\n",
              "      fill: #1967D2;\n",
              "      height: 32px;\n",
              "      padding: 0 0 0 0;\n",
              "      width: 32px;\n",
              "    }\n",
              "\n",
              "    .colab-df-convert:hover {\n",
              "      background-color: #E2EBFA;\n",
              "      box-shadow: 0px 1px 2px rgba(60, 64, 67, 0.3), 0px 1px 3px 1px rgba(60, 64, 67, 0.15);\n",
              "      fill: #174EA6;\n",
              "    }\n",
              "\n",
              "    [theme=dark] .colab-df-convert {\n",
              "      background-color: #3B4455;\n",
              "      fill: #D2E3FC;\n",
              "    }\n",
              "\n",
              "    [theme=dark] .colab-df-convert:hover {\n",
              "      background-color: #434B5C;\n",
              "      box-shadow: 0px 1px 3px 1px rgba(0, 0, 0, 0.15);\n",
              "      filter: drop-shadow(0px 1px 2px rgba(0, 0, 0, 0.3));\n",
              "      fill: #FFFFFF;\n",
              "    }\n",
              "  </style>\n",
              "\n",
              "      <script>\n",
              "        const buttonEl =\n",
              "          document.querySelector('#df-8c04ba4c-4dea-44cb-b616-3e7961987851 button.colab-df-convert');\n",
              "        buttonEl.style.display =\n",
              "          google.colab.kernel.accessAllowed ? 'block' : 'none';\n",
              "\n",
              "        async function convertToInteractive(key) {\n",
              "          const element = document.querySelector('#df-8c04ba4c-4dea-44cb-b616-3e7961987851');\n",
              "          const dataTable =\n",
              "            await google.colab.kernel.invokeFunction('convertToInteractive',\n",
              "                                                     [key], {});\n",
              "          if (!dataTable) return;\n",
              "\n",
              "          const docLinkHtml = 'Like what you see? Visit the ' +\n",
              "            '<a target=\"_blank\" href=https://colab.research.google.com/notebooks/data_table.ipynb>data table notebook</a>'\n",
              "            + ' to learn more about interactive tables.';\n",
              "          element.innerHTML = '';\n",
              "          dataTable['output_type'] = 'display_data';\n",
              "          await google.colab.output.renderOutput(dataTable, element);\n",
              "          const docLink = document.createElement('div');\n",
              "          docLink.innerHTML = docLinkHtml;\n",
              "          element.appendChild(docLink);\n",
              "        }\n",
              "      </script>\n",
              "    </div>\n",
              "  </div>\n",
              "  "
            ],
            "text/plain": [
              "                   0         1         2  ...         7         8         9\n",
              "Date                                      ...                              \n",
              "2017-11-27 -2.646481 -0.461953  0.973869  ...  0.348580  0.898492 -0.642879\n",
              "2017-11-28 -2.143822 -0.366968  0.610178  ...  0.481791  0.622572 -0.752444\n",
              "2017-11-29 -3.537573  0.203155  1.209635  ...  0.414643  0.619562 -1.174722\n",
              "2017-11-30 -3.281297  0.140329  1.084472  ...  0.314505  0.603525 -0.789654\n",
              "2017-12-01 -4.127709  0.630099  1.379931  ...  0.196556  0.427807 -0.398933\n",
              "...              ...       ...       ...  ...       ...       ...       ...\n",
              "2021-03-17 -2.008013  1.618094 -0.369188  ... -1.027159 -0.929141  0.244476\n",
              "2021-03-26  0.894523 -0.269482  0.139154  ... -0.547120 -0.925292  0.078007\n",
              "2021-03-29 -0.978702  0.840162  0.169128  ... -0.544245 -0.623151  0.282088\n",
              "2021-03-30 -0.585369  0.324395  0.337816  ... -1.160133 -0.824575 -0.163114\n",
              "2021-03-31  0.030990 -0.261623  0.407420  ... -1.688753 -0.570289 -0.531093\n",
              "\n",
              "[500 rows x 10 columns]"
            ]
          },
          "metadata": {},
          "execution_count": 95
        }
      ],
      "source": [
        "X_test"
      ]
    },
    {
      "cell_type": "code",
      "execution_count": 96,
      "metadata": {
        "id": "51U-2-PPHFUP"
      },
      "outputs": [],
      "source": [
        "from sklearn.ensemble import RandomForestClassifier\n",
        "from sklearn.model_selection import GridSearchCV"
      ]
    },
    {
      "cell_type": "code",
      "execution_count": 97,
      "metadata": {
        "id": "vcqi4-AUHFUP"
      },
      "outputs": [],
      "source": [
        "clf = RandomForestClassifier(criterion='entropy')#,class_weight='balanced_subsample')"
      ]
    },
    {
      "cell_type": "code",
      "execution_count": 98,
      "metadata": {
        "id": "JQiVPEKZHFUP"
      },
      "outputs": [],
      "source": [
        "n_estimators = [500,1000]\n",
        "max_depth = [2, 5]\n",
        "\n",
        "param_grid = dict(n_estimators = n_estimators, max_depth = max_depth)\n",
        "\n",
        "gs = GridSearchCV(clf, param_grid = param_grid, scoring ='precision')"
      ]
    },
    {
      "cell_type": "code",
      "execution_count": 99,
      "metadata": {
        "id": "VoCqeEX0HFUP",
        "outputId": "9633bb4e-0d49-4ad8-e757-b61945b7eaea",
        "colab": {
          "base_uri": "https://localhost:8080/"
        }
      },
      "outputs": [
        {
          "output_type": "execute_result",
          "data": {
            "text/plain": [
              "GridSearchCV(estimator=RandomForestClassifier(criterion='entropy'),\n",
              "             param_grid={'max_depth': [2, 5], 'n_estimators': [500, 1000]},\n",
              "             scoring='precision')"
            ]
          },
          "metadata": {},
          "execution_count": 99
        }
      ],
      "source": [
        "gs.fit(X_train,y_train)"
      ]
    },
    {
      "cell_type": "code",
      "execution_count": 100,
      "metadata": {
        "id": "HtvfOlNzHFUQ",
        "outputId": "baaf14cb-2a65-4805-e98d-1cf26ed81c0f",
        "colab": {
          "base_uri": "https://localhost:8080/"
        }
      },
      "outputs": [
        {
          "output_type": "execute_result",
          "data": {
            "text/plain": [
              "RandomForestClassifier(criterion='entropy', max_depth=2, n_estimators=500)"
            ]
          },
          "metadata": {},
          "execution_count": 100
        }
      ],
      "source": [
        "gs.best_estimator_"
      ]
    },
    {
      "cell_type": "code",
      "execution_count": 101,
      "metadata": {
        "id": "fB2NoTd6HFUQ",
        "outputId": "70acfeb4-f42c-4be3-f399-c1a84ccff844",
        "colab": {
          "base_uri": "https://localhost:8080/"
        }
      },
      "outputs": [
        {
          "output_type": "execute_result",
          "data": {
            "text/plain": [
              "Date\n",
              "2017-11-27    1.0\n",
              "2017-11-28    1.0\n",
              "2017-11-29    1.0\n",
              "2017-11-30    1.0\n",
              "2017-12-01    1.0\n",
              "Name: y_pred, dtype: float64"
            ]
          },
          "metadata": {},
          "execution_count": 101
        }
      ],
      "source": [
        "y_pred = gs.predict(X_test)\n",
        "y_pred = pd.Series(y_pred, index=X_test.index).rename('y_pred')\n",
        "y_pred.head()"
      ]
    },
    {
      "cell_type": "code",
      "execution_count": 102,
      "metadata": {
        "id": "2fFyfMXFHFUQ"
      },
      "outputs": [],
      "source": [
        "from sklearn.metrics import precision_score"
      ]
    },
    {
      "cell_type": "code",
      "execution_count": 103,
      "metadata": {
        "id": "r8Y0cTWIHFUQ",
        "outputId": "7d62bd28-a336-4c25-ea84-669a7d70980b",
        "colab": {
          "base_uri": "https://localhost:8080/"
        }
      },
      "outputs": [
        {
          "output_type": "stream",
          "name": "stdout",
          "text": [
            "Precision score (Probability of winning after drop predicted loss): 0.7004608294930875\n"
          ]
        }
      ],
      "source": [
        "p2 = precision_score(y_test,y_pred)\n",
        "print('Precision score (Probability of winning after drop predicted loss): {}'.format(p2))"
      ]
    },
    {
      "cell_type": "code",
      "execution_count": 104,
      "metadata": {
        "id": "Q7UiVP9NHFUQ",
        "outputId": "d7380775-2972-4f82-8865-729fbb466340",
        "colab": {
          "base_uri": "https://localhost:8080/"
        }
      },
      "outputs": [
        {
          "output_type": "execute_result",
          "data": {
            "text/plain": [
              " 1.0    304\n",
              "-1.0    130\n",
              "Name: pnl, dtype: int64"
            ]
          },
          "metadata": {},
          "execution_count": 104
        }
      ],
      "source": [
        "# After drop predicted loss\n",
        "y_2nd = y_test.drop(index=y_pred.loc[y_pred==-1].index)\n",
        "\n",
        "y_2nd.value_counts()"
      ]
    },
    {
      "cell_type": "code",
      "execution_count": 105,
      "metadata": {
        "id": "Kqyp_oxcHFUR",
        "outputId": "1eb63042-5eaf-4405-806f-a934e92fb926",
        "colab": {
          "base_uri": "https://localhost:8080/"
        }
      },
      "outputs": [
        {
          "output_type": "stream",
          "name": "stdout",
          "text": [
            "Probabilities of winning (p):  0.7004608294930875\n"
          ]
        }
      ],
      "source": [
        "p2 = y_2nd.value_counts().iloc[0]/(y_2nd.value_counts().iloc[0]+y_2nd.value_counts().iloc[1])\n",
        "print('Probabilities of winning (p): ',p2)"
      ]
    },
    {
      "cell_type": "code",
      "execution_count": 106,
      "metadata": {
        "id": "JXB6-1fsHFUR",
        "outputId": "edeb4491-682f-4bc3-ec72-412f55c311ad",
        "colab": {
          "base_uri": "https://localhost:8080/"
        }
      },
      "outputs": [
        {
          "output_type": "stream",
          "name": "stdout",
          "text": [
            "Total Sharpe Ratio:  9.117077560208994\n"
          ]
        }
      ],
      "source": [
        "asr = np.sqrt(len(y_2nd))*(p2-0.5)/np.sqrt(p2*(1-p2))\n",
        "print('Total Sharpe Ratio: ',asr)"
      ]
    },
    {
      "cell_type": "code",
      "execution_count": 107,
      "metadata": {
        "id": "CnTB5gd1HFUR"
      },
      "outputs": [],
      "source": [
        "returns2 = returns.loc[y_2nd.index]"
      ]
    },
    {
      "cell_type": "code",
      "execution_count": 108,
      "metadata": {
        "id": "2TliVN-wHFUR",
        "outputId": "ec9c9dbc-0d01-4727-dd50-39b57494f24b",
        "colab": {
          "base_uri": "https://localhost:8080/"
        }
      },
      "outputs": [
        {
          "output_type": "execute_result",
          "data": {
            "text/plain": [
              "Date\n",
              "2017-11-27    0.049443\n",
              "2017-11-28    0.049176\n",
              "2017-11-29    0.049785\n",
              "2017-11-30    0.053628\n",
              "2017-12-01    0.049643\n",
              "                ...   \n",
              "2021-03-16    0.049186\n",
              "2021-03-17    0.049119\n",
              "2021-03-26    0.049009\n",
              "2021-03-30    0.052171\n",
              "2021-03-31    0.051462\n",
              "Name: ret, Length: 434, dtype: float64"
            ]
          },
          "metadata": {},
          "execution_count": 108
        }
      ],
      "source": [
        "returns2"
      ]
    },
    {
      "cell_type": "code",
      "execution_count": 109,
      "metadata": {
        "id": "JOgcv6DZHFUR",
        "outputId": "78663aa7-b57e-4733-c36e-2816781d6748",
        "colab": {
          "base_uri": "https://localhost:8080/",
          "height": 284
        }
      },
      "outputs": [
        {
          "output_type": "display_data",
          "data": {
            "image/png": "[encoded data removed]",
            "text/plain": [
              "<Figure size 432x288 with 1 Axes>"
            ]
          },
          "metadata": {}
        }
      ],
      "source": [
        "plt.plot((returns2-0.0005).cumsum())\n",
        "plt.title('2nd Model: Cumulative sum of returns without transcation cost')\n",
        "plt.show()"
      ]
    },
    {
      "cell_type": "markdown",
      "metadata": {
        "id": "hcoM87YZHFUS"
      },
      "source": [
        "Results\n",
        "\n",
        "<Increasing p (probability of winning)>\n",
        "- from first strategy, we get $p = \\frac{P}{P+L}$\n",
        "- after training and predicting the PnL points, we drop predicted loss points (TN+FP),\n",
        "thus we get $\\hat{p} =  \\frac{P-FL}{(P-FL) + (L-TL)} = \\frac{TP+FL-FL}{(TP+FL-FL) + (TL+FP-TL)} = \\frac{TP}{TP+FP}$\n",
        ", which is the precision score of 2nd model.\n",
        "\n",
        "- If $\\hat{p}>p$, this helps.\n",
        "\n",
        "And,\n",
        "\n",
        "keep opportunities as many as possible\n",
        "- n is also important\n",
        "- let the model do not lose many opportunities\n",
        "- but how? - further study needed"
      ]
    }
  ],
  "metadata": {
    "kernelspec": {
      "display_name": "Python 3",
      "language": "python",
      "name": "python3"
    },
    "language_info": {
      "codemirror_mode": {
        "name": "ipython",
        "version": 3
      },
      "file_extension": ".py",
      "mimetype": "text/x-python",
      "name": "python",
      "nbconvert_exporter": "python",
      "pygments_lexer": "ipython3",
      "version": "3.7.7"
    },
    "colab": {
      "name": "Meta-Label simplified-SPY.ipynb",
      "provenance": [],
      "include_colab_link": true
    }
  },
  "nbformat": 4,
  "nbformat_minor": 0
}