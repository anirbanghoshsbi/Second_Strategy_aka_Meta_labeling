{
 "cells": [
  {
   "cell_type": "code",
   "execution_count": 1,
   "metadata": {},
   "outputs": [],
   "source": [
    "import numpy as np\n",
    "import pandas as pd\n",
    "import datetime as dt\n",
    "import matplotlib.pyplot as plt\n",
    "import seaborn; seaborn.set()\n",
    "\n",
    "import warnings \n",
    "warnings.filterwarnings('ignore')\n",
    "\n",
    "\n",
    "from sklearn.preprocessing import MinMaxScaler, StandardScaler\n",
    "\n",
    "from triple_barrier import triple_barrier as tb\n",
    "import ta\n",
    "import getTA"
   ]
  },
  {
   "cell_type": "code",
   "execution_count": 2,
   "metadata": {},
   "outputs": [
    {
     "data": {
      "text/html": [
       "<div>\n",
       "<style scoped>\n",
       "    .dataframe tbody tr th:only-of-type {\n",
       "        vertical-align: middle;\n",
       "    }\n",
       "\n",
       "    .dataframe tbody tr th {\n",
       "        vertical-align: top;\n",
       "    }\n",
       "\n",
       "    .dataframe thead th {\n",
       "        text-align: right;\n",
       "    }\n",
       "</style>\n",
       "<table border=\"1\" class=\"dataframe\">\n",
       "  <thead>\n",
       "    <tr style=\"text-align: right;\">\n",
       "      <th></th>\n",
       "      <th>open</th>\n",
       "      <th>high</th>\n",
       "      <th>low</th>\n",
       "      <th>close</th>\n",
       "      <th>volume</th>\n",
       "      <th>close_time</th>\n",
       "      <th>quote_av</th>\n",
       "      <th>trades</th>\n",
       "      <th>tb_base_av</th>\n",
       "      <th>tb_quote_av</th>\n",
       "      <th>ignore</th>\n",
       "    </tr>\n",
       "    <tr>\n",
       "      <th>timestamp</th>\n",
       "      <th></th>\n",
       "      <th></th>\n",
       "      <th></th>\n",
       "      <th></th>\n",
       "      <th></th>\n",
       "      <th></th>\n",
       "      <th></th>\n",
       "      <th></th>\n",
       "      <th></th>\n",
       "      <th></th>\n",
       "      <th></th>\n",
       "    </tr>\n",
       "  </thead>\n",
       "  <tbody>\n",
       "    <tr>\n",
       "      <th>2020-04-10 00:00:00</th>\n",
       "      <td>169.56</td>\n",
       "      <td>169.72</td>\n",
       "      <td>169.41</td>\n",
       "      <td>169.43</td>\n",
       "      <td>2906.41820</td>\n",
       "      <td>1586477099999</td>\n",
       "      <td>4.930542e+05</td>\n",
       "      <td>707</td>\n",
       "      <td>2260.79119</td>\n",
       "      <td>3.835677e+05</td>\n",
       "      <td>0</td>\n",
       "    </tr>\n",
       "    <tr>\n",
       "      <th>2020-04-10 00:05:00</th>\n",
       "      <td>169.44</td>\n",
       "      <td>169.59</td>\n",
       "      <td>168.92</td>\n",
       "      <td>169.22</td>\n",
       "      <td>3376.45186</td>\n",
       "      <td>1586477399999</td>\n",
       "      <td>5.711061e+05</td>\n",
       "      <td>1004</td>\n",
       "      <td>1951.63764</td>\n",
       "      <td>3.301054e+05</td>\n",
       "      <td>0</td>\n",
       "    </tr>\n",
       "    <tr>\n",
       "      <th>2020-04-10 00:10:00</th>\n",
       "      <td>169.23</td>\n",
       "      <td>169.42</td>\n",
       "      <td>168.70</td>\n",
       "      <td>168.78</td>\n",
       "      <td>3007.20677</td>\n",
       "      <td>1586477699999</td>\n",
       "      <td>5.081008e+05</td>\n",
       "      <td>752</td>\n",
       "      <td>929.71120</td>\n",
       "      <td>1.571687e+05</td>\n",
       "      <td>0</td>\n",
       "    </tr>\n",
       "    <tr>\n",
       "      <th>2020-04-10 00:15:00</th>\n",
       "      <td>168.84</td>\n",
       "      <td>169.12</td>\n",
       "      <td>168.80</td>\n",
       "      <td>169.00</td>\n",
       "      <td>1465.81110</td>\n",
       "      <td>1586477999999</td>\n",
       "      <td>2.476386e+05</td>\n",
       "      <td>472</td>\n",
       "      <td>637.17163</td>\n",
       "      <td>1.076405e+05</td>\n",
       "      <td>0</td>\n",
       "    </tr>\n",
       "    <tr>\n",
       "      <th>2020-04-10 00:20:00</th>\n",
       "      <td>168.99</td>\n",
       "      <td>169.40</td>\n",
       "      <td>168.96</td>\n",
       "      <td>169.36</td>\n",
       "      <td>1067.16710</td>\n",
       "      <td>1586478299999</td>\n",
       "      <td>1.806507e+05</td>\n",
       "      <td>418</td>\n",
       "      <td>343.42918</td>\n",
       "      <td>5.811992e+04</td>\n",
       "      <td>0</td>\n",
       "    </tr>\n",
       "    <tr>\n",
       "      <th>...</th>\n",
       "      <td>...</td>\n",
       "      <td>...</td>\n",
       "      <td>...</td>\n",
       "      <td>...</td>\n",
       "      <td>...</td>\n",
       "      <td>...</td>\n",
       "      <td>...</td>\n",
       "      <td>...</td>\n",
       "      <td>...</td>\n",
       "      <td>...</td>\n",
       "      <td>...</td>\n",
       "    </tr>\n",
       "    <tr>\n",
       "      <th>2021-04-09 23:40:00</th>\n",
       "      <td>2066.80</td>\n",
       "      <td>2069.36</td>\n",
       "      <td>2065.89</td>\n",
       "      <td>2067.74</td>\n",
       "      <td>696.35201</td>\n",
       "      <td>1618011899999</td>\n",
       "      <td>1.439804e+06</td>\n",
       "      <td>1078</td>\n",
       "      <td>350.52749</td>\n",
       "      <td>7.246912e+05</td>\n",
       "      <td>0</td>\n",
       "    </tr>\n",
       "    <tr>\n",
       "      <th>2021-04-09 23:45:00</th>\n",
       "      <td>2067.75</td>\n",
       "      <td>2070.85</td>\n",
       "      <td>2067.62</td>\n",
       "      <td>2070.42</td>\n",
       "      <td>1039.88778</td>\n",
       "      <td>1618012199999</td>\n",
       "      <td>2.152313e+06</td>\n",
       "      <td>1344</td>\n",
       "      <td>554.96546</td>\n",
       "      <td>1.148618e+06</td>\n",
       "      <td>0</td>\n",
       "    </tr>\n",
       "    <tr>\n",
       "      <th>2021-04-09 23:50:00</th>\n",
       "      <td>2070.42</td>\n",
       "      <td>2070.95</td>\n",
       "      <td>2069.05</td>\n",
       "      <td>2069.52</td>\n",
       "      <td>773.88383</td>\n",
       "      <td>1618012499999</td>\n",
       "      <td>1.601904e+06</td>\n",
       "      <td>1142</td>\n",
       "      <td>428.07969</td>\n",
       "      <td>8.860856e+05</td>\n",
       "      <td>0</td>\n",
       "    </tr>\n",
       "    <tr>\n",
       "      <th>2021-04-09 23:55:00</th>\n",
       "      <td>2069.72</td>\n",
       "      <td>2069.96</td>\n",
       "      <td>2066.24</td>\n",
       "      <td>2066.87</td>\n",
       "      <td>865.66531</td>\n",
       "      <td>1618012799999</td>\n",
       "      <td>1.790270e+06</td>\n",
       "      <td>1206</td>\n",
       "      <td>377.30408</td>\n",
       "      <td>7.802539e+05</td>\n",
       "      <td>0</td>\n",
       "    </tr>\n",
       "    <tr>\n",
       "      <th>2021-04-10 00:00:00</th>\n",
       "      <td>2067.19</td>\n",
       "      <td>2068.01</td>\n",
       "      <td>2060.56</td>\n",
       "      <td>2060.75</td>\n",
       "      <td>1048.32755</td>\n",
       "      <td>1618013099999</td>\n",
       "      <td>2.164657e+06</td>\n",
       "      <td>2137</td>\n",
       "      <td>417.73355</td>\n",
       "      <td>8.626994e+05</td>\n",
       "      <td>0</td>\n",
       "    </tr>\n",
       "  </tbody>\n",
       "</table>\n",
       "<p>104946 rows × 11 columns</p>\n",
       "</div>"
      ],
      "text/plain": [
       "                        open     high      low    close      volume  \\\n",
       "timestamp                                                             \n",
       "2020-04-10 00:00:00   169.56   169.72   169.41   169.43  2906.41820   \n",
       "2020-04-10 00:05:00   169.44   169.59   168.92   169.22  3376.45186   \n",
       "2020-04-10 00:10:00   169.23   169.42   168.70   168.78  3007.20677   \n",
       "2020-04-10 00:15:00   168.84   169.12   168.80   169.00  1465.81110   \n",
       "2020-04-10 00:20:00   168.99   169.40   168.96   169.36  1067.16710   \n",
       "...                      ...      ...      ...      ...         ...   \n",
       "2021-04-09 23:40:00  2066.80  2069.36  2065.89  2067.74   696.35201   \n",
       "2021-04-09 23:45:00  2067.75  2070.85  2067.62  2070.42  1039.88778   \n",
       "2021-04-09 23:50:00  2070.42  2070.95  2069.05  2069.52   773.88383   \n",
       "2021-04-09 23:55:00  2069.72  2069.96  2066.24  2066.87   865.66531   \n",
       "2021-04-10 00:00:00  2067.19  2068.01  2060.56  2060.75  1048.32755   \n",
       "\n",
       "                        close_time      quote_av  trades  tb_base_av  \\\n",
       "timestamp                                                              \n",
       "2020-04-10 00:00:00  1586477099999  4.930542e+05     707  2260.79119   \n",
       "2020-04-10 00:05:00  1586477399999  5.711061e+05    1004  1951.63764   \n",
       "2020-04-10 00:10:00  1586477699999  5.081008e+05     752   929.71120   \n",
       "2020-04-10 00:15:00  1586477999999  2.476386e+05     472   637.17163   \n",
       "2020-04-10 00:20:00  1586478299999  1.806507e+05     418   343.42918   \n",
       "...                            ...           ...     ...         ...   \n",
       "2021-04-09 23:40:00  1618011899999  1.439804e+06    1078   350.52749   \n",
       "2021-04-09 23:45:00  1618012199999  2.152313e+06    1344   554.96546   \n",
       "2021-04-09 23:50:00  1618012499999  1.601904e+06    1142   428.07969   \n",
       "2021-04-09 23:55:00  1618012799999  1.790270e+06    1206   377.30408   \n",
       "2021-04-10 00:00:00  1618013099999  2.164657e+06    2137   417.73355   \n",
       "\n",
       "                      tb_quote_av  ignore  \n",
       "timestamp                                  \n",
       "2020-04-10 00:00:00  3.835677e+05       0  \n",
       "2020-04-10 00:05:00  3.301054e+05       0  \n",
       "2020-04-10 00:10:00  1.571687e+05       0  \n",
       "2020-04-10 00:15:00  1.076405e+05       0  \n",
       "2020-04-10 00:20:00  5.811992e+04       0  \n",
       "...                           ...     ...  \n",
       "2021-04-09 23:40:00  7.246912e+05       0  \n",
       "2021-04-09 23:45:00  1.148618e+06       0  \n",
       "2021-04-09 23:50:00  8.860856e+05       0  \n",
       "2021-04-09 23:55:00  7.802539e+05       0  \n",
       "2021-04-10 00:00:00  8.626994e+05       0  \n",
       "\n",
       "[104946 rows x 11 columns]"
      ]
     },
     "execution_count": 2,
     "metadata": {},
     "output_type": "execute_result"
    }
   ],
   "source": [
    "df_ = pd.read_csv('C:ethusd5min.csv')\n",
    "df = df_.set_index('timestamp')\n",
    "df.index = pd.to_datetime(df.index)\n",
    "df"
   ]
  },
  {
   "cell_type": "code",
   "execution_count": 3,
   "metadata": {},
   "outputs": [],
   "source": [
    "close = pd.to_numeric(df.close)"
   ]
  },
  {
   "cell_type": "code",
   "execution_count": 4,
   "metadata": {},
   "outputs": [
    {
     "data": {
      "text/plain": [
       "<matplotlib.axes._subplots.AxesSubplot at 0x1c49348eb48>"
      ]
     },
     "execution_count": 4,
     "metadata": {},
     "output_type": "execute_result"
    },
    {
     "data": {
      "image/png": "[encoded data removed]",
      "text/plain": [
       "<Figure size 432x288 with 1 Axes>"
      ]
     },
     "metadata": {},
     "output_type": "display_data"
    }
   ],
   "source": [
    "close.plot()"
   ]
  },
  {
   "cell_type": "markdown",
   "metadata": {},
   "source": [
    "- Sharpe Ratio: $\\frac{\\mu}{\\sigma} = \\frac{p\\pi+(1-p)(-\\pi)}{\\sqrt{2\\pi p(1-p)}} = \\frac{p -0.5}{\\sqrt{p(1-p)}}$ \n",
    "- $p$ (probability of winning) is given by first model"
   ]
  },
  {
   "cell_type": "markdown",
   "metadata": {},
   "source": [
    "Triple-Barrier\n",
    "\n",
    "- why did I choose triple-barrier trading method?\n",
    "    - I can fix profit and loss symmetrically"
   ]
  },
  {
   "cell_type": "code",
   "execution_count": 5,
   "metadata": {},
   "outputs": [],
   "source": [
    "window = 14*5\n",
    "rsi = ta.momentum.rsi(close,window)\n",
    "where = (rsi>=55) & (rsi<=70)\n",
    "enter = rsi[where].index"
   ]
  },
  {
   "cell_type": "code",
   "execution_count": 6,
   "metadata": {},
   "outputs": [
    {
     "data": {
      "text/plain": [
       "DatetimeIndex(['2020-04-12 00:05:00', '2020-04-12 11:30:00',\n",
       "               '2020-04-12 11:35:00', '2020-04-12 12:00:00',\n",
       "               '2020-04-12 12:05:00', '2020-04-12 12:10:00',\n",
       "               '2020-04-12 12:15:00', '2020-04-12 12:20:00',\n",
       "               '2020-04-12 12:25:00', '2020-04-12 12:30:00',\n",
       "               ...\n",
       "               '2021-04-09 01:30:00', '2021-04-09 01:40:00',\n",
       "               '2021-04-09 02:35:00', '2021-04-09 02:40:00',\n",
       "               '2021-04-09 10:10:00', '2021-04-09 10:15:00',\n",
       "               '2021-04-09 10:20:00', '2021-04-09 10:25:00',\n",
       "               '2021-04-09 10:30:00', '2021-04-09 10:35:00'],\n",
       "              dtype='datetime64[ns]', name='timestamp', length=19059, freq=None)"
      ]
     },
     "execution_count": 6,
     "metadata": {},
     "output_type": "execute_result"
    }
   ],
   "source": [
    "enter"
   ]
  },
  {
   "cell_type": "code",
   "execution_count": 7,
   "metadata": {},
   "outputs": [],
   "source": [
    "pt_sl = [0.05,0.05]"
   ]
  },
  {
   "cell_type": "markdown",
   "metadata": {},
   "source": [
    "$\\pi=0.05$"
   ]
  },
  {
   "cell_type": "code",
   "execution_count": 8,
   "metadata": {
    "scrolled": true
   },
   "outputs": [],
   "source": [
    "max_holding = [360,0]\n",
    "\n",
    "barrier = tb.get_barrier(close,enter,pt_sl,max_holding=max_holding,target=None)"
   ]
  },
  {
   "cell_type": "code",
   "execution_count": 9,
   "metadata": {},
   "outputs": [
    {
     "data": {
      "text/html": [
       "<div>\n",
       "<style scoped>\n",
       "    .dataframe tbody tr th:only-of-type {\n",
       "        vertical-align: middle;\n",
       "    }\n",
       "\n",
       "    .dataframe tbody tr th {\n",
       "        vertical-align: top;\n",
       "    }\n",
       "\n",
       "    .dataframe thead th {\n",
       "        text-align: right;\n",
       "    }\n",
       "</style>\n",
       "<table border=\"1\" class=\"dataframe\">\n",
       "  <thead>\n",
       "    <tr style=\"text-align: right;\">\n",
       "      <th></th>\n",
       "      <th>exit</th>\n",
       "      <th>price</th>\n",
       "      <th>ret</th>\n",
       "      <th>side</th>\n",
       "    </tr>\n",
       "    <tr>\n",
       "      <th>timestamp</th>\n",
       "      <th></th>\n",
       "      <th></th>\n",
       "      <th></th>\n",
       "      <th></th>\n",
       "    </tr>\n",
       "  </thead>\n",
       "  <tbody>\n",
       "    <tr>\n",
       "      <th>2020-04-12 00:05:00</th>\n",
       "      <td>2020-04-13 09:40:00</td>\n",
       "      <td>159.23</td>\n",
       "      <td>-0.053401</td>\n",
       "      <td>1.0</td>\n",
       "    </tr>\n",
       "    <tr>\n",
       "      <th>2020-04-12 11:30:00</th>\n",
       "      <td>2020-04-16 00:15:00</td>\n",
       "      <td>158.51</td>\n",
       "      <td>-0.053184</td>\n",
       "      <td>1.0</td>\n",
       "    </tr>\n",
       "    <tr>\n",
       "      <th>2020-04-12 11:35:00</th>\n",
       "      <td>2020-04-16 00:15:00</td>\n",
       "      <td>158.61</td>\n",
       "      <td>-0.053815</td>\n",
       "      <td>1.0</td>\n",
       "    </tr>\n",
       "    <tr>\n",
       "      <th>2020-04-12 12:00:00</th>\n",
       "      <td>2020-04-16 00:15:00</td>\n",
       "      <td>158.77</td>\n",
       "      <td>-0.054823</td>\n",
       "      <td>1.0</td>\n",
       "    </tr>\n",
       "    <tr>\n",
       "      <th>2020-04-12 12:05:00</th>\n",
       "      <td>2020-04-13 09:40:00</td>\n",
       "      <td>158.94</td>\n",
       "      <td>-0.051578</td>\n",
       "      <td>1.0</td>\n",
       "    </tr>\n",
       "    <tr>\n",
       "      <th>...</th>\n",
       "      <td>...</td>\n",
       "      <td>...</td>\n",
       "      <td>...</td>\n",
       "      <td>...</td>\n",
       "    </tr>\n",
       "    <tr>\n",
       "      <th>2021-04-09 10:15:00</th>\n",
       "      <td>NaT</td>\n",
       "      <td>2097.55</td>\n",
       "      <td>0.000000</td>\n",
       "      <td>1.0</td>\n",
       "    </tr>\n",
       "    <tr>\n",
       "      <th>2021-04-09 10:20:00</th>\n",
       "      <td>NaT</td>\n",
       "      <td>2099.12</td>\n",
       "      <td>0.000000</td>\n",
       "      <td>1.0</td>\n",
       "    </tr>\n",
       "    <tr>\n",
       "      <th>2021-04-09 10:25:00</th>\n",
       "      <td>NaT</td>\n",
       "      <td>2095.15</td>\n",
       "      <td>0.000000</td>\n",
       "      <td>1.0</td>\n",
       "    </tr>\n",
       "    <tr>\n",
       "      <th>2021-04-09 10:30:00</th>\n",
       "      <td>NaT</td>\n",
       "      <td>2094.29</td>\n",
       "      <td>0.000000</td>\n",
       "      <td>1.0</td>\n",
       "    </tr>\n",
       "    <tr>\n",
       "      <th>2021-04-09 10:35:00</th>\n",
       "      <td>NaT</td>\n",
       "      <td>2091.48</td>\n",
       "      <td>0.000000</td>\n",
       "      <td>1.0</td>\n",
       "    </tr>\n",
       "  </tbody>\n",
       "</table>\n",
       "<p>19059 rows × 4 columns</p>\n",
       "</div>"
      ],
      "text/plain": [
       "                                   exit    price       ret  side\n",
       "timestamp                                                       \n",
       "2020-04-12 00:05:00 2020-04-13 09:40:00   159.23 -0.053401   1.0\n",
       "2020-04-12 11:30:00 2020-04-16 00:15:00   158.51 -0.053184   1.0\n",
       "2020-04-12 11:35:00 2020-04-16 00:15:00   158.61 -0.053815   1.0\n",
       "2020-04-12 12:00:00 2020-04-16 00:15:00   158.77 -0.054823   1.0\n",
       "2020-04-12 12:05:00 2020-04-13 09:40:00   158.94 -0.051578   1.0\n",
       "...                                 ...      ...       ...   ...\n",
       "2021-04-09 10:15:00                 NaT  2097.55  0.000000   1.0\n",
       "2021-04-09 10:20:00                 NaT  2099.12  0.000000   1.0\n",
       "2021-04-09 10:25:00                 NaT  2095.15  0.000000   1.0\n",
       "2021-04-09 10:30:00                 NaT  2094.29  0.000000   1.0\n",
       "2021-04-09 10:35:00                 NaT  2091.48  0.000000   1.0\n",
       "\n",
       "[19059 rows x 4 columns]"
      ]
     },
     "execution_count": 9,
     "metadata": {},
     "output_type": "execute_result"
    }
   ],
   "source": [
    "barrier"
   ]
  },
  {
   "cell_type": "markdown",
   "metadata": {},
   "source": [
    "**we will see -1000(test periods) only**"
   ]
  },
  {
   "cell_type": "code",
   "execution_count": 11,
   "metadata": {},
   "outputs": [],
   "source": [
    "returns = barrier.ret\n",
    "returns = returns[returns!=0]"
   ]
  },
  {
   "cell_type": "code",
   "execution_count": 13,
   "metadata": {},
   "outputs": [
    {
     "data": {
      "text/plain": [
       "count    18930.000000\n",
       "mean         0.010637\n",
       "std          0.053859\n",
       "min         -0.124814\n",
       "25%         -0.053050\n",
       "50%          0.049407\n",
       "75%          0.051454\n",
       "max          0.092716\n",
       "Name: ret, dtype: float64"
      ]
     },
     "execution_count": 13,
     "metadata": {},
     "output_type": "execute_result"
    }
   ],
   "source": [
    "returns.describe()"
   ]
  },
  {
   "cell_type": "code",
   "execution_count": 14,
   "metadata": {},
   "outputs": [
    {
     "data": {
      "image/png": "[encoded data removed]",
      "text/plain": [
       "<Figure size 720x432 with 1 Axes>"
      ]
     },
     "metadata": {},
     "output_type": "display_data"
    }
   ],
   "source": [
    "plt.figure(figsize=(10,6))\n",
    "seaborn.distplot(returns)\n",
    "plt.title('distribution of returns')\n",
    "plt.show()"
   ]
  },
  {
   "cell_type": "code",
   "execution_count": 15,
   "metadata": {},
   "outputs": [
    {
     "data": {
      "text/plain": [
       " 1.0    606\n",
       "-1.0    394\n",
       "Name: pnl, dtype: int64"
      ]
     },
     "execution_count": 15,
     "metadata": {},
     "output_type": "execute_result"
    }
   ],
   "source": [
    "y_ = np.sign(returns).rename('pnl')\n",
    "y_test = y_.iloc[-1000:]\n",
    "y_test.value_counts()\n",
    "#profit and loss"
   ]
  },
  {
   "cell_type": "code",
   "execution_count": 16,
   "metadata": {},
   "outputs": [
    {
     "name": "stdout",
     "output_type": "stream",
     "text": [
      "Probabilities of winning (p):  0.606\n"
     ]
    }
   ],
   "source": [
    "p = y_test.value_counts().iloc[0]/(y_test.value_counts().iloc[0]+y_test.value_counts().iloc[1])\n",
    "print('Probabilities of winning (p): ',p)"
   ]
  },
  {
   "cell_type": "code",
   "execution_count": 18,
   "metadata": {},
   "outputs": [
    {
     "name": "stdout",
     "output_type": "stream",
     "text": [
      "Total Sharpe Ratio:  6.859957771216559\n"
     ]
    }
   ],
   "source": [
    "asr = np.sqrt(len(y_test))*(p-0.5)/np.sqrt(p*(1-p))\n",
    "print('Total Sharpe Ratio: ',asr)"
   ]
  },
  {
   "cell_type": "code",
   "execution_count": 62,
   "metadata": {},
   "outputs": [
    {
     "data": {
      "image/png": "[encoded data removed]",
      "text/plain": [
       "<Figure size 432x288 with 1 Axes>"
      ]
     },
     "metadata": {},
     "output_type": "display_data"
    }
   ],
   "source": [
    "plt.plot(returns.loc[y_test.index].cumsum())\n",
    "plt.title('Cumulative sum of returns without transcation cost')\n",
    "plt.show()"
   ]
  },
  {
   "cell_type": "code",
   "execution_count": 68,
   "metadata": {},
   "outputs": [
    {
     "data": {
      "image/png": "[encoded data removed]",
      "text/plain": [
       "<Figure size 432x288 with 1 Axes>"
      ]
     },
     "metadata": {},
     "output_type": "display_data"
    }
   ],
   "source": [
    "plt.plot((returns.loc[y_test.index]-0.0005).cumsum())\n",
    "plt.title('Cumulative sum of returns with transcation cost')\n",
    "plt.show()"
   ]
  },
  {
   "cell_type": "markdown",
   "metadata": {},
   "source": [
    "# Adjust Sharpe ratio by meta-labeling"
   ]
  },
  {
   "cell_type": "markdown",
   "metadata": {},
   "source": [
    "- drop loss-predicted bets\n",
    "- prediction by Machine Learning method (Random Forest Classifier)\n",
    "\n",
    "- NEED precision score > probability of winning of 1st model"
   ]
  },
  {
   "cell_type": "markdown",
   "metadata": {},
   "source": [
    "### X\n",
    "- 21 technical indicators features"
   ]
  },
  {
   "cell_type": "code",
   "execution_count": 19,
   "metadata": {},
   "outputs": [],
   "source": [
    "df_ = df.iloc[:,:5]"
   ]
  },
  {
   "cell_type": "code",
   "execution_count": 20,
   "metadata": {},
   "outputs": [],
   "source": [
    "TI = getTA.get_ta(df_).shift(1).iloc[:,4:].dropna()"
   ]
  },
  {
   "cell_type": "code",
   "execution_count": 21,
   "metadata": {},
   "outputs": [
    {
     "data": {
      "text/html": [
       "<div>\n",
       "<style scoped>\n",
       "    .dataframe tbody tr th:only-of-type {\n",
       "        vertical-align: middle;\n",
       "    }\n",
       "\n",
       "    .dataframe tbody tr th {\n",
       "        vertical-align: top;\n",
       "    }\n",
       "\n",
       "    .dataframe thead th {\n",
       "        text-align: right;\n",
       "    }\n",
       "</style>\n",
       "<table border=\"1\" class=\"dataframe\">\n",
       "  <thead>\n",
       "    <tr style=\"text-align: right;\">\n",
       "      <th></th>\n",
       "      <th>volume</th>\n",
       "      <th>m_rsi</th>\n",
       "      <th>m_roc</th>\n",
       "      <th>m_cmo</th>\n",
       "      <th>m_wr</th>\n",
       "      <th>vm_cmf</th>\n",
       "      <th>vm_mfi</th>\n",
       "      <th>vm_fi</th>\n",
       "      <th>vm_eom</th>\n",
       "      <th>vl_bbp</th>\n",
       "      <th>vl_atr</th>\n",
       "      <th>t_macdd</th>\n",
       "      <th>t_trix</th>\n",
       "      <th>t_cci</th>\n",
       "      <th>t_dpo</th>\n",
       "      <th>t_kst</th>\n",
       "      <th>t_adx</th>\n",
       "    </tr>\n",
       "    <tr>\n",
       "      <th>timestamp</th>\n",
       "      <th></th>\n",
       "      <th></th>\n",
       "      <th></th>\n",
       "      <th></th>\n",
       "      <th></th>\n",
       "      <th></th>\n",
       "      <th></th>\n",
       "      <th></th>\n",
       "      <th></th>\n",
       "      <th></th>\n",
       "      <th></th>\n",
       "      <th></th>\n",
       "      <th></th>\n",
       "      <th></th>\n",
       "      <th></th>\n",
       "      <th></th>\n",
       "      <th></th>\n",
       "    </tr>\n",
       "  </thead>\n",
       "  <tbody>\n",
       "    <tr>\n",
       "      <th>2020-04-10 03:40:00</th>\n",
       "      <td>30473.22518</td>\n",
       "      <td>24.153181</td>\n",
       "      <td>-1.069359</td>\n",
       "      <td>-42.690</td>\n",
       "      <td>-82.507289</td>\n",
       "      <td>-0.214651</td>\n",
       "      <td>21.012617</td>\n",
       "      <td>-6819.192396</td>\n",
       "      <td>-8925.868476</td>\n",
       "      <td>-0.311615</td>\n",
       "      <td>0.650566</td>\n",
       "      <td>-0.150505</td>\n",
       "      <td>-0.032532</td>\n",
       "      <td>-300.893176</td>\n",
       "      <td>-0.1735</td>\n",
       "      <td>-28.839048</td>\n",
       "      <td>44.303134</td>\n",
       "    </tr>\n",
       "    <tr>\n",
       "      <th>2020-04-10 03:45:00</th>\n",
       "      <td>7905.56877</td>\n",
       "      <td>30.483021</td>\n",
       "      <td>-1.037072</td>\n",
       "      <td>-26.112</td>\n",
       "      <td>-69.679300</td>\n",
       "      <td>-0.116038</td>\n",
       "      <td>31.280292</td>\n",
       "      <td>-5348.100588</td>\n",
       "      <td>-1147.924996</td>\n",
       "      <td>-0.044477</td>\n",
       "      <td>0.643383</td>\n",
       "      <td>-0.183712</td>\n",
       "      <td>-0.036226</td>\n",
       "      <td>-231.579158</td>\n",
       "      <td>-0.1365</td>\n",
       "      <td>-9.549022</td>\n",
       "      <td>46.130866</td>\n",
       "    </tr>\n",
       "    <tr>\n",
       "      <th>2020-04-10 03:50:00</th>\n",
       "      <td>10105.91926</td>\n",
       "      <td>27.404310</td>\n",
       "      <td>-1.311945</td>\n",
       "      <td>-42.964</td>\n",
       "      <td>-85.714286</td>\n",
       "      <td>-0.142446</td>\n",
       "      <td>30.152914</td>\n",
       "      <td>-5378.122731</td>\n",
       "      <td>-2399.583786</td>\n",
       "      <td>-0.083090</td>\n",
       "      <td>0.666712</td>\n",
       "      <td>-0.226040</td>\n",
       "      <td>-0.040792</td>\n",
       "      <td>-215.144150</td>\n",
       "      <td>0.1720</td>\n",
       "      <td>-10.576129</td>\n",
       "      <td>48.040671</td>\n",
       "    </tr>\n",
       "    <tr>\n",
       "      <th>2020-04-10 03:55:00</th>\n",
       "      <td>21052.78551</td>\n",
       "      <td>20.299027</td>\n",
       "      <td>-2.448907</td>\n",
       "      <td>-56.633</td>\n",
       "      <td>-83.658970</td>\n",
       "      <td>-0.177688</td>\n",
       "      <td>21.134356</td>\n",
       "      <td>-9933.166677</td>\n",
       "      <td>-18399.465468</td>\n",
       "      <td>-0.245078</td>\n",
       "      <td>0.824804</td>\n",
       "      <td>-0.349208</td>\n",
       "      <td>-0.047720</td>\n",
       "      <td>-259.054846</td>\n",
       "      <td>0.8355</td>\n",
       "      <td>-12.338119</td>\n",
       "      <td>50.487342</td>\n",
       "    </tr>\n",
       "    <tr>\n",
       "      <th>2020-04-10 04:00:00</th>\n",
       "      <td>10853.38928</td>\n",
       "      <td>19.236899</td>\n",
       "      <td>-2.900446</td>\n",
       "      <td>-61.773</td>\n",
       "      <td>-89.875666</td>\n",
       "      <td>-0.198880</td>\n",
       "      <td>16.834231</td>\n",
       "      <td>-9056.812330</td>\n",
       "      <td>-5933.630347</td>\n",
       "      <td>-0.138776</td>\n",
       "      <td>0.831604</td>\n",
       "      <td>-0.425172</td>\n",
       "      <td>-0.056254</td>\n",
       "      <td>-223.416893</td>\n",
       "      <td>0.8590</td>\n",
       "      <td>-14.564377</td>\n",
       "      <td>52.759252</td>\n",
       "    </tr>\n",
       "    <tr>\n",
       "      <th>...</th>\n",
       "      <td>...</td>\n",
       "      <td>...</td>\n",
       "      <td>...</td>\n",
       "      <td>...</td>\n",
       "      <td>...</td>\n",
       "      <td>...</td>\n",
       "      <td>...</td>\n",
       "      <td>...</td>\n",
       "      <td>...</td>\n",
       "      <td>...</td>\n",
       "      <td>...</td>\n",
       "      <td>...</td>\n",
       "      <td>...</td>\n",
       "      <td>...</td>\n",
       "      <td>...</td>\n",
       "      <td>...</td>\n",
       "      <td>...</td>\n",
       "    </tr>\n",
       "    <tr>\n",
       "      <th>2021-04-09 23:40:00</th>\n",
       "      <td>750.04938</td>\n",
       "      <td>44.324577</td>\n",
       "      <td>-0.211474</td>\n",
       "      <td>-29.486</td>\n",
       "      <td>-46.505782</td>\n",
       "      <td>0.048958</td>\n",
       "      <td>43.042871</td>\n",
       "      <td>-347.266785</td>\n",
       "      <td>715092.918282</td>\n",
       "      <td>0.402178</td>\n",
       "      <td>4.536992</td>\n",
       "      <td>-0.007975</td>\n",
       "      <td>-0.018536</td>\n",
       "      <td>-32.456997</td>\n",
       "      <td>2.5085</td>\n",
       "      <td>-4.730109</td>\n",
       "      <td>25.476123</td>\n",
       "    </tr>\n",
       "    <tr>\n",
       "      <th>2021-04-09 23:45:00</th>\n",
       "      <td>696.35201</td>\n",
       "      <td>46.907260</td>\n",
       "      <td>-0.161269</td>\n",
       "      <td>-17.321</td>\n",
       "      <td>-36.582694</td>\n",
       "      <td>0.002936</td>\n",
       "      <td>42.766729</td>\n",
       "      <td>-204.147118</td>\n",
       "      <td>747466.787667</td>\n",
       "      <td>0.472621</td>\n",
       "      <td>4.460778</td>\n",
       "      <td>0.245158</td>\n",
       "      <td>-0.018359</td>\n",
       "      <td>-7.577335</td>\n",
       "      <td>0.1310</td>\n",
       "      <td>-4.669087</td>\n",
       "      <td>24.662763</td>\n",
       "    </tr>\n",
       "    <tr>\n",
       "      <th>2021-04-09 23:50:00</th>\n",
       "      <td>1039.88778</td>\n",
       "      <td>53.526453</td>\n",
       "      <td>0.100564</td>\n",
       "      <td>-2.941</td>\n",
       "      <td>-10.539523</td>\n",
       "      <td>0.052692</td>\n",
       "      <td>48.652740</td>\n",
       "      <td>223.145221</td>\n",
       "      <td>500082.807012</td>\n",
       "      <td>0.652595</td>\n",
       "      <td>4.372866</td>\n",
       "      <td>0.585249</td>\n",
       "      <td>-0.017613</td>\n",
       "      <td>32.839129</td>\n",
       "      <td>0.0590</td>\n",
       "      <td>-4.461090</td>\n",
       "      <td>23.365019</td>\n",
       "    </tr>\n",
       "    <tr>\n",
       "      <th>2021-04-09 23:55:00</th>\n",
       "      <td>773.88383</td>\n",
       "      <td>51.217166</td>\n",
       "      <td>0.072049</td>\n",
       "      <td>5.728</td>\n",
       "      <td>-14.741544</td>\n",
       "      <td>0.057535</td>\n",
       "      <td>54.366664</td>\n",
       "      <td>91.767982</td>\n",
       "      <td>187818.887494</td>\n",
       "      <td>0.626637</td>\n",
       "      <td>4.196232</td>\n",
       "      <td>0.732213</td>\n",
       "      <td>-0.016567</td>\n",
       "      <td>46.550192</td>\n",
       "      <td>-1.1425</td>\n",
       "      <td>-4.187027</td>\n",
       "      <td>22.123547</td>\n",
       "    </tr>\n",
       "    <tr>\n",
       "      <th>2021-04-10 00:00:00</th>\n",
       "      <td>865.66531</td>\n",
       "      <td>45.053665</td>\n",
       "      <td>0.016453</td>\n",
       "      <td>-5.057</td>\n",
       "      <td>-27.586207</td>\n",
       "      <td>0.032821</td>\n",
       "      <td>56.718940</td>\n",
       "      <td>-249.057882</td>\n",
       "      <td>-816481.834071</td>\n",
       "      <td>0.462372</td>\n",
       "      <td>4.162216</td>\n",
       "      <td>0.637077</td>\n",
       "      <td>-0.015583</td>\n",
       "      <td>9.112126</td>\n",
       "      <td>-3.4040</td>\n",
       "      <td>-3.841484</td>\n",
       "      <td>21.820670</td>\n",
       "    </tr>\n",
       "  </tbody>\n",
       "</table>\n",
       "<p>104874 rows × 17 columns</p>\n",
       "</div>"
      ],
      "text/plain": [
       "                          volume      m_rsi     m_roc   m_cmo       m_wr  \\\n",
       "timestamp                                                                  \n",
       "2020-04-10 03:40:00  30473.22518  24.153181 -1.069359 -42.690 -82.507289   \n",
       "2020-04-10 03:45:00   7905.56877  30.483021 -1.037072 -26.112 -69.679300   \n",
       "2020-04-10 03:50:00  10105.91926  27.404310 -1.311945 -42.964 -85.714286   \n",
       "2020-04-10 03:55:00  21052.78551  20.299027 -2.448907 -56.633 -83.658970   \n",
       "2020-04-10 04:00:00  10853.38928  19.236899 -2.900446 -61.773 -89.875666   \n",
       "...                          ...        ...       ...     ...        ...   \n",
       "2021-04-09 23:40:00    750.04938  44.324577 -0.211474 -29.486 -46.505782   \n",
       "2021-04-09 23:45:00    696.35201  46.907260 -0.161269 -17.321 -36.582694   \n",
       "2021-04-09 23:50:00   1039.88778  53.526453  0.100564  -2.941 -10.539523   \n",
       "2021-04-09 23:55:00    773.88383  51.217166  0.072049   5.728 -14.741544   \n",
       "2021-04-10 00:00:00    865.66531  45.053665  0.016453  -5.057 -27.586207   \n",
       "\n",
       "                       vm_cmf     vm_mfi        vm_fi         vm_eom  \\\n",
       "timestamp                                                              \n",
       "2020-04-10 03:40:00 -0.214651  21.012617 -6819.192396   -8925.868476   \n",
       "2020-04-10 03:45:00 -0.116038  31.280292 -5348.100588   -1147.924996   \n",
       "2020-04-10 03:50:00 -0.142446  30.152914 -5378.122731   -2399.583786   \n",
       "2020-04-10 03:55:00 -0.177688  21.134356 -9933.166677  -18399.465468   \n",
       "2020-04-10 04:00:00 -0.198880  16.834231 -9056.812330   -5933.630347   \n",
       "...                       ...        ...          ...            ...   \n",
       "2021-04-09 23:40:00  0.048958  43.042871  -347.266785  715092.918282   \n",
       "2021-04-09 23:45:00  0.002936  42.766729  -204.147118  747466.787667   \n",
       "2021-04-09 23:50:00  0.052692  48.652740   223.145221  500082.807012   \n",
       "2021-04-09 23:55:00  0.057535  54.366664    91.767982  187818.887494   \n",
       "2021-04-10 00:00:00  0.032821  56.718940  -249.057882 -816481.834071   \n",
       "\n",
       "                       vl_bbp    vl_atr   t_macdd    t_trix       t_cci  \\\n",
       "timestamp                                                                 \n",
       "2020-04-10 03:40:00 -0.311615  0.650566 -0.150505 -0.032532 -300.893176   \n",
       "2020-04-10 03:45:00 -0.044477  0.643383 -0.183712 -0.036226 -231.579158   \n",
       "2020-04-10 03:50:00 -0.083090  0.666712 -0.226040 -0.040792 -215.144150   \n",
       "2020-04-10 03:55:00 -0.245078  0.824804 -0.349208 -0.047720 -259.054846   \n",
       "2020-04-10 04:00:00 -0.138776  0.831604 -0.425172 -0.056254 -223.416893   \n",
       "...                       ...       ...       ...       ...         ...   \n",
       "2021-04-09 23:40:00  0.402178  4.536992 -0.007975 -0.018536  -32.456997   \n",
       "2021-04-09 23:45:00  0.472621  4.460778  0.245158 -0.018359   -7.577335   \n",
       "2021-04-09 23:50:00  0.652595  4.372866  0.585249 -0.017613   32.839129   \n",
       "2021-04-09 23:55:00  0.626637  4.196232  0.732213 -0.016567   46.550192   \n",
       "2021-04-10 00:00:00  0.462372  4.162216  0.637077 -0.015583    9.112126   \n",
       "\n",
       "                      t_dpo      t_kst      t_adx  \n",
       "timestamp                                          \n",
       "2020-04-10 03:40:00 -0.1735 -28.839048  44.303134  \n",
       "2020-04-10 03:45:00 -0.1365  -9.549022  46.130866  \n",
       "2020-04-10 03:50:00  0.1720 -10.576129  48.040671  \n",
       "2020-04-10 03:55:00  0.8355 -12.338119  50.487342  \n",
       "2020-04-10 04:00:00  0.8590 -14.564377  52.759252  \n",
       "...                     ...        ...        ...  \n",
       "2021-04-09 23:40:00  2.5085  -4.730109  25.476123  \n",
       "2021-04-09 23:45:00  0.1310  -4.669087  24.662763  \n",
       "2021-04-09 23:50:00  0.0590  -4.461090  23.365019  \n",
       "2021-04-09 23:55:00 -1.1425  -4.187027  22.123547  \n",
       "2021-04-10 00:00:00 -3.4040  -3.841484  21.820670  \n",
       "\n",
       "[104874 rows x 17 columns]"
      ]
     },
     "execution_count": 21,
     "metadata": {},
     "output_type": "execute_result"
    }
   ],
   "source": [
    "TI"
   ]
  },
  {
   "cell_type": "code",
   "execution_count": 22,
   "metadata": {},
   "outputs": [],
   "source": [
    "from sklearn.preprocessing import StandardScaler\n",
    "scaler = StandardScaler()\n",
    "TI_norm = pd.DataFrame(scaler.fit_transform(TI),index=TI.index)"
   ]
  },
  {
   "cell_type": "code",
   "execution_count": 23,
   "metadata": {},
   "outputs": [
    {
     "data": {
      "text/html": [
       "<div>\n",
       "<style scoped>\n",
       "    .dataframe tbody tr th:only-of-type {\n",
       "        vertical-align: middle;\n",
       "    }\n",
       "\n",
       "    .dataframe tbody tr th {\n",
       "        vertical-align: top;\n",
       "    }\n",
       "\n",
       "    .dataframe thead th {\n",
       "        text-align: right;\n",
       "    }\n",
       "</style>\n",
       "<table border=\"1\" class=\"dataframe\">\n",
       "  <thead>\n",
       "    <tr style=\"text-align: right;\">\n",
       "      <th></th>\n",
       "      <th>0</th>\n",
       "      <th>1</th>\n",
       "      <th>2</th>\n",
       "      <th>3</th>\n",
       "      <th>4</th>\n",
       "      <th>5</th>\n",
       "      <th>6</th>\n",
       "      <th>7</th>\n",
       "      <th>8</th>\n",
       "      <th>9</th>\n",
       "    </tr>\n",
       "    <tr>\n",
       "      <th>timestamp</th>\n",
       "      <th></th>\n",
       "      <th></th>\n",
       "      <th></th>\n",
       "      <th></th>\n",
       "      <th></th>\n",
       "      <th></th>\n",
       "      <th></th>\n",
       "      <th></th>\n",
       "      <th></th>\n",
       "      <th></th>\n",
       "    </tr>\n",
       "  </thead>\n",
       "  <tbody>\n",
       "    <tr>\n",
       "      <th>2020-04-10 03:40:00</th>\n",
       "      <td>5.803148</td>\n",
       "      <td>2.436308</td>\n",
       "      <td>2.212780</td>\n",
       "      <td>3.875526</td>\n",
       "      <td>-0.474828</td>\n",
       "      <td>-0.982681</td>\n",
       "      <td>0.872002</td>\n",
       "      <td>3.798297</td>\n",
       "      <td>-3.373521</td>\n",
       "      <td>0.203258</td>\n",
       "    </tr>\n",
       "    <tr>\n",
       "      <th>2020-04-10 03:45:00</th>\n",
       "      <td>3.958249</td>\n",
       "      <td>0.865602</td>\n",
       "      <td>-0.010403</td>\n",
       "      <td>1.498914</td>\n",
       "      <td>-0.383745</td>\n",
       "      <td>-1.648866</td>\n",
       "      <td>0.492750</td>\n",
       "      <td>0.520263</td>\n",
       "      <td>-0.382873</td>\n",
       "      <td>0.381655</td>\n",
       "    </tr>\n",
       "    <tr>\n",
       "      <th>2020-04-10 03:50:00</th>\n",
       "      <td>4.637972</td>\n",
       "      <td>0.922638</td>\n",
       "      <td>0.222169</td>\n",
       "      <td>1.825615</td>\n",
       "      <td>-0.521464</td>\n",
       "      <td>-1.700395</td>\n",
       "      <td>0.534419</td>\n",
       "      <td>0.735843</td>\n",
       "      <td>-0.727012</td>\n",
       "      <td>0.454226</td>\n",
       "    </tr>\n",
       "    <tr>\n",
       "      <th>2020-04-10 03:55:00</th>\n",
       "      <td>6.148734</td>\n",
       "      <td>1.478858</td>\n",
       "      <td>1.792590</td>\n",
       "      <td>2.782167</td>\n",
       "      <td>-0.728106</td>\n",
       "      <td>-1.617876</td>\n",
       "      <td>0.672919</td>\n",
       "      <td>2.327900</td>\n",
       "      <td>-1.873764</td>\n",
       "      <td>0.094821</td>\n",
       "    </tr>\n",
       "    <tr>\n",
       "      <th>2020-04-10 04:00:00</th>\n",
       "      <td>6.383151</td>\n",
       "      <td>1.372005</td>\n",
       "      <td>0.523317</td>\n",
       "      <td>1.633425</td>\n",
       "      <td>-0.765664</td>\n",
       "      <td>-1.973847</td>\n",
       "      <td>0.617166</td>\n",
       "      <td>0.764420</td>\n",
       "      <td>-0.678217</td>\n",
       "      <td>-0.067371</td>\n",
       "    </tr>\n",
       "    <tr>\n",
       "      <th>...</th>\n",
       "      <td>...</td>\n",
       "      <td>...</td>\n",
       "      <td>...</td>\n",
       "      <td>...</td>\n",
       "      <td>...</td>\n",
       "      <td>...</td>\n",
       "      <td>...</td>\n",
       "      <td>...</td>\n",
       "      <td>...</td>\n",
       "      <td>...</td>\n",
       "    </tr>\n",
       "    <tr>\n",
       "      <th>2021-04-09 23:40:00</th>\n",
       "      <td>1.130850</td>\n",
       "      <td>0.528474</td>\n",
       "      <td>-0.481391</td>\n",
       "      <td>-0.360916</td>\n",
       "      <td>-1.426942</td>\n",
       "      <td>0.258497</td>\n",
       "      <td>-0.544105</td>\n",
       "      <td>-0.314237</td>\n",
       "      <td>0.493185</td>\n",
       "      <td>0.069487</td>\n",
       "    </tr>\n",
       "    <tr>\n",
       "      <th>2021-04-09 23:45:00</th>\n",
       "      <td>0.561475</td>\n",
       "      <td>0.854017</td>\n",
       "      <td>-0.722646</td>\n",
       "      <td>-0.289583</td>\n",
       "      <td>-1.186912</td>\n",
       "      <td>0.399787</td>\n",
       "      <td>-0.061955</td>\n",
       "      <td>-0.195040</td>\n",
       "      <td>0.616717</td>\n",
       "      <td>-0.136111</td>\n",
       "    </tr>\n",
       "    <tr>\n",
       "      <th>2021-04-09 23:50:00</th>\n",
       "      <td>-0.730273</td>\n",
       "      <td>1.167703</td>\n",
       "      <td>-0.436523</td>\n",
       "      <td>-0.615788</td>\n",
       "      <td>-0.676435</td>\n",
       "      <td>0.370007</td>\n",
       "      <td>-0.229717</td>\n",
       "      <td>-0.239634</td>\n",
       "      <td>0.425249</td>\n",
       "      <td>-0.428015</td>\n",
       "    </tr>\n",
       "    <tr>\n",
       "      <th>2021-04-09 23:55:00</th>\n",
       "      <td>-0.858621</td>\n",
       "      <td>1.091309</td>\n",
       "      <td>-0.539204</td>\n",
       "      <td>-0.501745</td>\n",
       "      <td>0.010140</td>\n",
       "      <td>0.355331</td>\n",
       "      <td>-0.287536</td>\n",
       "      <td>-0.294708</td>\n",
       "      <td>0.388446</td>\n",
       "      <td>-0.144185</td>\n",
       "    </tr>\n",
       "    <tr>\n",
       "      <th>2021-04-10 00:00:00</th>\n",
       "      <td>-0.014013</td>\n",
       "      <td>0.624943</td>\n",
       "      <td>-0.657220</td>\n",
       "      <td>0.182551</td>\n",
       "      <td>1.698526</td>\n",
       "      <td>0.168127</td>\n",
       "      <td>-0.482060</td>\n",
       "      <td>-0.546000</td>\n",
       "      <td>0.223215</td>\n",
       "      <td>-0.092921</td>\n",
       "    </tr>\n",
       "  </tbody>\n",
       "</table>\n",
       "<p>104874 rows × 10 columns</p>\n",
       "</div>"
      ],
      "text/plain": [
       "                            0         1         2         3         4  \\\n",
       "timestamp                                                               \n",
       "2020-04-10 03:40:00  5.803148  2.436308  2.212780  3.875526 -0.474828   \n",
       "2020-04-10 03:45:00  3.958249  0.865602 -0.010403  1.498914 -0.383745   \n",
       "2020-04-10 03:50:00  4.637972  0.922638  0.222169  1.825615 -0.521464   \n",
       "2020-04-10 03:55:00  6.148734  1.478858  1.792590  2.782167 -0.728106   \n",
       "2020-04-10 04:00:00  6.383151  1.372005  0.523317  1.633425 -0.765664   \n",
       "...                       ...       ...       ...       ...       ...   \n",
       "2021-04-09 23:40:00  1.130850  0.528474 -0.481391 -0.360916 -1.426942   \n",
       "2021-04-09 23:45:00  0.561475  0.854017 -0.722646 -0.289583 -1.186912   \n",
       "2021-04-09 23:50:00 -0.730273  1.167703 -0.436523 -0.615788 -0.676435   \n",
       "2021-04-09 23:55:00 -0.858621  1.091309 -0.539204 -0.501745  0.010140   \n",
       "2021-04-10 00:00:00 -0.014013  0.624943 -0.657220  0.182551  1.698526   \n",
       "\n",
       "                            5         6         7         8         9  \n",
       "timestamp                                                              \n",
       "2020-04-10 03:40:00 -0.982681  0.872002  3.798297 -3.373521  0.203258  \n",
       "2020-04-10 03:45:00 -1.648866  0.492750  0.520263 -0.382873  0.381655  \n",
       "2020-04-10 03:50:00 -1.700395  0.534419  0.735843 -0.727012  0.454226  \n",
       "2020-04-10 03:55:00 -1.617876  0.672919  2.327900 -1.873764  0.094821  \n",
       "2020-04-10 04:00:00 -1.973847  0.617166  0.764420 -0.678217 -0.067371  \n",
       "...                       ...       ...       ...       ...       ...  \n",
       "2021-04-09 23:40:00  0.258497 -0.544105 -0.314237  0.493185  0.069487  \n",
       "2021-04-09 23:45:00  0.399787 -0.061955 -0.195040  0.616717 -0.136111  \n",
       "2021-04-09 23:50:00  0.370007 -0.229717 -0.239634  0.425249 -0.428015  \n",
       "2021-04-09 23:55:00  0.355331 -0.287536 -0.294708  0.388446 -0.144185  \n",
       "2021-04-10 00:00:00  0.168127 -0.482060 -0.546000  0.223215 -0.092921  \n",
       "\n",
       "[104874 rows x 10 columns]"
      ]
     },
     "execution_count": 23,
     "metadata": {},
     "output_type": "execute_result"
    }
   ],
   "source": [
    "from sklearn.decomposition import PCA\n",
    "pca = PCA(10)\n",
    "TI_pc = pd.DataFrame(pca.fit_transform(TI_norm),index=TI.index)\n",
    "TI_pc"
   ]
  },
  {
   "cell_type": "code",
   "execution_count": 24,
   "metadata": {},
   "outputs": [],
   "source": [
    "tmp = TI_pc.join(y_).dropna()\n",
    "X = tmp.iloc[:,:-1]\n",
    "y = tmp.iloc[:,-1]"
   ]
  },
  {
   "cell_type": "code",
   "execution_count": 25,
   "metadata": {},
   "outputs": [],
   "source": [
    "X_train = X.iloc[:-1000]\n",
    "X_test = X.iloc[-1000:]\n",
    "\n",
    "y_train = y.iloc[:-1000]\n",
    "y_test = y.iloc[-1000:]"
   ]
  },
  {
   "cell_type": "code",
   "execution_count": 26,
   "metadata": {},
   "outputs": [
    {
     "data": {
      "text/html": [
       "<div>\n",
       "<style scoped>\n",
       "    .dataframe tbody tr th:only-of-type {\n",
       "        vertical-align: middle;\n",
       "    }\n",
       "\n",
       "    .dataframe tbody tr th {\n",
       "        vertical-align: top;\n",
       "    }\n",
       "\n",
       "    .dataframe thead th {\n",
       "        text-align: right;\n",
       "    }\n",
       "</style>\n",
       "<table border=\"1\" class=\"dataframe\">\n",
       "  <thead>\n",
       "    <tr style=\"text-align: right;\">\n",
       "      <th></th>\n",
       "      <th>0</th>\n",
       "      <th>1</th>\n",
       "      <th>2</th>\n",
       "      <th>3</th>\n",
       "      <th>4</th>\n",
       "      <th>5</th>\n",
       "      <th>6</th>\n",
       "      <th>7</th>\n",
       "      <th>8</th>\n",
       "      <th>9</th>\n",
       "    </tr>\n",
       "    <tr>\n",
       "      <th>timestamp</th>\n",
       "      <th></th>\n",
       "      <th></th>\n",
       "      <th></th>\n",
       "      <th></th>\n",
       "      <th></th>\n",
       "      <th></th>\n",
       "      <th></th>\n",
       "      <th></th>\n",
       "      <th></th>\n",
       "      <th></th>\n",
       "    </tr>\n",
       "  </thead>\n",
       "  <tbody>\n",
       "    <tr>\n",
       "      <th>2021-03-18 01:50:00</th>\n",
       "      <td>0.848697</td>\n",
       "      <td>-0.857185</td>\n",
       "      <td>-0.342890</td>\n",
       "      <td>0.279861</td>\n",
       "      <td>1.974335</td>\n",
       "      <td>1.420483</td>\n",
       "      <td>-0.022626</td>\n",
       "      <td>-0.823150</td>\n",
       "      <td>-0.443766</td>\n",
       "      <td>-0.057852</td>\n",
       "    </tr>\n",
       "    <tr>\n",
       "      <th>2021-03-18 02:00:00</th>\n",
       "      <td>-2.190342</td>\n",
       "      <td>0.541834</td>\n",
       "      <td>-0.176185</td>\n",
       "      <td>-1.097706</td>\n",
       "      <td>-1.228843</td>\n",
       "      <td>1.801033</td>\n",
       "      <td>0.409762</td>\n",
       "      <td>-0.179160</td>\n",
       "      <td>0.139902</td>\n",
       "      <td>0.081601</td>\n",
       "    </tr>\n",
       "    <tr>\n",
       "      <th>2021-03-18 02:10:00</th>\n",
       "      <td>-2.120593</td>\n",
       "      <td>0.269850</td>\n",
       "      <td>-0.049740</td>\n",
       "      <td>-0.720698</td>\n",
       "      <td>0.380495</td>\n",
       "      <td>1.424886</td>\n",
       "      <td>0.085391</td>\n",
       "      <td>-0.497389</td>\n",
       "      <td>-0.176504</td>\n",
       "      <td>-0.183692</td>\n",
       "    </tr>\n",
       "    <tr>\n",
       "      <th>2021-03-18 02:15:00</th>\n",
       "      <td>-3.601124</td>\n",
       "      <td>0.915501</td>\n",
       "      <td>0.146115</td>\n",
       "      <td>-1.141983</td>\n",
       "      <td>-1.032296</td>\n",
       "      <td>1.584279</td>\n",
       "      <td>0.412312</td>\n",
       "      <td>-0.188788</td>\n",
       "      <td>-0.176600</td>\n",
       "      <td>-0.157018</td>\n",
       "    </tr>\n",
       "    <tr>\n",
       "      <th>2021-03-18 02:20:00</th>\n",
       "      <td>-3.049066</td>\n",
       "      <td>0.494241</td>\n",
       "      <td>0.091714</td>\n",
       "      <td>-0.788360</td>\n",
       "      <td>-0.024474</td>\n",
       "      <td>1.291781</td>\n",
       "      <td>0.093161</td>\n",
       "      <td>-0.463016</td>\n",
       "      <td>-0.150710</td>\n",
       "      <td>0.259528</td>\n",
       "    </tr>\n",
       "    <tr>\n",
       "      <th>...</th>\n",
       "      <td>...</td>\n",
       "      <td>...</td>\n",
       "      <td>...</td>\n",
       "      <td>...</td>\n",
       "      <td>...</td>\n",
       "      <td>...</td>\n",
       "      <td>...</td>\n",
       "      <td>...</td>\n",
       "      <td>...</td>\n",
       "      <td>...</td>\n",
       "    </tr>\n",
       "    <tr>\n",
       "      <th>2021-04-06 00:55:00</th>\n",
       "      <td>-4.108840</td>\n",
       "      <td>1.011093</td>\n",
       "      <td>-0.205462</td>\n",
       "      <td>1.665882</td>\n",
       "      <td>0.848608</td>\n",
       "      <td>0.798277</td>\n",
       "      <td>0.216724</td>\n",
       "      <td>-1.156325</td>\n",
       "      <td>0.596836</td>\n",
       "      <td>0.931099</td>\n",
       "    </tr>\n",
       "    <tr>\n",
       "      <th>2021-04-06 01:00:00</th>\n",
       "      <td>-5.132137</td>\n",
       "      <td>1.584889</td>\n",
       "      <td>-0.334789</td>\n",
       "      <td>1.652709</td>\n",
       "      <td>-1.449439</td>\n",
       "      <td>1.123660</td>\n",
       "      <td>0.847850</td>\n",
       "      <td>-0.358234</td>\n",
       "      <td>1.096555</td>\n",
       "      <td>1.270609</td>\n",
       "    </tr>\n",
       "    <tr>\n",
       "      <th>2021-04-06 01:05:00</th>\n",
       "      <td>-3.082528</td>\n",
       "      <td>0.616584</td>\n",
       "      <td>1.936388</td>\n",
       "      <td>0.783610</td>\n",
       "      <td>-1.861422</td>\n",
       "      <td>1.182496</td>\n",
       "      <td>0.732676</td>\n",
       "      <td>-1.302484</td>\n",
       "      <td>-1.587118</td>\n",
       "      <td>1.761720</td>\n",
       "    </tr>\n",
       "    <tr>\n",
       "      <th>2021-04-06 01:10:00</th>\n",
       "      <td>-4.000256</td>\n",
       "      <td>0.531313</td>\n",
       "      <td>0.914477</td>\n",
       "      <td>1.109084</td>\n",
       "      <td>0.596489</td>\n",
       "      <td>0.663265</td>\n",
       "      <td>0.709112</td>\n",
       "      <td>-2.165293</td>\n",
       "      <td>-0.216490</td>\n",
       "      <td>0.869490</td>\n",
       "    </tr>\n",
       "    <tr>\n",
       "      <th>2021-04-06 01:15:00</th>\n",
       "      <td>-3.837354</td>\n",
       "      <td>0.976529</td>\n",
       "      <td>0.315280</td>\n",
       "      <td>1.888188</td>\n",
       "      <td>-1.117600</td>\n",
       "      <td>1.001080</td>\n",
       "      <td>1.773437</td>\n",
       "      <td>-0.734274</td>\n",
       "      <td>1.081601</td>\n",
       "      <td>1.306577</td>\n",
       "    </tr>\n",
       "  </tbody>\n",
       "</table>\n",
       "<p>1000 rows × 10 columns</p>\n",
       "</div>"
      ],
      "text/plain": [
       "                            0         1         2         3         4  \\\n",
       "timestamp                                                               \n",
       "2021-03-18 01:50:00  0.848697 -0.857185 -0.342890  0.279861  1.974335   \n",
       "2021-03-18 02:00:00 -2.190342  0.541834 -0.176185 -1.097706 -1.228843   \n",
       "2021-03-18 02:10:00 -2.120593  0.269850 -0.049740 -0.720698  0.380495   \n",
       "2021-03-18 02:15:00 -3.601124  0.915501  0.146115 -1.141983 -1.032296   \n",
       "2021-03-18 02:20:00 -3.049066  0.494241  0.091714 -0.788360 -0.024474   \n",
       "...                       ...       ...       ...       ...       ...   \n",
       "2021-04-06 00:55:00 -4.108840  1.011093 -0.205462  1.665882  0.848608   \n",
       "2021-04-06 01:00:00 -5.132137  1.584889 -0.334789  1.652709 -1.449439   \n",
       "2021-04-06 01:05:00 -3.082528  0.616584  1.936388  0.783610 -1.861422   \n",
       "2021-04-06 01:10:00 -4.000256  0.531313  0.914477  1.109084  0.596489   \n",
       "2021-04-06 01:15:00 -3.837354  0.976529  0.315280  1.888188 -1.117600   \n",
       "\n",
       "                            5         6         7         8         9  \n",
       "timestamp                                                              \n",
       "2021-03-18 01:50:00  1.420483 -0.022626 -0.823150 -0.443766 -0.057852  \n",
       "2021-03-18 02:00:00  1.801033  0.409762 -0.179160  0.139902  0.081601  \n",
       "2021-03-18 02:10:00  1.424886  0.085391 -0.497389 -0.176504 -0.183692  \n",
       "2021-03-18 02:15:00  1.584279  0.412312 -0.188788 -0.176600 -0.157018  \n",
       "2021-03-18 02:20:00  1.291781  0.093161 -0.463016 -0.150710  0.259528  \n",
       "...                       ...       ...       ...       ...       ...  \n",
       "2021-04-06 00:55:00  0.798277  0.216724 -1.156325  0.596836  0.931099  \n",
       "2021-04-06 01:00:00  1.123660  0.847850 -0.358234  1.096555  1.270609  \n",
       "2021-04-06 01:05:00  1.182496  0.732676 -1.302484 -1.587118  1.761720  \n",
       "2021-04-06 01:10:00  0.663265  0.709112 -2.165293 -0.216490  0.869490  \n",
       "2021-04-06 01:15:00  1.001080  1.773437 -0.734274  1.081601  1.306577  \n",
       "\n",
       "[1000 rows x 10 columns]"
      ]
     },
     "execution_count": 26,
     "metadata": {},
     "output_type": "execute_result"
    }
   ],
   "source": [
    "X_test"
   ]
  },
  {
   "cell_type": "code",
   "execution_count": 27,
   "metadata": {},
   "outputs": [],
   "source": [
    "from sklearn.ensemble import RandomForestClassifier\n",
    "from sklearn.model_selection import GridSearchCV"
   ]
  },
  {
   "cell_type": "code",
   "execution_count": 70,
   "metadata": {},
   "outputs": [],
   "source": [
    "clf = RandomForestClassifier(criterion='entropy')#,class_weight='balanced_subsample')"
   ]
  },
  {
   "cell_type": "code",
   "execution_count": 71,
   "metadata": {},
   "outputs": [],
   "source": [
    "n_estimators = [500,1000]\n",
    "max_depth = [2, 5]\n",
    "\n",
    "param_grid = dict(n_estimators = n_estimators, max_depth = max_depth)\n",
    "\n",
    "gs = GridSearchCV(clf, param_grid = param_grid, scoring ='precision')"
   ]
  },
  {
   "cell_type": "code",
   "execution_count": 72,
   "metadata": {},
   "outputs": [
    {
     "data": {
      "text/plain": [
       "GridSearchCV(estimator=RandomForestClassifier(criterion='entropy'),\n",
       "             param_grid={'max_depth': [2, 5], 'n_estimators': [500, 1000]},\n",
       "             scoring='precision')"
      ]
     },
     "execution_count": 72,
     "metadata": {},
     "output_type": "execute_result"
    }
   ],
   "source": [
    "gs.fit(X_train,y_train)"
   ]
  },
  {
   "cell_type": "code",
   "execution_count": 73,
   "metadata": {},
   "outputs": [
    {
     "data": {
      "text/plain": [
       "RandomForestClassifier(criterion='entropy', max_depth=5, n_estimators=500)"
      ]
     },
     "execution_count": 73,
     "metadata": {},
     "output_type": "execute_result"
    }
   ],
   "source": [
    "gs.best_estimator_"
   ]
  },
  {
   "cell_type": "code",
   "execution_count": 74,
   "metadata": {},
   "outputs": [
    {
     "data": {
      "text/plain": [
       "timestamp\n",
       "2021-03-18 01:50:00   -1.0\n",
       "2021-03-18 02:00:00   -1.0\n",
       "2021-03-18 02:10:00    1.0\n",
       "2021-03-18 02:15:00   -1.0\n",
       "2021-03-18 02:20:00    1.0\n",
       "Name: y_pred, dtype: float64"
      ]
     },
     "execution_count": 74,
     "metadata": {},
     "output_type": "execute_result"
    }
   ],
   "source": [
    "y_pred = gs.predict(X_test)\n",
    "y_pred = pd.Series(y_pred, index=X_test.index).rename('y_pred')\n",
    "y_pred.head()"
   ]
  },
  {
   "cell_type": "code",
   "execution_count": 75,
   "metadata": {},
   "outputs": [],
   "source": [
    "from sklearn.metrics import precision_score"
   ]
  },
  {
   "cell_type": "code",
   "execution_count": 76,
   "metadata": {},
   "outputs": [
    {
     "name": "stdout",
     "output_type": "stream",
     "text": [
      "Precision score (Probability of winning after drop predicted loss): 0.6201975850713501\n"
     ]
    }
   ],
   "source": [
    "p2 = precision_score(y_test,y_pred)\n",
    "print('Precision score (Probability of winning after drop predicted loss): {}'.format(p2))"
   ]
  },
  {
   "cell_type": "code",
   "execution_count": 77,
   "metadata": {},
   "outputs": [
    {
     "data": {
      "text/plain": [
       " 1.0    565\n",
       "-1.0    346\n",
       "Name: pnl, dtype: int64"
      ]
     },
     "execution_count": 77,
     "metadata": {},
     "output_type": "execute_result"
    }
   ],
   "source": [
    "# After drop predicted loss\n",
    "y_2nd = y_test.drop(index=y_pred.loc[y_pred==-1].index)\n",
    "\n",
    "y_2nd.value_counts()"
   ]
  },
  {
   "cell_type": "code",
   "execution_count": 78,
   "metadata": {},
   "outputs": [
    {
     "name": "stdout",
     "output_type": "stream",
     "text": [
      "Probabilities of winning (p):  0.6201975850713501\n"
     ]
    }
   ],
   "source": [
    "p2 = y_2nd.value_counts().iloc[0]/(y_2nd.value_counts().iloc[0]+y_2nd.value_counts().iloc[1])\n",
    "print('Probabilities of winning (p): ',p2)"
   ]
  },
  {
   "cell_type": "code",
   "execution_count": 83,
   "metadata": {},
   "outputs": [
    {
     "name": "stdout",
     "output_type": "stream",
     "text": [
      "Total Sharpe Ratio:  7.474997200670595\n"
     ]
    }
   ],
   "source": [
    "asr = np.sqrt(len(y_2nd))*(p2-0.5)/np.sqrt(p2*(1-p2))\n",
    "print('Total Sharpe Ratio: ',asr)"
   ]
  },
  {
   "cell_type": "code",
   "execution_count": 80,
   "metadata": {},
   "outputs": [],
   "source": [
    "returns2 = returns.loc[y_2nd.index]"
   ]
  },
  {
   "cell_type": "code",
   "execution_count": 81,
   "metadata": {},
   "outputs": [
    {
     "data": {
      "text/plain": [
       "timestamp\n",
       "2021-03-18 02:10:00   -0.054234\n",
       "2021-03-18 02:20:00   -0.052829\n",
       "2021-03-18 02:25:00   -0.054261\n",
       "2021-03-18 02:30:00   -0.057081\n",
       "2021-03-18 02:35:00   -0.058301\n",
       "                         ...   \n",
       "2021-04-06 00:55:00   -0.056442\n",
       "2021-04-06 01:00:00   -0.053430\n",
       "2021-04-06 01:05:00   -0.058727\n",
       "2021-04-06 01:10:00   -0.057048\n",
       "2021-04-06 01:15:00   -0.053177\n",
       "Name: ret, Length: 911, dtype: float64"
      ]
     },
     "execution_count": 81,
     "metadata": {},
     "output_type": "execute_result"
    }
   ],
   "source": [
    "returns2"
   ]
  },
  {
   "cell_type": "code",
   "execution_count": 82,
   "metadata": {},
   "outputs": [
    {
     "data": {
      "image/png": "[encoded data removed]",
      "text/plain": [
       "<Figure size 432x288 with 1 Axes>"
      ]
     },
     "metadata": {},
     "output_type": "display_data"
    }
   ],
   "source": [
    "plt.plot((returns2-0.0005).cumsum())\n",
    "plt.title('2nd Model: Cumulative sum of returns without transcation cost')\n",
    "plt.show()"
   ]
  },
  {
   "cell_type": "markdown",
   "metadata": {},
   "source": [
    "Results\n",
    "\n",
    "<Increasing p (probability of winning)>\n",
    "- from first strategy, we get $p = \\frac{P}{P+L}$\n",
    "- after training and predicting the PnL points, we drop predicted loss points (TN+FP),\n",
    "thus we get $\\hat{p} =  \\frac{P-FL}{(P-FL) + (L-TL)} = \\frac{TP+FL-FL}{(TP+FL-FL) + (TL+FP-TL)} = \\frac{TP}{TP+FP}$\n",
    ", which is the precision score of 2nd model.\n",
    "\n",
    "- If $\\hat{p}>p$, this helps.\n",
    "\n",
    "And,\n",
    "\n",
    "keep opportunities as many as possible\n",
    "- n is also important\n",
    "- let the model do not lose many opportunities\n",
    "- but how? - further study needed"
   ]
  }
 ],
 "metadata": {
  "kernelspec": {
   "display_name": "Python 3",
   "language": "python",
   "name": "python3"
  },
  "language_info": {
   "codemirror_mode": {
    "name": "ipython",
    "version": 3
   },
   "file_extension": ".py",
   "mimetype": "text/x-python",
   "name": "python",
   "nbconvert_exporter": "python",
   "pygments_lexer": "ipython3",
   "version": "3.7.7"
  }
 },
 "nbformat": 4,
 "nbformat_minor": 4
}
