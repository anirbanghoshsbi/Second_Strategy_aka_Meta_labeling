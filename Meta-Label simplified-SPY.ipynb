{
 "cells": [
  {
   "cell_type": "code",
   "execution_count": 1,
   "metadata": {},
   "outputs": [],
   "source": [
    "import numpy as np\n",
    "import pandas as pd\n",
    "import datetime as dt\n",
    "import matplotlib.pyplot as plt\n",
    "import seaborn; seaborn.set()\n",
    "\n",
    "import warnings \n",
    "warnings.filterwarnings('ignore')\n",
    "\n",
    "\n",
    "from sklearn.preprocessing import MinMaxScaler, StandardScaler\n",
    "\n",
    "from triple_barrier import triple_barrier as tb\n",
    "import ta\n",
    "import getTA"
   ]
  },
  {
   "cell_type": "code",
   "execution_count": 2,
   "metadata": {},
   "outputs": [
    {
     "name": "stdout",
     "output_type": "stream",
     "text": [
      "[*********************100%***********************]  1 of 1 completed\n"
     ]
    }
   ],
   "source": [
    "import yfinance as yf\n",
    "df = yf.download('SPY','2001-01-01','2021-5-1')"
   ]
  },
  {
   "cell_type": "code",
   "execution_count": 3,
   "metadata": {},
   "outputs": [
    {
     "data": {
      "text/html": [
       "<div>\n",
       "<style scoped>\n",
       "    .dataframe tbody tr th:only-of-type {\n",
       "        vertical-align: middle;\n",
       "    }\n",
       "\n",
       "    .dataframe tbody tr th {\n",
       "        vertical-align: top;\n",
       "    }\n",
       "\n",
       "    .dataframe thead th {\n",
       "        text-align: right;\n",
       "    }\n",
       "</style>\n",
       "<table border=\"1\" class=\"dataframe\">\n",
       "  <thead>\n",
       "    <tr style=\"text-align: right;\">\n",
       "      <th></th>\n",
       "      <th>Open</th>\n",
       "      <th>High</th>\n",
       "      <th>Low</th>\n",
       "      <th>Close</th>\n",
       "      <th>Adj Close</th>\n",
       "      <th>Volume</th>\n",
       "    </tr>\n",
       "    <tr>\n",
       "      <th>Date</th>\n",
       "      <th></th>\n",
       "      <th></th>\n",
       "      <th></th>\n",
       "      <th></th>\n",
       "      <th></th>\n",
       "      <th></th>\n",
       "    </tr>\n",
       "  </thead>\n",
       "  <tbody>\n",
       "    <tr>\n",
       "      <th>2001-01-02</th>\n",
       "      <td>132.000000</td>\n",
       "      <td>132.156250</td>\n",
       "      <td>127.562500</td>\n",
       "      <td>128.812500</td>\n",
       "      <td>87.554405</td>\n",
       "      <td>8737500</td>\n",
       "    </tr>\n",
       "    <tr>\n",
       "      <th>2001-01-03</th>\n",
       "      <td>128.312500</td>\n",
       "      <td>136.000000</td>\n",
       "      <td>127.656250</td>\n",
       "      <td>135.000000</td>\n",
       "      <td>91.760071</td>\n",
       "      <td>19431600</td>\n",
       "    </tr>\n",
       "    <tr>\n",
       "      <th>2001-01-04</th>\n",
       "      <td>134.937500</td>\n",
       "      <td>135.468750</td>\n",
       "      <td>133.000000</td>\n",
       "      <td>133.546875</td>\n",
       "      <td>90.772385</td>\n",
       "      <td>9219000</td>\n",
       "    </tr>\n",
       "    <tr>\n",
       "      <th>2001-01-05</th>\n",
       "      <td>133.468750</td>\n",
       "      <td>133.625000</td>\n",
       "      <td>129.187500</td>\n",
       "      <td>129.187500</td>\n",
       "      <td>87.809311</td>\n",
       "      <td>12911400</td>\n",
       "    </tr>\n",
       "    <tr>\n",
       "      <th>2001-01-08</th>\n",
       "      <td>129.875000</td>\n",
       "      <td>130.187500</td>\n",
       "      <td>127.687500</td>\n",
       "      <td>130.187500</td>\n",
       "      <td>88.488998</td>\n",
       "      <td>6625300</td>\n",
       "    </tr>\n",
       "    <tr>\n",
       "      <th>...</th>\n",
       "      <td>...</td>\n",
       "      <td>...</td>\n",
       "      <td>...</td>\n",
       "      <td>...</td>\n",
       "      <td>...</td>\n",
       "      <td>...</td>\n",
       "    </tr>\n",
       "    <tr>\n",
       "      <th>2021-04-26</th>\n",
       "      <td>417.440002</td>\n",
       "      <td>418.220001</td>\n",
       "      <td>416.809998</td>\n",
       "      <td>417.609985</td>\n",
       "      <td>417.609985</td>\n",
       "      <td>52182400</td>\n",
       "    </tr>\n",
       "    <tr>\n",
       "      <th>2021-04-27</th>\n",
       "      <td>417.929993</td>\n",
       "      <td>418.140015</td>\n",
       "      <td>416.299988</td>\n",
       "      <td>417.519989</td>\n",
       "      <td>417.519989</td>\n",
       "      <td>51303100</td>\n",
       "    </tr>\n",
       "    <tr>\n",
       "      <th>2021-04-28</th>\n",
       "      <td>417.809998</td>\n",
       "      <td>419.010010</td>\n",
       "      <td>416.899994</td>\n",
       "      <td>417.399994</td>\n",
       "      <td>417.399994</td>\n",
       "      <td>51238900</td>\n",
       "    </tr>\n",
       "    <tr>\n",
       "      <th>2021-04-29</th>\n",
       "      <td>420.320007</td>\n",
       "      <td>420.720001</td>\n",
       "      <td>416.440002</td>\n",
       "      <td>420.059998</td>\n",
       "      <td>420.059998</td>\n",
       "      <td>78544300</td>\n",
       "    </tr>\n",
       "    <tr>\n",
       "      <th>2021-04-30</th>\n",
       "      <td>417.630005</td>\n",
       "      <td>418.540009</td>\n",
       "      <td>416.339996</td>\n",
       "      <td>417.299988</td>\n",
       "      <td>417.299988</td>\n",
       "      <td>85448400</td>\n",
       "    </tr>\n",
       "  </tbody>\n",
       "</table>\n",
       "<p>5114 rows × 6 columns</p>\n",
       "</div>"
      ],
      "text/plain": [
       "                  Open        High         Low       Close   Adj Close  \\\n",
       "Date                                                                     \n",
       "2001-01-02  132.000000  132.156250  127.562500  128.812500   87.554405   \n",
       "2001-01-03  128.312500  136.000000  127.656250  135.000000   91.760071   \n",
       "2001-01-04  134.937500  135.468750  133.000000  133.546875   90.772385   \n",
       "2001-01-05  133.468750  133.625000  129.187500  129.187500   87.809311   \n",
       "2001-01-08  129.875000  130.187500  127.687500  130.187500   88.488998   \n",
       "...                ...         ...         ...         ...         ...   \n",
       "2021-04-26  417.440002  418.220001  416.809998  417.609985  417.609985   \n",
       "2021-04-27  417.929993  418.140015  416.299988  417.519989  417.519989   \n",
       "2021-04-28  417.809998  419.010010  416.899994  417.399994  417.399994   \n",
       "2021-04-29  420.320007  420.720001  416.440002  420.059998  420.059998   \n",
       "2021-04-30  417.630005  418.540009  416.339996  417.299988  417.299988   \n",
       "\n",
       "              Volume  \n",
       "Date                  \n",
       "2001-01-02   8737500  \n",
       "2001-01-03  19431600  \n",
       "2001-01-04   9219000  \n",
       "2001-01-05  12911400  \n",
       "2001-01-08   6625300  \n",
       "...              ...  \n",
       "2021-04-26  52182400  \n",
       "2021-04-27  51303100  \n",
       "2021-04-28  51238900  \n",
       "2021-04-29  78544300  \n",
       "2021-04-30  85448400  \n",
       "\n",
       "[5114 rows x 6 columns]"
      ]
     },
     "execution_count": 3,
     "metadata": {},
     "output_type": "execute_result"
    }
   ],
   "source": [
    "df"
   ]
  },
  {
   "cell_type": "code",
   "execution_count": 5,
   "metadata": {},
   "outputs": [],
   "source": [
    "close = pd.to_numeric(df.Close)"
   ]
  },
  {
   "cell_type": "code",
   "execution_count": 6,
   "metadata": {},
   "outputs": [
    {
     "data": {
      "text/plain": [
       "<matplotlib.axes._subplots.AxesSubplot at 0x16321847e48>"
      ]
     },
     "execution_count": 6,
     "metadata": {},
     "output_type": "execute_result"
    },
    {
     "data": {
      "image/png": "[encoded data removed]",
      "text/plain": [
       "<Figure size 432x288 with 1 Axes>"
      ]
     },
     "metadata": {},
     "output_type": "display_data"
    }
   ],
   "source": [
    "close.plot()"
   ]
  },
  {
   "cell_type": "markdown",
   "metadata": {},
   "source": [
    "- Sharpe Ratio: $\\frac{\\mu}{\\sigma} = \\frac{p\\pi+(1-p)(-\\pi)}{\\sqrt{2\\pi p(1-p)}} = \\frac{p -0.5}{\\sqrt{p(1-p)}}$ \n",
    "- $p$ (probability of winning) is given by first model"
   ]
  },
  {
   "cell_type": "markdown",
   "metadata": {},
   "source": [
    "Triple-Barrier\n",
    "\n",
    "- why did I choose triple-barrier trading method?\n",
    "    - I can fix profit and loss symmetrically"
   ]
  },
  {
   "cell_type": "code",
   "execution_count": 60,
   "metadata": {},
   "outputs": [],
   "source": [
    "f_window = 20\n",
    "s_window = 60\n",
    "\n",
    "fema = ta.trend.ema_indicator(close,f_window)\n",
    "sema = ta.trend.ema_indicator(close,s_window)\n",
    "\n",
    "diffema = fema-sema\n",
    "diffema = np.sign(diffema.diff()).dropna()\n",
    "where = (diffema == 1)"
   ]
  },
  {
   "cell_type": "code",
   "execution_count": 62,
   "metadata": {},
   "outputs": [],
   "source": [
    "enter = diffema[where].index"
   ]
  },
  {
   "cell_type": "code",
   "execution_count": 63,
   "metadata": {},
   "outputs": [
    {
     "data": {
      "text/plain": [
       "DatetimeIndex(['2001-03-30', '2001-04-05', '2001-04-06', '2001-04-09',\n",
       "               '2001-04-10', '2001-04-11', '2001-04-12', '2001-04-16',\n",
       "               '2001-04-17', '2001-04-18',\n",
       "               ...\n",
       "               '2021-04-14', '2021-04-15', '2021-04-16', '2021-04-19',\n",
       "               '2021-04-21', '2021-04-23', '2021-04-26', '2021-04-27',\n",
       "               '2021-04-28', '2021-04-29'],\n",
       "              dtype='datetime64[ns]', name='Date', length=2773, freq=None)"
      ]
     },
     "execution_count": 63,
     "metadata": {},
     "output_type": "execute_result"
    }
   ],
   "source": [
    "enter"
   ]
  },
  {
   "cell_type": "code",
   "execution_count": 64,
   "metadata": {},
   "outputs": [],
   "source": [
    "pt_sl = [0.05,0.05]"
   ]
  },
  {
   "cell_type": "markdown",
   "metadata": {},
   "source": [
    "$\\pi=0.05$"
   ]
  },
  {
   "cell_type": "code",
   "execution_count": 65,
   "metadata": {
    "scrolled": true
   },
   "outputs": [],
   "source": [
    "max_holding = [360,0]\n",
    "\n",
    "barrier = tb.get_barrier(close,enter,pt_sl,max_holding=max_holding,target=None)"
   ]
  },
  {
   "cell_type": "code",
   "execution_count": 66,
   "metadata": {},
   "outputs": [
    {
     "data": {
      "text/html": [
       "<div>\n",
       "<style scoped>\n",
       "    .dataframe tbody tr th:only-of-type {\n",
       "        vertical-align: middle;\n",
       "    }\n",
       "\n",
       "    .dataframe tbody tr th {\n",
       "        vertical-align: top;\n",
       "    }\n",
       "\n",
       "    .dataframe thead th {\n",
       "        text-align: right;\n",
       "    }\n",
       "</style>\n",
       "<table border=\"1\" class=\"dataframe\">\n",
       "  <thead>\n",
       "    <tr style=\"text-align: right;\">\n",
       "      <th></th>\n",
       "      <th>exit</th>\n",
       "      <th>price</th>\n",
       "      <th>ret</th>\n",
       "      <th>side</th>\n",
       "    </tr>\n",
       "    <tr>\n",
       "      <th>Date</th>\n",
       "      <th></th>\n",
       "      <th></th>\n",
       "      <th></th>\n",
       "      <th></th>\n",
       "    </tr>\n",
       "  </thead>\n",
       "  <tbody>\n",
       "    <tr>\n",
       "      <th>2001-03-30</th>\n",
       "      <td>2001-04-03</td>\n",
       "      <td>116.690002</td>\n",
       "      <td>-0.055501</td>\n",
       "      <td>1.0</td>\n",
       "    </tr>\n",
       "    <tr>\n",
       "      <th>2001-04-05</th>\n",
       "      <td>2001-04-18</td>\n",
       "      <td>115.050003</td>\n",
       "      <td>0.074915</td>\n",
       "      <td>1.0</td>\n",
       "    </tr>\n",
       "    <tr>\n",
       "      <th>2001-04-06</th>\n",
       "      <td>2001-04-17</td>\n",
       "      <td>113.300003</td>\n",
       "      <td>0.051267</td>\n",
       "      <td>1.0</td>\n",
       "    </tr>\n",
       "    <tr>\n",
       "      <th>2001-04-09</th>\n",
       "      <td>2001-04-18</td>\n",
       "      <td>114.559998</td>\n",
       "      <td>0.079183</td>\n",
       "      <td>1.0</td>\n",
       "    </tr>\n",
       "    <tr>\n",
       "      <th>2001-04-10</th>\n",
       "      <td>2001-04-18</td>\n",
       "      <td>116.650002</td>\n",
       "      <td>0.061104</td>\n",
       "      <td>1.0</td>\n",
       "    </tr>\n",
       "    <tr>\n",
       "      <th>...</th>\n",
       "      <td>...</td>\n",
       "      <td>...</td>\n",
       "      <td>...</td>\n",
       "      <td>...</td>\n",
       "    </tr>\n",
       "    <tr>\n",
       "      <th>2021-04-23</th>\n",
       "      <td>NaT</td>\n",
       "      <td>416.739990</td>\n",
       "      <td>0.000000</td>\n",
       "      <td>1.0</td>\n",
       "    </tr>\n",
       "    <tr>\n",
       "      <th>2021-04-26</th>\n",
       "      <td>NaT</td>\n",
       "      <td>417.609985</td>\n",
       "      <td>0.000000</td>\n",
       "      <td>1.0</td>\n",
       "    </tr>\n",
       "    <tr>\n",
       "      <th>2021-04-27</th>\n",
       "      <td>NaT</td>\n",
       "      <td>417.519989</td>\n",
       "      <td>0.000000</td>\n",
       "      <td>1.0</td>\n",
       "    </tr>\n",
       "    <tr>\n",
       "      <th>2021-04-28</th>\n",
       "      <td>NaT</td>\n",
       "      <td>417.399994</td>\n",
       "      <td>0.000000</td>\n",
       "      <td>1.0</td>\n",
       "    </tr>\n",
       "    <tr>\n",
       "      <th>2021-04-29</th>\n",
       "      <td>NaT</td>\n",
       "      <td>420.059998</td>\n",
       "      <td>0.000000</td>\n",
       "      <td>1.0</td>\n",
       "    </tr>\n",
       "  </tbody>\n",
       "</table>\n",
       "<p>2773 rows × 4 columns</p>\n",
       "</div>"
      ],
      "text/plain": [
       "                 exit       price       ret  side\n",
       "Date                                             \n",
       "2001-03-30 2001-04-03  116.690002 -0.055501   1.0\n",
       "2001-04-05 2001-04-18  115.050003  0.074915   1.0\n",
       "2001-04-06 2001-04-17  113.300003  0.051267   1.0\n",
       "2001-04-09 2001-04-18  114.559998  0.079183   1.0\n",
       "2001-04-10 2001-04-18  116.650002  0.061104   1.0\n",
       "...               ...         ...       ...   ...\n",
       "2021-04-23        NaT  416.739990  0.000000   1.0\n",
       "2021-04-26        NaT  417.609985  0.000000   1.0\n",
       "2021-04-27        NaT  417.519989  0.000000   1.0\n",
       "2021-04-28        NaT  417.399994  0.000000   1.0\n",
       "2021-04-29        NaT  420.059998  0.000000   1.0\n",
       "\n",
       "[2773 rows x 4 columns]"
      ]
     },
     "execution_count": 66,
     "metadata": {},
     "output_type": "execute_result"
    }
   ],
   "source": [
    "barrier"
   ]
  },
  {
   "cell_type": "markdown",
   "metadata": {},
   "source": [
    "**we will see -1000(test periods) only**"
   ]
  },
  {
   "cell_type": "code",
   "execution_count": 67,
   "metadata": {},
   "outputs": [],
   "source": [
    "returns = barrier.ret\n",
    "returns = returns[returns!=0]"
   ]
  },
  {
   "cell_type": "code",
   "execution_count": 68,
   "metadata": {},
   "outputs": [
    {
     "data": {
      "text/plain": [
       "count    2755.000000\n",
       "mean        0.009034\n",
       "std         0.055761\n",
       "min        -0.108301\n",
       "25%        -0.055795\n",
       "50%         0.049545\n",
       "75%         0.052078\n",
       "max         0.079183\n",
       "Name: ret, dtype: float64"
      ]
     },
     "execution_count": 68,
     "metadata": {},
     "output_type": "execute_result"
    }
   ],
   "source": [
    "returns.describe()"
   ]
  },
  {
   "cell_type": "code",
   "execution_count": 69,
   "metadata": {},
   "outputs": [
    {
     "data": {
      "image/png": "[encoded data removed]",
      "text/plain": [
       "<Figure size 720x432 with 1 Axes>"
      ]
     },
     "metadata": {},
     "output_type": "display_data"
    }
   ],
   "source": [
    "plt.figure(figsize=(10,6))\n",
    "seaborn.distplot(returns)\n",
    "plt.title('distribution of returns')\n",
    "plt.show()"
   ]
  },
  {
   "cell_type": "code",
   "execution_count": 70,
   "metadata": {},
   "outputs": [
    {
     "data": {
      "text/plain": [
       " 1.0    673\n",
       "-1.0    327\n",
       "Name: pnl, dtype: int64"
      ]
     },
     "execution_count": 70,
     "metadata": {},
     "output_type": "execute_result"
    }
   ],
   "source": [
    "y_ = np.sign(returns).rename('pnl')\n",
    "y_test = y_.iloc[-1000:]\n",
    "y_test.value_counts()\n",
    "#profit and loss"
   ]
  },
  {
   "cell_type": "code",
   "execution_count": 71,
   "metadata": {},
   "outputs": [
    {
     "name": "stdout",
     "output_type": "stream",
     "text": [
      "Probabilities of winning (p):  0.673\n"
     ]
    }
   ],
   "source": [
    "p = y_test.value_counts().iloc[0]/(y_test.value_counts().iloc[0]+y_test.value_counts().iloc[1])\n",
    "print('Probabilities of winning (p): ',p)"
   ]
  },
  {
   "cell_type": "code",
   "execution_count": 72,
   "metadata": {},
   "outputs": [
    {
     "name": "stdout",
     "output_type": "stream",
     "text": [
      "Total Sharpe Ratio:  11.661775985836027\n"
     ]
    }
   ],
   "source": [
    "asr = np.sqrt(len(y_test))*(p-0.5)/np.sqrt(p*(1-p))\n",
    "print('Total Sharpe Ratio: ',asr)"
   ]
  },
  {
   "cell_type": "code",
   "execution_count": 73,
   "metadata": {},
   "outputs": [
    {
     "data": {
      "image/png": "[encoded data removed]",
      "text/plain": [
       "<Figure size 432x288 with 1 Axes>"
      ]
     },
     "metadata": {},
     "output_type": "display_data"
    }
   ],
   "source": [
    "plt.plot(returns.loc[y_test.index].cumsum())\n",
    "plt.title('Cumulative sum of returns without transcation cost')\n",
    "plt.show()"
   ]
  },
  {
   "cell_type": "code",
   "execution_count": 74,
   "metadata": {},
   "outputs": [
    {
     "data": {
      "image/png": "[encoded data removed]",
      "text/plain": [
       "<Figure size 432x288 with 1 Axes>"
      ]
     },
     "metadata": {},
     "output_type": "display_data"
    }
   ],
   "source": [
    "plt.plot((returns.loc[y_test.index]-0.0005).cumsum())\n",
    "plt.title('Cumulative sum of returns with transcation cost')\n",
    "plt.show()"
   ]
  },
  {
   "cell_type": "markdown",
   "metadata": {},
   "source": [
    "# Improve Sharpe ratio by meta-labeling"
   ]
  },
  {
   "cell_type": "markdown",
   "metadata": {},
   "source": [
    "- drop loss-predicted bets\n",
    "- prediction by Machine Learning method (Random Forest Classifier)\n",
    "\n",
    "- NEED precision score > probability of winning of 1st model"
   ]
  },
  {
   "cell_type": "markdown",
   "metadata": {},
   "source": [
    "### X\n",
    "- 21 technical indicators features"
   ]
  },
  {
   "cell_type": "code",
   "execution_count": 75,
   "metadata": {},
   "outputs": [],
   "source": [
    "df_ = df.drop(columns='Adj Close').iloc[:,:5]\n",
    "list= []\n",
    "for i in df_.columns:\n",
    "    list.append(i.lower())\n",
    "df_.columns = list"
   ]
  },
  {
   "cell_type": "code",
   "execution_count": 76,
   "metadata": {},
   "outputs": [],
   "source": [
    "TI = getTA.get_ta(df_).shift(1).iloc[:,4:].dropna()"
   ]
  },
  {
   "cell_type": "code",
   "execution_count": 77,
   "metadata": {},
   "outputs": [
    {
     "data": {
      "text/html": [
       "<div>\n",
       "<style scoped>\n",
       "    .dataframe tbody tr th:only-of-type {\n",
       "        vertical-align: middle;\n",
       "    }\n",
       "\n",
       "    .dataframe tbody tr th {\n",
       "        vertical-align: top;\n",
       "    }\n",
       "\n",
       "    .dataframe thead th {\n",
       "        text-align: right;\n",
       "    }\n",
       "</style>\n",
       "<table border=\"1\" class=\"dataframe\">\n",
       "  <thead>\n",
       "    <tr style=\"text-align: right;\">\n",
       "      <th></th>\n",
       "      <th>volume</th>\n",
       "      <th>m_rsi</th>\n",
       "      <th>m_roc</th>\n",
       "      <th>m_cmo</th>\n",
       "      <th>m_wr</th>\n",
       "      <th>vm_cmf</th>\n",
       "      <th>vm_mfi</th>\n",
       "      <th>vm_fi</th>\n",
       "      <th>vm_eom</th>\n",
       "      <th>vl_bbp</th>\n",
       "      <th>vl_atr</th>\n",
       "      <th>t_macdd</th>\n",
       "      <th>t_trix</th>\n",
       "      <th>t_cci</th>\n",
       "      <th>t_dpo</th>\n",
       "      <th>t_kst</th>\n",
       "      <th>t_adx</th>\n",
       "    </tr>\n",
       "    <tr>\n",
       "      <th>Date</th>\n",
       "      <th></th>\n",
       "      <th></th>\n",
       "      <th></th>\n",
       "      <th></th>\n",
       "      <th></th>\n",
       "      <th></th>\n",
       "      <th></th>\n",
       "      <th></th>\n",
       "      <th></th>\n",
       "      <th></th>\n",
       "      <th></th>\n",
       "      <th></th>\n",
       "      <th></th>\n",
       "      <th></th>\n",
       "      <th></th>\n",
       "      <th></th>\n",
       "      <th></th>\n",
       "    </tr>\n",
       "  </thead>\n",
       "  <tbody>\n",
       "    <tr>\n",
       "      <th>2001-03-07</th>\n",
       "      <td>6917000.0</td>\n",
       "      <td>41.391823</td>\n",
       "      <td>-5.444724</td>\n",
       "      <td>-29.199</td>\n",
       "      <td>-63.211553</td>\n",
       "      <td>0.095492</td>\n",
       "      <td>34.446373</td>\n",
       "      <td>-3.013060e+06</td>\n",
       "      <td>75.965110</td>\n",
       "      <td>0.318648</td>\n",
       "      <td>2.687741</td>\n",
       "      <td>-0.379747</td>\n",
       "      <td>-0.237680</td>\n",
       "      <td>-44.611162</td>\n",
       "      <td>1.486495</td>\n",
       "      <td>-65.232018</td>\n",
       "      <td>28.790793</td>\n",
       "    </tr>\n",
       "    <tr>\n",
       "      <th>2001-03-08</th>\n",
       "      <td>6371700.0</td>\n",
       "      <td>44.381002</td>\n",
       "      <td>-2.622692</td>\n",
       "      <td>-31.642</td>\n",
       "      <td>-55.564983</td>\n",
       "      <td>0.153108</td>\n",
       "      <td>39.142589</td>\n",
       "      <td>-1.763403e+06</td>\n",
       "      <td>-4.419486</td>\n",
       "      <td>0.395773</td>\n",
       "      <td>2.587188</td>\n",
       "      <td>-0.140437</td>\n",
       "      <td>-0.242901</td>\n",
       "      <td>-36.267458</td>\n",
       "      <td>-0.103000</td>\n",
       "      <td>-58.831159</td>\n",
       "      <td>27.840948</td>\n",
       "    </tr>\n",
       "    <tr>\n",
       "      <th>2001-03-09</th>\n",
       "      <td>6055000.0</td>\n",
       "      <td>44.852185</td>\n",
       "      <td>-0.989171</td>\n",
       "      <td>-18.959</td>\n",
       "      <td>-43.710623</td>\n",
       "      <td>0.171833</td>\n",
       "      <td>39.078487</td>\n",
       "      <td>-1.390389e+06</td>\n",
       "      <td>5.268313</td>\n",
       "      <td>0.425713</td>\n",
       "      <td>2.480960</td>\n",
       "      <td>0.043718</td>\n",
       "      <td>-0.243344</td>\n",
       "      <td>-26.416494</td>\n",
       "      <td>-2.494497</td>\n",
       "      <td>-59.023624</td>\n",
       "      <td>26.859360</td>\n",
       "    </tr>\n",
       "    <tr>\n",
       "      <th>2001-03-12</th>\n",
       "      <td>10020300.0</td>\n",
       "      <td>36.025085</td>\n",
       "      <td>-1.799078</td>\n",
       "      <td>-26.404</td>\n",
       "      <td>-82.854092</td>\n",
       "      <td>0.155874</td>\n",
       "      <td>38.276230</td>\n",
       "      <td>-6.574097e+06</td>\n",
       "      <td>-62.215131</td>\n",
       "      <td>0.176043</td>\n",
       "      <td>2.590178</td>\n",
       "      <td>-0.065339</td>\n",
       "      <td>-0.245665</td>\n",
       "      <td>-78.338804</td>\n",
       "      <td>-1.816502</td>\n",
       "      <td>-60.068923</td>\n",
       "      <td>26.957551</td>\n",
       "    </tr>\n",
       "    <tr>\n",
       "      <th>2001-03-13</th>\n",
       "      <td>13972900.0</td>\n",
       "      <td>27.762391</td>\n",
       "      <td>-6.144182</td>\n",
       "      <td>-34.972</td>\n",
       "      <td>-97.024329</td>\n",
       "      <td>0.115593</td>\n",
       "      <td>36.565477</td>\n",
       "      <td>-1.617450e+07</td>\n",
       "      <td>-152.294784</td>\n",
       "      <td>-0.091118</td>\n",
       "      <td>2.805879</td>\n",
       "      <td>-0.449314</td>\n",
       "      <td>-0.256557</td>\n",
       "      <td>-177.599689</td>\n",
       "      <td>-1.978501</td>\n",
       "      <td>-65.493150</td>\n",
       "      <td>28.272159</td>\n",
       "    </tr>\n",
       "    <tr>\n",
       "      <th>...</th>\n",
       "      <td>...</td>\n",
       "      <td>...</td>\n",
       "      <td>...</td>\n",
       "      <td>...</td>\n",
       "      <td>...</td>\n",
       "      <td>...</td>\n",
       "      <td>...</td>\n",
       "      <td>...</td>\n",
       "      <td>...</td>\n",
       "      <td>...</td>\n",
       "      <td>...</td>\n",
       "      <td>...</td>\n",
       "      <td>...</td>\n",
       "      <td>...</td>\n",
       "      <td>...</td>\n",
       "      <td>...</td>\n",
       "      <td>...</td>\n",
       "    </tr>\n",
       "    <tr>\n",
       "      <th>2021-04-26</th>\n",
       "      <td>73209200.0</td>\n",
       "      <td>65.331900</td>\n",
       "      <td>2.496371</td>\n",
       "      <td>34.017</td>\n",
       "      <td>-11.751043</td>\n",
       "      <td>0.352810</td>\n",
       "      <td>66.356066</td>\n",
       "      <td>4.455038e+07</td>\n",
       "      <td>11.671894</td>\n",
       "      <td>0.787002</td>\n",
       "      <td>4.294857</td>\n",
       "      <td>-0.003883</td>\n",
       "      <td>0.221666</td>\n",
       "      <td>83.882256</td>\n",
       "      <td>0.317491</td>\n",
       "      <td>57.451246</td>\n",
       "      <td>26.764451</td>\n",
       "    </tr>\n",
       "    <tr>\n",
       "      <th>2021-04-27</th>\n",
       "      <td>52182400.0</td>\n",
       "      <td>66.157157</td>\n",
       "      <td>2.225104</td>\n",
       "      <td>34.851</td>\n",
       "      <td>-5.000119</td>\n",
       "      <td>0.306349</td>\n",
       "      <td>66.061565</td>\n",
       "      <td>4.467153e+07</td>\n",
       "      <td>5.390611</td>\n",
       "      <td>0.791206</td>\n",
       "      <td>4.093797</td>\n",
       "      <td>-0.013682</td>\n",
       "      <td>0.222043</td>\n",
       "      <td>95.171789</td>\n",
       "      <td>2.205994</td>\n",
       "      <td>57.394081</td>\n",
       "      <td>27.169416</td>\n",
       "    </tr>\n",
       "    <tr>\n",
       "      <th>2021-04-28</th>\n",
       "      <td>51303100.0</td>\n",
       "      <td>65.982181</td>\n",
       "      <td>1.465406</td>\n",
       "      <td>30.222</td>\n",
       "      <td>-6.448856</td>\n",
       "      <td>0.291899</td>\n",
       "      <td>60.431944</td>\n",
       "      <td>3.763030e+07</td>\n",
       "      <td>-1.058035</td>\n",
       "      <td>0.768876</td>\n",
       "      <td>3.932813</td>\n",
       "      <td>-0.079692</td>\n",
       "      <td>0.221616</td>\n",
       "      <td>89.409794</td>\n",
       "      <td>1.269019</td>\n",
       "      <td>57.111906</td>\n",
       "      <td>27.340116</td>\n",
       "    </tr>\n",
       "    <tr>\n",
       "      <th>2021-04-29</th>\n",
       "      <td>51238900.0</td>\n",
       "      <td>65.732546</td>\n",
       "      <td>1.399276</td>\n",
       "      <td>21.946</td>\n",
       "      <td>-14.976892</td>\n",
       "      <td>0.255946</td>\n",
       "      <td>60.206044</td>\n",
       "      <td>3.137620e+07</td>\n",
       "      <td>3.026730</td>\n",
       "      <td>0.756036</td>\n",
       "      <td>3.802613</td>\n",
       "      <td>-0.179208</td>\n",
       "      <td>0.220164</td>\n",
       "      <td>94.317024</td>\n",
       "      <td>1.355490</td>\n",
       "      <td>56.916742</td>\n",
       "      <td>27.691569</td>\n",
       "    </tr>\n",
       "    <tr>\n",
       "      <th>2021-04-30</th>\n",
       "      <td>78544300.0</td>\n",
       "      <td>68.571186</td>\n",
       "      <td>1.743936</td>\n",
       "      <td>28.601</td>\n",
       "      <td>-6.273806</td>\n",
       "      <td>0.321553</td>\n",
       "      <td>60.997993</td>\n",
       "      <td>5.674076e+07</td>\n",
       "      <td>3.405720</td>\n",
       "      <td>0.877021</td>\n",
       "      <td>3.836712</td>\n",
       "      <td>-0.116685</td>\n",
       "      <td>0.218940</td>\n",
       "      <td>112.962479</td>\n",
       "      <td>-1.240984</td>\n",
       "      <td>56.407500</td>\n",
       "      <td>28.381181</td>\n",
       "    </tr>\n",
       "  </tbody>\n",
       "</table>\n",
       "<p>5070 rows × 17 columns</p>\n",
       "</div>"
      ],
      "text/plain": [
       "                volume      m_rsi     m_roc   m_cmo       m_wr    vm_cmf  \\\n",
       "Date                                                                       \n",
       "2001-03-07   6917000.0  41.391823 -5.444724 -29.199 -63.211553  0.095492   \n",
       "2001-03-08   6371700.0  44.381002 -2.622692 -31.642 -55.564983  0.153108   \n",
       "2001-03-09   6055000.0  44.852185 -0.989171 -18.959 -43.710623  0.171833   \n",
       "2001-03-12  10020300.0  36.025085 -1.799078 -26.404 -82.854092  0.155874   \n",
       "2001-03-13  13972900.0  27.762391 -6.144182 -34.972 -97.024329  0.115593   \n",
       "...                ...        ...       ...     ...        ...       ...   \n",
       "2021-04-26  73209200.0  65.331900  2.496371  34.017 -11.751043  0.352810   \n",
       "2021-04-27  52182400.0  66.157157  2.225104  34.851  -5.000119  0.306349   \n",
       "2021-04-28  51303100.0  65.982181  1.465406  30.222  -6.448856  0.291899   \n",
       "2021-04-29  51238900.0  65.732546  1.399276  21.946 -14.976892  0.255946   \n",
       "2021-04-30  78544300.0  68.571186  1.743936  28.601  -6.273806  0.321553   \n",
       "\n",
       "               vm_mfi         vm_fi      vm_eom    vl_bbp    vl_atr   t_macdd  \\\n",
       "Date                                                                            \n",
       "2001-03-07  34.446373 -3.013060e+06   75.965110  0.318648  2.687741 -0.379747   \n",
       "2001-03-08  39.142589 -1.763403e+06   -4.419486  0.395773  2.587188 -0.140437   \n",
       "2001-03-09  39.078487 -1.390389e+06    5.268313  0.425713  2.480960  0.043718   \n",
       "2001-03-12  38.276230 -6.574097e+06  -62.215131  0.176043  2.590178 -0.065339   \n",
       "2001-03-13  36.565477 -1.617450e+07 -152.294784 -0.091118  2.805879 -0.449314   \n",
       "...               ...           ...         ...       ...       ...       ...   \n",
       "2021-04-26  66.356066  4.455038e+07   11.671894  0.787002  4.294857 -0.003883   \n",
       "2021-04-27  66.061565  4.467153e+07    5.390611  0.791206  4.093797 -0.013682   \n",
       "2021-04-28  60.431944  3.763030e+07   -1.058035  0.768876  3.932813 -0.079692   \n",
       "2021-04-29  60.206044  3.137620e+07    3.026730  0.756036  3.802613 -0.179208   \n",
       "2021-04-30  60.997993  5.674076e+07    3.405720  0.877021  3.836712 -0.116685   \n",
       "\n",
       "              t_trix       t_cci     t_dpo      t_kst      t_adx  \n",
       "Date                                                              \n",
       "2001-03-07 -0.237680  -44.611162  1.486495 -65.232018  28.790793  \n",
       "2001-03-08 -0.242901  -36.267458 -0.103000 -58.831159  27.840948  \n",
       "2001-03-09 -0.243344  -26.416494 -2.494497 -59.023624  26.859360  \n",
       "2001-03-12 -0.245665  -78.338804 -1.816502 -60.068923  26.957551  \n",
       "2001-03-13 -0.256557 -177.599689 -1.978501 -65.493150  28.272159  \n",
       "...              ...         ...       ...        ...        ...  \n",
       "2021-04-26  0.221666   83.882256  0.317491  57.451246  26.764451  \n",
       "2021-04-27  0.222043   95.171789  2.205994  57.394081  27.169416  \n",
       "2021-04-28  0.221616   89.409794  1.269019  57.111906  27.340116  \n",
       "2021-04-29  0.220164   94.317024  1.355490  56.916742  27.691569  \n",
       "2021-04-30  0.218940  112.962479 -1.240984  56.407500  28.381181  \n",
       "\n",
       "[5070 rows x 17 columns]"
      ]
     },
     "execution_count": 77,
     "metadata": {},
     "output_type": "execute_result"
    }
   ],
   "source": [
    "TI"
   ]
  },
  {
   "cell_type": "code",
   "execution_count": 78,
   "metadata": {},
   "outputs": [],
   "source": [
    "from sklearn.preprocessing import StandardScaler\n",
    "scaler = StandardScaler()\n",
    "TI_norm = pd.DataFrame(scaler.fit_transform(TI),index=TI.index)"
   ]
  },
  {
   "cell_type": "code",
   "execution_count": 79,
   "metadata": {},
   "outputs": [
    {
     "data": {
      "text/html": [
       "<div>\n",
       "<style scoped>\n",
       "    .dataframe tbody tr th:only-of-type {\n",
       "        vertical-align: middle;\n",
       "    }\n",
       "\n",
       "    .dataframe tbody tr th {\n",
       "        vertical-align: top;\n",
       "    }\n",
       "\n",
       "    .dataframe thead th {\n",
       "        text-align: right;\n",
       "    }\n",
       "</style>\n",
       "<table border=\"1\" class=\"dataframe\">\n",
       "  <thead>\n",
       "    <tr style=\"text-align: right;\">\n",
       "      <th></th>\n",
       "      <th>0</th>\n",
       "      <th>1</th>\n",
       "      <th>2</th>\n",
       "      <th>3</th>\n",
       "      <th>4</th>\n",
       "      <th>5</th>\n",
       "      <th>6</th>\n",
       "      <th>7</th>\n",
       "      <th>8</th>\n",
       "      <th>9</th>\n",
       "    </tr>\n",
       "    <tr>\n",
       "      <th>Date</th>\n",
       "      <th></th>\n",
       "      <th></th>\n",
       "      <th></th>\n",
       "      <th></th>\n",
       "      <th></th>\n",
       "      <th></th>\n",
       "      <th></th>\n",
       "      <th></th>\n",
       "      <th></th>\n",
       "      <th></th>\n",
       "    </tr>\n",
       "  </thead>\n",
       "  <tbody>\n",
       "    <tr>\n",
       "      <th>2001-03-07</th>\n",
       "      <td>2.367584</td>\n",
       "      <td>2.181919</td>\n",
       "      <td>-1.090865</td>\n",
       "      <td>7.765633</td>\n",
       "      <td>-0.843942</td>\n",
       "      <td>-1.942976</td>\n",
       "      <td>1.761774</td>\n",
       "      <td>1.491960</td>\n",
       "      <td>1.938961</td>\n",
       "      <td>0.761776</td>\n",
       "    </tr>\n",
       "    <tr>\n",
       "      <th>2001-03-08</th>\n",
       "      <td>2.223511</td>\n",
       "      <td>1.015815</td>\n",
       "      <td>-0.551355</td>\n",
       "      <td>0.202982</td>\n",
       "      <td>1.579127</td>\n",
       "      <td>0.722457</td>\n",
       "      <td>0.207811</td>\n",
       "      <td>-0.047863</td>\n",
       "      <td>1.439913</td>\n",
       "      <td>-0.662308</td>\n",
       "    </tr>\n",
       "    <tr>\n",
       "      <th>2001-03-09</th>\n",
       "      <td>1.442066</td>\n",
       "      <td>1.579748</td>\n",
       "      <td>-1.028288</td>\n",
       "      <td>0.580820</td>\n",
       "      <td>1.141115</td>\n",
       "      <td>0.060624</td>\n",
       "      <td>0.489159</td>\n",
       "      <td>0.629718</td>\n",
       "      <td>1.658573</td>\n",
       "      <td>-0.625392</td>\n",
       "    </tr>\n",
       "    <tr>\n",
       "      <th>2001-03-12</th>\n",
       "      <td>3.385641</td>\n",
       "      <td>-0.051327</td>\n",
       "      <td>-0.714954</td>\n",
       "      <td>-5.492880</td>\n",
       "      <td>3.277850</td>\n",
       "      <td>2.270080</td>\n",
       "      <td>-0.557738</td>\n",
       "      <td>-1.207083</td>\n",
       "      <td>1.318685</td>\n",
       "      <td>-1.234258</td>\n",
       "    </tr>\n",
       "    <tr>\n",
       "      <th>2001-03-13</th>\n",
       "      <td>5.893709</td>\n",
       "      <td>-1.977193</td>\n",
       "      <td>0.092482</td>\n",
       "      <td>-13.504091</td>\n",
       "      <td>6.275578</td>\n",
       "      <td>5.336043</td>\n",
       "      <td>-2.034963</td>\n",
       "      <td>-2.949314</td>\n",
       "      <td>0.711817</td>\n",
       "      <td>-2.465097</td>\n",
       "    </tr>\n",
       "    <tr>\n",
       "      <th>...</th>\n",
       "      <td>...</td>\n",
       "      <td>...</td>\n",
       "      <td>...</td>\n",
       "      <td>...</td>\n",
       "      <td>...</td>\n",
       "      <td>...</td>\n",
       "      <td>...</td>\n",
       "      <td>...</td>\n",
       "      <td>...</td>\n",
       "      <td>...</td>\n",
       "    </tr>\n",
       "    <tr>\n",
       "      <th>2021-04-26</th>\n",
       "      <td>-2.672984</td>\n",
       "      <td>-0.364192</td>\n",
       "      <td>1.432463</td>\n",
       "      <td>0.888691</td>\n",
       "      <td>-0.733597</td>\n",
       "      <td>-0.224504</td>\n",
       "      <td>1.760108</td>\n",
       "      <td>-0.560070</td>\n",
       "      <td>0.580852</td>\n",
       "      <td>-0.034405</td>\n",
       "    </tr>\n",
       "    <tr>\n",
       "      <th>2021-04-27</th>\n",
       "      <td>-2.583708</td>\n",
       "      <td>-0.622165</td>\n",
       "      <td>1.666321</td>\n",
       "      <td>0.749681</td>\n",
       "      <td>-0.290136</td>\n",
       "      <td>0.440323</td>\n",
       "      <td>1.415278</td>\n",
       "      <td>-0.907911</td>\n",
       "      <td>0.169240</td>\n",
       "      <td>-0.051286</td>\n",
       "    </tr>\n",
       "    <tr>\n",
       "      <th>2021-04-28</th>\n",
       "      <td>-2.258344</td>\n",
       "      <td>-0.766231</td>\n",
       "      <td>1.535492</td>\n",
       "      <td>0.107452</td>\n",
       "      <td>-0.059245</td>\n",
       "      <td>0.505898</td>\n",
       "      <td>1.342942</td>\n",
       "      <td>-0.734186</td>\n",
       "      <td>0.095657</td>\n",
       "      <td>-0.493403</td>\n",
       "    </tr>\n",
       "    <tr>\n",
       "      <th>2021-04-29</th>\n",
       "      <td>-2.013794</td>\n",
       "      <td>-0.804319</td>\n",
       "      <td>1.417227</td>\n",
       "      <td>0.524296</td>\n",
       "      <td>-0.129723</td>\n",
       "      <td>0.326958</td>\n",
       "      <td>1.432533</td>\n",
       "      <td>-0.601330</td>\n",
       "      <td>-0.042159</td>\n",
       "      <td>-0.385503</td>\n",
       "    </tr>\n",
       "    <tr>\n",
       "      <th>2021-04-30</th>\n",
       "      <td>-2.728526</td>\n",
       "      <td>-0.374915</td>\n",
       "      <td>1.390181</td>\n",
       "      <td>0.115398</td>\n",
       "      <td>-0.267540</td>\n",
       "      <td>-0.209770</td>\n",
       "      <td>1.492561</td>\n",
       "      <td>-0.192912</td>\n",
       "      <td>0.216985</td>\n",
       "      <td>-0.771089</td>\n",
       "    </tr>\n",
       "  </tbody>\n",
       "</table>\n",
       "<p>5070 rows × 10 columns</p>\n",
       "</div>"
      ],
      "text/plain": [
       "                   0         1         2          3         4         5  \\\n",
       "Date                                                                      \n",
       "2001-03-07  2.367584  2.181919 -1.090865   7.765633 -0.843942 -1.942976   \n",
       "2001-03-08  2.223511  1.015815 -0.551355   0.202982  1.579127  0.722457   \n",
       "2001-03-09  1.442066  1.579748 -1.028288   0.580820  1.141115  0.060624   \n",
       "2001-03-12  3.385641 -0.051327 -0.714954  -5.492880  3.277850  2.270080   \n",
       "2001-03-13  5.893709 -1.977193  0.092482 -13.504091  6.275578  5.336043   \n",
       "...              ...       ...       ...        ...       ...       ...   \n",
       "2021-04-26 -2.672984 -0.364192  1.432463   0.888691 -0.733597 -0.224504   \n",
       "2021-04-27 -2.583708 -0.622165  1.666321   0.749681 -0.290136  0.440323   \n",
       "2021-04-28 -2.258344 -0.766231  1.535492   0.107452 -0.059245  0.505898   \n",
       "2021-04-29 -2.013794 -0.804319  1.417227   0.524296 -0.129723  0.326958   \n",
       "2021-04-30 -2.728526 -0.374915  1.390181   0.115398 -0.267540 -0.209770   \n",
       "\n",
       "                   6         7         8         9  \n",
       "Date                                                \n",
       "2001-03-07  1.761774  1.491960  1.938961  0.761776  \n",
       "2001-03-08  0.207811 -0.047863  1.439913 -0.662308  \n",
       "2001-03-09  0.489159  0.629718  1.658573 -0.625392  \n",
       "2001-03-12 -0.557738 -1.207083  1.318685 -1.234258  \n",
       "2001-03-13 -2.034963 -2.949314  0.711817 -2.465097  \n",
       "...              ...       ...       ...       ...  \n",
       "2021-04-26  1.760108 -0.560070  0.580852 -0.034405  \n",
       "2021-04-27  1.415278 -0.907911  0.169240 -0.051286  \n",
       "2021-04-28  1.342942 -0.734186  0.095657 -0.493403  \n",
       "2021-04-29  1.432533 -0.601330 -0.042159 -0.385503  \n",
       "2021-04-30  1.492561 -0.192912  0.216985 -0.771089  \n",
       "\n",
       "[5070 rows x 10 columns]"
      ]
     },
     "execution_count": 79,
     "metadata": {},
     "output_type": "execute_result"
    }
   ],
   "source": [
    "from sklearn.decomposition import PCA\n",
    "pca = PCA(10)\n",
    "TI_pc = pd.DataFrame(pca.fit_transform(TI_norm),index=TI.index)\n",
    "TI_pc"
   ]
  },
  {
   "cell_type": "code",
   "execution_count": 80,
   "metadata": {},
   "outputs": [],
   "source": [
    "tmp = TI_pc.join(y_).dropna()\n",
    "X = tmp.iloc[:,:-1]\n",
    "y = tmp.iloc[:,-1]"
   ]
  },
  {
   "cell_type": "code",
   "execution_count": 82,
   "metadata": {},
   "outputs": [],
   "source": [
    "X_train = X.iloc[:-500]\n",
    "X_test = X.iloc[-500:]\n",
    "\n",
    "y_train = y.iloc[:-500]\n",
    "y_test = y.iloc[-500:]"
   ]
  },
  {
   "cell_type": "code",
   "execution_count": 83,
   "metadata": {},
   "outputs": [
    {
     "data": {
      "text/html": [
       "<div>\n",
       "<style scoped>\n",
       "    .dataframe tbody tr th:only-of-type {\n",
       "        vertical-align: middle;\n",
       "    }\n",
       "\n",
       "    .dataframe tbody tr th {\n",
       "        vertical-align: top;\n",
       "    }\n",
       "\n",
       "    .dataframe thead th {\n",
       "        text-align: right;\n",
       "    }\n",
       "</style>\n",
       "<table border=\"1\" class=\"dataframe\">\n",
       "  <thead>\n",
       "    <tr style=\"text-align: right;\">\n",
       "      <th></th>\n",
       "      <th>0</th>\n",
       "      <th>1</th>\n",
       "      <th>2</th>\n",
       "      <th>3</th>\n",
       "      <th>4</th>\n",
       "      <th>5</th>\n",
       "      <th>6</th>\n",
       "      <th>7</th>\n",
       "      <th>8</th>\n",
       "      <th>9</th>\n",
       "    </tr>\n",
       "    <tr>\n",
       "      <th>Date</th>\n",
       "      <th></th>\n",
       "      <th></th>\n",
       "      <th></th>\n",
       "      <th></th>\n",
       "      <th></th>\n",
       "      <th></th>\n",
       "      <th></th>\n",
       "      <th></th>\n",
       "      <th></th>\n",
       "      <th></th>\n",
       "    </tr>\n",
       "  </thead>\n",
       "  <tbody>\n",
       "    <tr>\n",
       "      <th>2017-11-27</th>\n",
       "      <td>-2.646481</td>\n",
       "      <td>-0.461953</td>\n",
       "      <td>0.973869</td>\n",
       "      <td>0.649123</td>\n",
       "      <td>0.586661</td>\n",
       "      <td>0.828098</td>\n",
       "      <td>-0.627589</td>\n",
       "      <td>0.348580</td>\n",
       "      <td>0.898492</td>\n",
       "      <td>-0.642879</td>\n",
       "    </tr>\n",
       "    <tr>\n",
       "      <th>2017-11-28</th>\n",
       "      <td>-2.143822</td>\n",
       "      <td>-0.366968</td>\n",
       "      <td>0.610178</td>\n",
       "      <td>0.374820</td>\n",
       "      <td>0.488526</td>\n",
       "      <td>0.438269</td>\n",
       "      <td>-0.513961</td>\n",
       "      <td>0.481791</td>\n",
       "      <td>0.622572</td>\n",
       "      <td>-0.752444</td>\n",
       "    </tr>\n",
       "    <tr>\n",
       "      <th>2017-11-29</th>\n",
       "      <td>-3.537573</td>\n",
       "      <td>0.203155</td>\n",
       "      <td>1.209635</td>\n",
       "      <td>0.567861</td>\n",
       "      <td>0.270977</td>\n",
       "      <td>0.115426</td>\n",
       "      <td>-0.790329</td>\n",
       "      <td>0.414643</td>\n",
       "      <td>0.619562</td>\n",
       "      <td>-1.174722</td>\n",
       "    </tr>\n",
       "    <tr>\n",
       "      <th>2017-11-30</th>\n",
       "      <td>-3.281297</td>\n",
       "      <td>0.140329</td>\n",
       "      <td>1.084472</td>\n",
       "      <td>0.371567</td>\n",
       "      <td>0.563494</td>\n",
       "      <td>0.022701</td>\n",
       "      <td>-0.476494</td>\n",
       "      <td>0.314505</td>\n",
       "      <td>0.603525</td>\n",
       "      <td>-0.789654</td>\n",
       "    </tr>\n",
       "    <tr>\n",
       "      <th>2017-12-01</th>\n",
       "      <td>-4.127709</td>\n",
       "      <td>0.630099</td>\n",
       "      <td>1.379931</td>\n",
       "      <td>0.172274</td>\n",
       "      <td>0.456546</td>\n",
       "      <td>-0.521970</td>\n",
       "      <td>-0.492072</td>\n",
       "      <td>0.196556</td>\n",
       "      <td>0.427807</td>\n",
       "      <td>-0.398933</td>\n",
       "    </tr>\n",
       "    <tr>\n",
       "      <th>...</th>\n",
       "      <td>...</td>\n",
       "      <td>...</td>\n",
       "      <td>...</td>\n",
       "      <td>...</td>\n",
       "      <td>...</td>\n",
       "      <td>...</td>\n",
       "      <td>...</td>\n",
       "      <td>...</td>\n",
       "      <td>...</td>\n",
       "      <td>...</td>\n",
       "    </tr>\n",
       "    <tr>\n",
       "      <th>2021-03-17</th>\n",
       "      <td>-2.008013</td>\n",
       "      <td>1.618094</td>\n",
       "      <td>-0.369188</td>\n",
       "      <td>0.742341</td>\n",
       "      <td>-1.634162</td>\n",
       "      <td>1.868687</td>\n",
       "      <td>0.856774</td>\n",
       "      <td>-1.027159</td>\n",
       "      <td>-0.929141</td>\n",
       "      <td>0.244476</td>\n",
       "    </tr>\n",
       "    <tr>\n",
       "      <th>2021-03-26</th>\n",
       "      <td>0.894523</td>\n",
       "      <td>-0.269482</td>\n",
       "      <td>0.139154</td>\n",
       "      <td>-1.606897</td>\n",
       "      <td>-1.203738</td>\n",
       "      <td>1.995887</td>\n",
       "      <td>0.839733</td>\n",
       "      <td>-0.547120</td>\n",
       "      <td>-0.925292</td>\n",
       "      <td>0.078007</td>\n",
       "    </tr>\n",
       "    <tr>\n",
       "      <th>2021-03-29</th>\n",
       "      <td>-0.978702</td>\n",
       "      <td>0.840162</td>\n",
       "      <td>0.169128</td>\n",
       "      <td>3.555961</td>\n",
       "      <td>-2.694159</td>\n",
       "      <td>0.989752</td>\n",
       "      <td>1.098939</td>\n",
       "      <td>-0.544245</td>\n",
       "      <td>-0.623151</td>\n",
       "      <td>0.282088</td>\n",
       "    </tr>\n",
       "    <tr>\n",
       "      <th>2021-03-30</th>\n",
       "      <td>-0.585369</td>\n",
       "      <td>0.324395</td>\n",
       "      <td>0.337816</td>\n",
       "      <td>1.145307</td>\n",
       "      <td>-1.798140</td>\n",
       "      <td>2.091456</td>\n",
       "      <td>0.451549</td>\n",
       "      <td>-1.160133</td>\n",
       "      <td>-0.824575</td>\n",
       "      <td>-0.163114</td>\n",
       "    </tr>\n",
       "    <tr>\n",
       "      <th>2021-03-31</th>\n",
       "      <td>0.030990</td>\n",
       "      <td>-0.261623</td>\n",
       "      <td>0.407420</td>\n",
       "      <td>0.945172</td>\n",
       "      <td>-1.407488</td>\n",
       "      <td>2.670934</td>\n",
       "      <td>0.248746</td>\n",
       "      <td>-1.688753</td>\n",
       "      <td>-0.570289</td>\n",
       "      <td>-0.531093</td>\n",
       "    </tr>\n",
       "  </tbody>\n",
       "</table>\n",
       "<p>500 rows × 10 columns</p>\n",
       "</div>"
      ],
      "text/plain": [
       "                   0         1         2         3         4         5  \\\n",
       "Date                                                                     \n",
       "2017-11-27 -2.646481 -0.461953  0.973869  0.649123  0.586661  0.828098   \n",
       "2017-11-28 -2.143822 -0.366968  0.610178  0.374820  0.488526  0.438269   \n",
       "2017-11-29 -3.537573  0.203155  1.209635  0.567861  0.270977  0.115426   \n",
       "2017-11-30 -3.281297  0.140329  1.084472  0.371567  0.563494  0.022701   \n",
       "2017-12-01 -4.127709  0.630099  1.379931  0.172274  0.456546 -0.521970   \n",
       "...              ...       ...       ...       ...       ...       ...   \n",
       "2021-03-17 -2.008013  1.618094 -0.369188  0.742341 -1.634162  1.868687   \n",
       "2021-03-26  0.894523 -0.269482  0.139154 -1.606897 -1.203738  1.995887   \n",
       "2021-03-29 -0.978702  0.840162  0.169128  3.555961 -2.694159  0.989752   \n",
       "2021-03-30 -0.585369  0.324395  0.337816  1.145307 -1.798140  2.091456   \n",
       "2021-03-31  0.030990 -0.261623  0.407420  0.945172 -1.407488  2.670934   \n",
       "\n",
       "                   6         7         8         9  \n",
       "Date                                                \n",
       "2017-11-27 -0.627589  0.348580  0.898492 -0.642879  \n",
       "2017-11-28 -0.513961  0.481791  0.622572 -0.752444  \n",
       "2017-11-29 -0.790329  0.414643  0.619562 -1.174722  \n",
       "2017-11-30 -0.476494  0.314505  0.603525 -0.789654  \n",
       "2017-12-01 -0.492072  0.196556  0.427807 -0.398933  \n",
       "...              ...       ...       ...       ...  \n",
       "2021-03-17  0.856774 -1.027159 -0.929141  0.244476  \n",
       "2021-03-26  0.839733 -0.547120 -0.925292  0.078007  \n",
       "2021-03-29  1.098939 -0.544245 -0.623151  0.282088  \n",
       "2021-03-30  0.451549 -1.160133 -0.824575 -0.163114  \n",
       "2021-03-31  0.248746 -1.688753 -0.570289 -0.531093  \n",
       "\n",
       "[500 rows x 10 columns]"
      ]
     },
     "execution_count": 83,
     "metadata": {},
     "output_type": "execute_result"
    }
   ],
   "source": [
    "X_test"
   ]
  },
  {
   "cell_type": "code",
   "execution_count": 84,
   "metadata": {},
   "outputs": [],
   "source": [
    "from sklearn.ensemble import RandomForestClassifier\n",
    "from sklearn.model_selection import GridSearchCV"
   ]
  },
  {
   "cell_type": "code",
   "execution_count": 85,
   "metadata": {},
   "outputs": [],
   "source": [
    "clf = RandomForestClassifier(criterion='entropy')#,class_weight='balanced_subsample')"
   ]
  },
  {
   "cell_type": "code",
   "execution_count": 86,
   "metadata": {},
   "outputs": [],
   "source": [
    "n_estimators = [500,1000]\n",
    "max_depth = [2, 5]\n",
    "\n",
    "param_grid = dict(n_estimators = n_estimators, max_depth = max_depth)\n",
    "\n",
    "gs = GridSearchCV(clf, param_grid = param_grid, scoring ='precision')"
   ]
  },
  {
   "cell_type": "code",
   "execution_count": 87,
   "metadata": {},
   "outputs": [
    {
     "data": {
      "text/plain": [
       "GridSearchCV(estimator=RandomForestClassifier(criterion='entropy'),\n",
       "             param_grid={'max_depth': [2, 5], 'n_estimators': [500, 1000]},\n",
       "             scoring='precision')"
      ]
     },
     "execution_count": 87,
     "metadata": {},
     "output_type": "execute_result"
    }
   ],
   "source": [
    "gs.fit(X_train,y_train)"
   ]
  },
  {
   "cell_type": "code",
   "execution_count": 88,
   "metadata": {},
   "outputs": [
    {
     "data": {
      "text/plain": [
       "RandomForestClassifier(criterion='entropy', max_depth=2, n_estimators=500)"
      ]
     },
     "execution_count": 88,
     "metadata": {},
     "output_type": "execute_result"
    }
   ],
   "source": [
    "gs.best_estimator_"
   ]
  },
  {
   "cell_type": "code",
   "execution_count": 89,
   "metadata": {},
   "outputs": [
    {
     "data": {
      "text/plain": [
       "Date\n",
       "2017-11-27    1.0\n",
       "2017-11-28    1.0\n",
       "2017-11-29    1.0\n",
       "2017-11-30    1.0\n",
       "2017-12-01    1.0\n",
       "Name: y_pred, dtype: float64"
      ]
     },
     "execution_count": 89,
     "metadata": {},
     "output_type": "execute_result"
    }
   ],
   "source": [
    "y_pred = gs.predict(X_test)\n",
    "y_pred = pd.Series(y_pred, index=X_test.index).rename('y_pred')\n",
    "y_pred.head()"
   ]
  },
  {
   "cell_type": "code",
   "execution_count": 90,
   "metadata": {},
   "outputs": [],
   "source": [
    "from sklearn.metrics import precision_score"
   ]
  },
  {
   "cell_type": "code",
   "execution_count": 91,
   "metadata": {},
   "outputs": [
    {
     "name": "stdout",
     "output_type": "stream",
     "text": [
      "Precision score (Probability of winning after drop predicted loss): 0.6907730673316709\n"
     ]
    }
   ],
   "source": [
    "p2 = precision_score(y_test,y_pred)\n",
    "print('Precision score (Probability of winning after drop predicted loss): {}'.format(p2))"
   ]
  },
  {
   "cell_type": "code",
   "execution_count": 92,
   "metadata": {},
   "outputs": [
    {
     "data": {
      "text/plain": [
       " 1.0    277\n",
       "-1.0    124\n",
       "Name: pnl, dtype: int64"
      ]
     },
     "execution_count": 92,
     "metadata": {},
     "output_type": "execute_result"
    }
   ],
   "source": [
    "# After drop predicted loss\n",
    "y_2nd = y_test.drop(index=y_pred.loc[y_pred==-1].index)\n",
    "\n",
    "y_2nd.value_counts()"
   ]
  },
  {
   "cell_type": "code",
   "execution_count": 93,
   "metadata": {},
   "outputs": [
    {
     "name": "stdout",
     "output_type": "stream",
     "text": [
      "Probabilities of winning (p):  0.6907730673316709\n"
     ]
    }
   ],
   "source": [
    "p2 = y_2nd.value_counts().iloc[0]/(y_2nd.value_counts().iloc[0]+y_2nd.value_counts().iloc[1])\n",
    "print('Probabilities of winning (p): ',p2)"
   ]
  },
  {
   "cell_type": "code",
   "execution_count": 94,
   "metadata": {},
   "outputs": [
    {
     "name": "stdout",
     "output_type": "stream",
     "text": [
      "Total Sharpe Ratio:  8.265761963292833\n"
     ]
    }
   ],
   "source": [
    "asr = np.sqrt(len(y_2nd))*(p2-0.5)/np.sqrt(p2*(1-p2))\n",
    "print('Total Sharpe Ratio: ',asr)"
   ]
  },
  {
   "cell_type": "code",
   "execution_count": 95,
   "metadata": {},
   "outputs": [],
   "source": [
    "returns2 = returns.loc[y_2nd.index]"
   ]
  },
  {
   "cell_type": "code",
   "execution_count": 96,
   "metadata": {},
   "outputs": [
    {
     "data": {
      "text/plain": [
       "Date\n",
       "2017-11-27    0.049443\n",
       "2017-11-28    0.049176\n",
       "2017-11-29    0.049785\n",
       "2017-11-30    0.053628\n",
       "2017-12-01    0.049643\n",
       "                ...   \n",
       "2021-03-16    0.049186\n",
       "2021-03-17    0.049119\n",
       "2021-03-26    0.049009\n",
       "2021-03-30    0.052171\n",
       "2021-03-31    0.051462\n",
       "Name: ret, Length: 401, dtype: float64"
      ]
     },
     "execution_count": 96,
     "metadata": {},
     "output_type": "execute_result"
    }
   ],
   "source": [
    "returns2"
   ]
  },
  {
   "cell_type": "code",
   "execution_count": 97,
   "metadata": {},
   "outputs": [
    {
     "data": {
      "image/png": "[encoded data removed]",
      "text/plain": [
       "<Figure size 432x288 with 1 Axes>"
      ]
     },
     "metadata": {},
     "output_type": "display_data"
    }
   ],
   "source": [
    "plt.plot((returns2-0.0005).cumsum())\n",
    "plt.title('2nd Model: Cumulative sum of returns without transcation cost')\n",
    "plt.show()"
   ]
  },
  {
   "cell_type": "markdown",
   "metadata": {},
   "source": [
    "Results\n",
    "\n",
    "<Increasing p (probability of winning)>\n",
    "- from first strategy, we get $p = \\frac{P}{P+L}$\n",
    "- after training and predicting the PnL points, we drop predicted loss points (TN+FP),\n",
    "thus we get $\\hat{p} =  \\frac{P-FL}{(P-FL) + (L-TL)} = \\frac{TP+FL-FL}{(TP+FL-FL) + (TL+FP-TL)} = \\frac{TP}{TP+FP}$\n",
    ", which is the precision score of 2nd model.\n",
    "\n",
    "- If $\\hat{p}>p$, this helps.\n",
    "\n",
    "And,\n",
    "\n",
    "keep opportunities as many as possible\n",
    "- n is also important\n",
    "- let the model do not lose many opportunities\n",
    "- but how? - further study needed"
   ]
  }
 ],
 "metadata": {
  "kernelspec": {
   "display_name": "Python 3",
   "language": "python",
   "name": "python3"
  },
  "language_info": {
   "codemirror_mode": {
    "name": "ipython",
    "version": 3
   },
   "file_extension": ".py",
   "mimetype": "text/x-python",
   "name": "python",
   "nbconvert_exporter": "python",
   "pygments_lexer": "ipython3",
   "version": "3.7.7"
  }
 },
 "nbformat": 4,
 "nbformat_minor": 4
}
